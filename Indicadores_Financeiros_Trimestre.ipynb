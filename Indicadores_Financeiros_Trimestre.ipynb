{
  "nbformat": 4,
  "nbformat_minor": 0,
  "metadata": {
    "colab": {
      "provenance": [],
      "authorship_tag": "ABX9TyOROw5uSsPhUFdtUr1XqB6/",
      "include_colab_link": true
    },
    "kernelspec": {
      "name": "python3",
      "display_name": "Python 3"
    },
    "language_info": {
      "name": "python"
    }
  },
  "cells": [
    {
      "cell_type": "markdown",
      "metadata": {
        "id": "view-in-github",
        "colab_type": "text"
      },
      "source": [
        "<a href=\"https://colab.research.google.com/github/Latamila/SeriesTemporais_BolsadeValores_Yahoo/blob/main/Indicadores_Financeiros_Trimestre.ipynb\" target=\"_parent\"><img src=\"https://colab.research.google.com/assets/colab-badge.svg\" alt=\"Open In Colab\"/></a>"
      ]
    },
    {
      "cell_type": "markdown",
      "source": [
        "#PREVENDO INIDICADORES FINANCEIROS POR TRIMESTRE\n",
        "\n",
        "---"
      ],
      "metadata": {
        "id": "-IkpMzIR51vz"
      }
    },
    {
      "cell_type": "code",
      "execution_count": 1,
      "metadata": {
        "colab": {
          "base_uri": "https://localhost:8080/"
        },
        "id": "eYKgC5wEydAL",
        "outputId": "9e9a96f6-254c-4fb4-c05c-23ef0929bd2e"
      },
      "outputs": [
        {
          "output_type": "stream",
          "name": "stdout",
          "text": [
            "Versão da Linguagem Python Usada Neste Jupyter Notebook: 3.10.12\n"
          ]
        }
      ],
      "source": [
        "# Versão da Linguagem Python\n",
        "from platform import python_version\n",
        "print('Versão da Linguagem Python Usada Neste Jupyter Notebook:', python_version())"
      ]
    },
    {
      "cell_type": "code",
      "source": [
        "!pip install -q -U watermark"
      ],
      "metadata": {
        "colab": {
          "base_uri": "https://localhost:8080/"
        },
        "id": "7uQq4cMiysAw",
        "outputId": "37e19261-f363-4b44-a3cc-13c647a137d3"
      },
      "execution_count": 5,
      "outputs": [
        {
          "output_type": "stream",
          "name": "stdout",
          "text": [
            "\u001b[2K     \u001b[90m━━━━━━━━━━━━━━━━━━━━━━━━━━━━━━━━━━━━━━━━\u001b[0m \u001b[32m1.6/1.6 MB\u001b[0m \u001b[31m7.4 MB/s\u001b[0m eta \u001b[36m0:00:00\u001b[0m\n",
            "\u001b[?25h"
          ]
        }
      ]
    },
    {
      "cell_type": "code",
      "source": [
        "import os\n",
        "os.environ['TF_CPP_MIN_LOG_LEVEL'] = '3'"
      ],
      "metadata": {
        "id": "9qh3NEOoyw8i"
      },
      "execution_count": 2,
      "outputs": []
    },
    {
      "cell_type": "code",
      "source": [
        "# Imports\n",
        "import pandas as pd\n",
        "import numpy as np\n",
        "import sklearn\n",
        "import tensorflow\n",
        "import matplotlib.pyplot as plt\n",
        "from tensorflow.keras.models import Sequential\n",
        "from tensorflow.keras.layers import LSTM, Dense\n",
        "from sklearn.preprocessing import StandardScaler\n",
        "from sklearn.metrics import mean_squared_error"
      ],
      "metadata": {
        "id": "FW9xESZ6y1_e"
      },
      "execution_count": 3,
      "outputs": []
    },
    {
      "cell_type": "code",
      "source": [
        "# Versões dos pacotes usados neste jupyter notebook\n",
        "%reload_ext watermark\n",
        "%watermark -a \"Data Science Academy\" --iversions"
      ],
      "metadata": {
        "colab": {
          "base_uri": "https://localhost:8080/"
        },
        "id": "JQ61ggzwy8FU",
        "outputId": "9b7cc969-18e4-462a-9c4a-3e95e0db43c7"
      },
      "execution_count": 6,
      "outputs": [
        {
          "output_type": "stream",
          "name": "stdout",
          "text": [
            "Author: Data Science Academy\n",
            "\n",
            "numpy     : 1.23.5\n",
            "pandas    : 1.5.3\n",
            "tensorflow: 2.15.0\n",
            "matplotlib: 3.7.1\n",
            "sklearn   : 1.2.2\n",
            "\n"
          ]
        }
      ]
    },
    {
      "cell_type": "code",
      "source": [
        "# Carrega o dataset\n",
        "df_dsa = pd.read_csv('dataset.csv')"
      ],
      "metadata": {
        "id": "r_159drfzBBt"
      },
      "execution_count": 8,
      "outputs": []
    },
    {
      "cell_type": "code",
      "source": [
        "# Shape dos dados\n",
        "df_dsa.shape"
      ],
      "metadata": {
        "colab": {
          "base_uri": "https://localhost:8080/"
        },
        "id": "lKo_gtbVzSlu",
        "outputId": "13ee1ac7-3fdd-4b98-ce19-ab22219d7485"
      },
      "execution_count": 9,
      "outputs": [
        {
          "output_type": "execute_result",
          "data": {
            "text/plain": [
              "(63, 8)"
            ]
          },
          "metadata": {},
          "execution_count": 9
        }
      ]
    },
    {
      "cell_type": "code",
      "source": [
        "# Visualiza os 5 primeiros registros\n",
        "df_dsa.head()"
      ],
      "metadata": {
        "colab": {
          "base_uri": "https://localhost:8080/",
          "height": 313
        },
        "id": "rLPTzPFNzXD_",
        "outputId": "2d840962-97f1-480c-edcf-9192fe26c368"
      },
      "execution_count": 10,
      "outputs": [
        {
          "output_type": "execute_result",
          "data": {
            "text/plain": [
              "     meses  receita_total_ops  custo_func  depreciacao  outras_despesas  \\\n",
              "0  2023-06            1388.12       92.33       153.50           284.64   \n",
              "1  2023-03            1383.82       86.93       152.50           304.13   \n",
              "2  2022-12            1378.24       70.64       152.10           909.83   \n",
              "3  2022-09            1220.58       59.75       154.74          1339.39   \n",
              "4  2022-06            1254.51       77.38       153.64          1564.59   \n",
              "\n",
              "   outras_receitas   juros  lucro_ou_prejuizo_liquido_do_periodo  \n",
              "0          1528.18  784.27                                194.15  \n",
              "1          1458.58  744.37                                191.85  \n",
              "2           428.06  650.46                                 11.40  \n",
              "3           514.67  632.22                               -298.18  \n",
              "4           597.48  653.34                               -384.50  "
            ],
            "text/html": [
              "\n",
              "  <div id=\"df-4ea3764d-daeb-4c5d-8135-c0441385862c\" class=\"colab-df-container\">\n",
              "    <div>\n",
              "<style scoped>\n",
              "    .dataframe tbody tr th:only-of-type {\n",
              "        vertical-align: middle;\n",
              "    }\n",
              "\n",
              "    .dataframe tbody tr th {\n",
              "        vertical-align: top;\n",
              "    }\n",
              "\n",
              "    .dataframe thead th {\n",
              "        text-align: right;\n",
              "    }\n",
              "</style>\n",
              "<table border=\"1\" class=\"dataframe\">\n",
              "  <thead>\n",
              "    <tr style=\"text-align: right;\">\n",
              "      <th></th>\n",
              "      <th>meses</th>\n",
              "      <th>receita_total_ops</th>\n",
              "      <th>custo_func</th>\n",
              "      <th>depreciacao</th>\n",
              "      <th>outras_despesas</th>\n",
              "      <th>outras_receitas</th>\n",
              "      <th>juros</th>\n",
              "      <th>lucro_ou_prejuizo_liquido_do_periodo</th>\n",
              "    </tr>\n",
              "  </thead>\n",
              "  <tbody>\n",
              "    <tr>\n",
              "      <th>0</th>\n",
              "      <td>2023-06</td>\n",
              "      <td>1388.12</td>\n",
              "      <td>92.33</td>\n",
              "      <td>153.50</td>\n",
              "      <td>284.64</td>\n",
              "      <td>1528.18</td>\n",
              "      <td>784.27</td>\n",
              "      <td>194.15</td>\n",
              "    </tr>\n",
              "    <tr>\n",
              "      <th>1</th>\n",
              "      <td>2023-03</td>\n",
              "      <td>1383.82</td>\n",
              "      <td>86.93</td>\n",
              "      <td>152.50</td>\n",
              "      <td>304.13</td>\n",
              "      <td>1458.58</td>\n",
              "      <td>744.37</td>\n",
              "      <td>191.85</td>\n",
              "    </tr>\n",
              "    <tr>\n",
              "      <th>2</th>\n",
              "      <td>2022-12</td>\n",
              "      <td>1378.24</td>\n",
              "      <td>70.64</td>\n",
              "      <td>152.10</td>\n",
              "      <td>909.83</td>\n",
              "      <td>428.06</td>\n",
              "      <td>650.46</td>\n",
              "      <td>11.40</td>\n",
              "    </tr>\n",
              "    <tr>\n",
              "      <th>3</th>\n",
              "      <td>2022-09</td>\n",
              "      <td>1220.58</td>\n",
              "      <td>59.75</td>\n",
              "      <td>154.74</td>\n",
              "      <td>1339.39</td>\n",
              "      <td>514.67</td>\n",
              "      <td>632.22</td>\n",
              "      <td>-298.18</td>\n",
              "    </tr>\n",
              "    <tr>\n",
              "      <th>4</th>\n",
              "      <td>2022-06</td>\n",
              "      <td>1254.51</td>\n",
              "      <td>77.38</td>\n",
              "      <td>153.64</td>\n",
              "      <td>1564.59</td>\n",
              "      <td>597.48</td>\n",
              "      <td>653.34</td>\n",
              "      <td>-384.50</td>\n",
              "    </tr>\n",
              "  </tbody>\n",
              "</table>\n",
              "</div>\n",
              "    <div class=\"colab-df-buttons\">\n",
              "\n",
              "  <div class=\"colab-df-container\">\n",
              "    <button class=\"colab-df-convert\" onclick=\"convertToInteractive('df-4ea3764d-daeb-4c5d-8135-c0441385862c')\"\n",
              "            title=\"Convert this dataframe to an interactive table.\"\n",
              "            style=\"display:none;\">\n",
              "\n",
              "  <svg xmlns=\"http://www.w3.org/2000/svg\" height=\"24px\" viewBox=\"0 -960 960 960\">\n",
              "    <path d=\"M120-120v-720h720v720H120Zm60-500h600v-160H180v160Zm220 220h160v-160H400v160Zm0 220h160v-160H400v160ZM180-400h160v-160H180v160Zm440 0h160v-160H620v160ZM180-180h160v-160H180v160Zm440 0h160v-160H620v160Z\"/>\n",
              "  </svg>\n",
              "    </button>\n",
              "\n",
              "  <style>\n",
              "    .colab-df-container {\n",
              "      display:flex;\n",
              "      gap: 12px;\n",
              "    }\n",
              "\n",
              "    .colab-df-convert {\n",
              "      background-color: #E8F0FE;\n",
              "      border: none;\n",
              "      border-radius: 50%;\n",
              "      cursor: pointer;\n",
              "      display: none;\n",
              "      fill: #1967D2;\n",
              "      height: 32px;\n",
              "      padding: 0 0 0 0;\n",
              "      width: 32px;\n",
              "    }\n",
              "\n",
              "    .colab-df-convert:hover {\n",
              "      background-color: #E2EBFA;\n",
              "      box-shadow: 0px 1px 2px rgba(60, 64, 67, 0.3), 0px 1px 3px 1px rgba(60, 64, 67, 0.15);\n",
              "      fill: #174EA6;\n",
              "    }\n",
              "\n",
              "    .colab-df-buttons div {\n",
              "      margin-bottom: 4px;\n",
              "    }\n",
              "\n",
              "    [theme=dark] .colab-df-convert {\n",
              "      background-color: #3B4455;\n",
              "      fill: #D2E3FC;\n",
              "    }\n",
              "\n",
              "    [theme=dark] .colab-df-convert:hover {\n",
              "      background-color: #434B5C;\n",
              "      box-shadow: 0px 1px 3px 1px rgba(0, 0, 0, 0.15);\n",
              "      filter: drop-shadow(0px 1px 2px rgba(0, 0, 0, 0.3));\n",
              "      fill: #FFFFFF;\n",
              "    }\n",
              "  </style>\n",
              "\n",
              "    <script>\n",
              "      const buttonEl =\n",
              "        document.querySelector('#df-4ea3764d-daeb-4c5d-8135-c0441385862c button.colab-df-convert');\n",
              "      buttonEl.style.display =\n",
              "        google.colab.kernel.accessAllowed ? 'block' : 'none';\n",
              "\n",
              "      async function convertToInteractive(key) {\n",
              "        const element = document.querySelector('#df-4ea3764d-daeb-4c5d-8135-c0441385862c');\n",
              "        const dataTable =\n",
              "          await google.colab.kernel.invokeFunction('convertToInteractive',\n",
              "                                                    [key], {});\n",
              "        if (!dataTable) return;\n",
              "\n",
              "        const docLinkHtml = 'Like what you see? Visit the ' +\n",
              "          '<a target=\"_blank\" href=https://colab.research.google.com/notebooks/data_table.ipynb>data table notebook</a>'\n",
              "          + ' to learn more about interactive tables.';\n",
              "        element.innerHTML = '';\n",
              "        dataTable['output_type'] = 'display_data';\n",
              "        await google.colab.output.renderOutput(dataTable, element);\n",
              "        const docLink = document.createElement('div');\n",
              "        docLink.innerHTML = docLinkHtml;\n",
              "        element.appendChild(docLink);\n",
              "      }\n",
              "    </script>\n",
              "  </div>\n",
              "\n",
              "\n",
              "<div id=\"df-b4b434dd-93cf-4410-b60c-b74678aa8dbc\">\n",
              "  <button class=\"colab-df-quickchart\" onclick=\"quickchart('df-b4b434dd-93cf-4410-b60c-b74678aa8dbc')\"\n",
              "            title=\"Suggest charts\"\n",
              "            style=\"display:none;\">\n",
              "\n",
              "<svg xmlns=\"http://www.w3.org/2000/svg\" height=\"24px\"viewBox=\"0 0 24 24\"\n",
              "     width=\"24px\">\n",
              "    <g>\n",
              "        <path d=\"M19 3H5c-1.1 0-2 .9-2 2v14c0 1.1.9 2 2 2h14c1.1 0 2-.9 2-2V5c0-1.1-.9-2-2-2zM9 17H7v-7h2v7zm4 0h-2V7h2v10zm4 0h-2v-4h2v4z\"/>\n",
              "    </g>\n",
              "</svg>\n",
              "  </button>\n",
              "\n",
              "<style>\n",
              "  .colab-df-quickchart {\n",
              "      --bg-color: #E8F0FE;\n",
              "      --fill-color: #1967D2;\n",
              "      --hover-bg-color: #E2EBFA;\n",
              "      --hover-fill-color: #174EA6;\n",
              "      --disabled-fill-color: #AAA;\n",
              "      --disabled-bg-color: #DDD;\n",
              "  }\n",
              "\n",
              "  [theme=dark] .colab-df-quickchart {\n",
              "      --bg-color: #3B4455;\n",
              "      --fill-color: #D2E3FC;\n",
              "      --hover-bg-color: #434B5C;\n",
              "      --hover-fill-color: #FFFFFF;\n",
              "      --disabled-bg-color: #3B4455;\n",
              "      --disabled-fill-color: #666;\n",
              "  }\n",
              "\n",
              "  .colab-df-quickchart {\n",
              "    background-color: var(--bg-color);\n",
              "    border: none;\n",
              "    border-radius: 50%;\n",
              "    cursor: pointer;\n",
              "    display: none;\n",
              "    fill: var(--fill-color);\n",
              "    height: 32px;\n",
              "    padding: 0;\n",
              "    width: 32px;\n",
              "  }\n",
              "\n",
              "  .colab-df-quickchart:hover {\n",
              "    background-color: var(--hover-bg-color);\n",
              "    box-shadow: 0 1px 2px rgba(60, 64, 67, 0.3), 0 1px 3px 1px rgba(60, 64, 67, 0.15);\n",
              "    fill: var(--button-hover-fill-color);\n",
              "  }\n",
              "\n",
              "  .colab-df-quickchart-complete:disabled,\n",
              "  .colab-df-quickchart-complete:disabled:hover {\n",
              "    background-color: var(--disabled-bg-color);\n",
              "    fill: var(--disabled-fill-color);\n",
              "    box-shadow: none;\n",
              "  }\n",
              "\n",
              "  .colab-df-spinner {\n",
              "    border: 2px solid var(--fill-color);\n",
              "    border-color: transparent;\n",
              "    border-bottom-color: var(--fill-color);\n",
              "    animation:\n",
              "      spin 1s steps(1) infinite;\n",
              "  }\n",
              "\n",
              "  @keyframes spin {\n",
              "    0% {\n",
              "      border-color: transparent;\n",
              "      border-bottom-color: var(--fill-color);\n",
              "      border-left-color: var(--fill-color);\n",
              "    }\n",
              "    20% {\n",
              "      border-color: transparent;\n",
              "      border-left-color: var(--fill-color);\n",
              "      border-top-color: var(--fill-color);\n",
              "    }\n",
              "    30% {\n",
              "      border-color: transparent;\n",
              "      border-left-color: var(--fill-color);\n",
              "      border-top-color: var(--fill-color);\n",
              "      border-right-color: var(--fill-color);\n",
              "    }\n",
              "    40% {\n",
              "      border-color: transparent;\n",
              "      border-right-color: var(--fill-color);\n",
              "      border-top-color: var(--fill-color);\n",
              "    }\n",
              "    60% {\n",
              "      border-color: transparent;\n",
              "      border-right-color: var(--fill-color);\n",
              "    }\n",
              "    80% {\n",
              "      border-color: transparent;\n",
              "      border-right-color: var(--fill-color);\n",
              "      border-bottom-color: var(--fill-color);\n",
              "    }\n",
              "    90% {\n",
              "      border-color: transparent;\n",
              "      border-bottom-color: var(--fill-color);\n",
              "    }\n",
              "  }\n",
              "</style>\n",
              "\n",
              "  <script>\n",
              "    async function quickchart(key) {\n",
              "      const quickchartButtonEl =\n",
              "        document.querySelector('#' + key + ' button');\n",
              "      quickchartButtonEl.disabled = true;  // To prevent multiple clicks.\n",
              "      quickchartButtonEl.classList.add('colab-df-spinner');\n",
              "      try {\n",
              "        const charts = await google.colab.kernel.invokeFunction(\n",
              "            'suggestCharts', [key], {});\n",
              "      } catch (error) {\n",
              "        console.error('Error during call to suggestCharts:', error);\n",
              "      }\n",
              "      quickchartButtonEl.classList.remove('colab-df-spinner');\n",
              "      quickchartButtonEl.classList.add('colab-df-quickchart-complete');\n",
              "    }\n",
              "    (() => {\n",
              "      let quickchartButtonEl =\n",
              "        document.querySelector('#df-b4b434dd-93cf-4410-b60c-b74678aa8dbc button');\n",
              "      quickchartButtonEl.style.display =\n",
              "        google.colab.kernel.accessAllowed ? 'block' : 'none';\n",
              "    })();\n",
              "  </script>\n",
              "</div>\n",
              "\n",
              "    </div>\n",
              "  </div>\n"
            ]
          },
          "metadata": {},
          "execution_count": 10
        }
      ]
    },
    {
      "cell_type": "code",
      "source": [
        "# Ordena os dados pela coluna que representa o tempo (isso é importante devido ao modelo que iremos usar)\n",
        "df_dsa = df_dsa.sort_values(\"meses\")"
      ],
      "metadata": {
        "id": "lCd8zfHWzayW"
      },
      "execution_count": 11,
      "outputs": []
    },
    {
      "cell_type": "code",
      "source": [
        "# Reset do índice (sempre que fizer qualquer alteração no dataframe)\n",
        "df_dsa = df_dsa.reset_index(drop = True)"
      ],
      "metadata": {
        "id": "_6K5Las1zdSX"
      },
      "execution_count": 12,
      "outputs": []
    },
    {
      "cell_type": "code",
      "source": [
        "# Definindo as variáveis que serão usadas para as previsões (variáveis de índice 1 a 8)\n",
        "cols = list(df_dsa)[1:8]"
      ],
      "metadata": {
        "id": "FFLJWAhwzhUQ"
      },
      "execution_count": 13,
      "outputs": []
    },
    {
      "cell_type": "code",
      "source": [
        "# Visualiza as colunas\n",
        "print(cols)"
      ],
      "metadata": {
        "colab": {
          "base_uri": "https://localhost:8080/"
        },
        "id": "18plwY_UzjB7",
        "outputId": "76a3a129-716b-4bc5-bd72-336f1442e4eb"
      },
      "execution_count": 14,
      "outputs": [
        {
          "output_type": "stream",
          "name": "stdout",
          "text": [
            "['receita_total_ops', 'custo_func', 'depreciacao', 'outras_despesas', 'outras_receitas', 'juros', 'lucro_ou_prejuizo_liquido_do_periodo']\n"
          ]
        }
      ]
    },
    {
      "cell_type": "code",
      "source": [
        "# Converte as variáveis para o tipo float a fim de aumentar a precisão dos cálculos e cria o dataframe de treino\n",
        "df_treino = df_dsa[cols].astype(float)"
      ],
      "metadata": {
        "id": "oD7LGTayzluJ"
      },
      "execution_count": 15,
      "outputs": []
    },
    {
      "cell_type": "code",
      "source": [
        "# Visualiza os 5 primeiros registros\n",
        "df_treino.head()"
      ],
      "metadata": {
        "colab": {
          "base_uri": "https://localhost:8080/",
          "height": 226
        },
        "id": "LXuN5Qd1zqay",
        "outputId": "95bb6b75-2b96-42dc-8dd3-ba62423d2388"
      },
      "execution_count": 16,
      "outputs": [
        {
          "output_type": "execute_result",
          "data": {
            "text/plain": [
              "   receita_total_ops  custo_func  depreciacao  outras_despesas  \\\n",
              "0             205.35        6.22        26.89            56.44   \n",
              "1             328.65        8.71        29.15            59.46   \n",
              "2             253.73        8.61        31.16            45.64   \n",
              "3             296.00        8.73        32.18            64.05   \n",
              "4             300.89        8.91        34.75            87.28   \n",
              "\n",
              "   outras_receitas  juros  lucro_ou_prejuizo_liquido_do_periodo  \n",
              "0             4.65  30.67                                 52.44  \n",
              "1            20.91  31.95                                 91.10  \n",
              "2            20.04  39.60                                 96.80  \n",
              "3             7.78  55.18                                112.28  \n",
              "4             2.39  49.51                                100.81  "
            ],
            "text/html": [
              "\n",
              "  <div id=\"df-3f3b3719-fc9b-4ce5-b58c-2788395563dc\" class=\"colab-df-container\">\n",
              "    <div>\n",
              "<style scoped>\n",
              "    .dataframe tbody tr th:only-of-type {\n",
              "        vertical-align: middle;\n",
              "    }\n",
              "\n",
              "    .dataframe tbody tr th {\n",
              "        vertical-align: top;\n",
              "    }\n",
              "\n",
              "    .dataframe thead th {\n",
              "        text-align: right;\n",
              "    }\n",
              "</style>\n",
              "<table border=\"1\" class=\"dataframe\">\n",
              "  <thead>\n",
              "    <tr style=\"text-align: right;\">\n",
              "      <th></th>\n",
              "      <th>receita_total_ops</th>\n",
              "      <th>custo_func</th>\n",
              "      <th>depreciacao</th>\n",
              "      <th>outras_despesas</th>\n",
              "      <th>outras_receitas</th>\n",
              "      <th>juros</th>\n",
              "      <th>lucro_ou_prejuizo_liquido_do_periodo</th>\n",
              "    </tr>\n",
              "  </thead>\n",
              "  <tbody>\n",
              "    <tr>\n",
              "      <th>0</th>\n",
              "      <td>205.35</td>\n",
              "      <td>6.22</td>\n",
              "      <td>26.89</td>\n",
              "      <td>56.44</td>\n",
              "      <td>4.65</td>\n",
              "      <td>30.67</td>\n",
              "      <td>52.44</td>\n",
              "    </tr>\n",
              "    <tr>\n",
              "      <th>1</th>\n",
              "      <td>328.65</td>\n",
              "      <td>8.71</td>\n",
              "      <td>29.15</td>\n",
              "      <td>59.46</td>\n",
              "      <td>20.91</td>\n",
              "      <td>31.95</td>\n",
              "      <td>91.10</td>\n",
              "    </tr>\n",
              "    <tr>\n",
              "      <th>2</th>\n",
              "      <td>253.73</td>\n",
              "      <td>8.61</td>\n",
              "      <td>31.16</td>\n",
              "      <td>45.64</td>\n",
              "      <td>20.04</td>\n",
              "      <td>39.60</td>\n",
              "      <td>96.80</td>\n",
              "    </tr>\n",
              "    <tr>\n",
              "      <th>3</th>\n",
              "      <td>296.00</td>\n",
              "      <td>8.73</td>\n",
              "      <td>32.18</td>\n",
              "      <td>64.05</td>\n",
              "      <td>7.78</td>\n",
              "      <td>55.18</td>\n",
              "      <td>112.28</td>\n",
              "    </tr>\n",
              "    <tr>\n",
              "      <th>4</th>\n",
              "      <td>300.89</td>\n",
              "      <td>8.91</td>\n",
              "      <td>34.75</td>\n",
              "      <td>87.28</td>\n",
              "      <td>2.39</td>\n",
              "      <td>49.51</td>\n",
              "      <td>100.81</td>\n",
              "    </tr>\n",
              "  </tbody>\n",
              "</table>\n",
              "</div>\n",
              "    <div class=\"colab-df-buttons\">\n",
              "\n",
              "  <div class=\"colab-df-container\">\n",
              "    <button class=\"colab-df-convert\" onclick=\"convertToInteractive('df-3f3b3719-fc9b-4ce5-b58c-2788395563dc')\"\n",
              "            title=\"Convert this dataframe to an interactive table.\"\n",
              "            style=\"display:none;\">\n",
              "\n",
              "  <svg xmlns=\"http://www.w3.org/2000/svg\" height=\"24px\" viewBox=\"0 -960 960 960\">\n",
              "    <path d=\"M120-120v-720h720v720H120Zm60-500h600v-160H180v160Zm220 220h160v-160H400v160Zm0 220h160v-160H400v160ZM180-400h160v-160H180v160Zm440 0h160v-160H620v160ZM180-180h160v-160H180v160Zm440 0h160v-160H620v160Z\"/>\n",
              "  </svg>\n",
              "    </button>\n",
              "\n",
              "  <style>\n",
              "    .colab-df-container {\n",
              "      display:flex;\n",
              "      gap: 12px;\n",
              "    }\n",
              "\n",
              "    .colab-df-convert {\n",
              "      background-color: #E8F0FE;\n",
              "      border: none;\n",
              "      border-radius: 50%;\n",
              "      cursor: pointer;\n",
              "      display: none;\n",
              "      fill: #1967D2;\n",
              "      height: 32px;\n",
              "      padding: 0 0 0 0;\n",
              "      width: 32px;\n",
              "    }\n",
              "\n",
              "    .colab-df-convert:hover {\n",
              "      background-color: #E2EBFA;\n",
              "      box-shadow: 0px 1px 2px rgba(60, 64, 67, 0.3), 0px 1px 3px 1px rgba(60, 64, 67, 0.15);\n",
              "      fill: #174EA6;\n",
              "    }\n",
              "\n",
              "    .colab-df-buttons div {\n",
              "      margin-bottom: 4px;\n",
              "    }\n",
              "\n",
              "    [theme=dark] .colab-df-convert {\n",
              "      background-color: #3B4455;\n",
              "      fill: #D2E3FC;\n",
              "    }\n",
              "\n",
              "    [theme=dark] .colab-df-convert:hover {\n",
              "      background-color: #434B5C;\n",
              "      box-shadow: 0px 1px 3px 1px rgba(0, 0, 0, 0.15);\n",
              "      filter: drop-shadow(0px 1px 2px rgba(0, 0, 0, 0.3));\n",
              "      fill: #FFFFFF;\n",
              "    }\n",
              "  </style>\n",
              "\n",
              "    <script>\n",
              "      const buttonEl =\n",
              "        document.querySelector('#df-3f3b3719-fc9b-4ce5-b58c-2788395563dc button.colab-df-convert');\n",
              "      buttonEl.style.display =\n",
              "        google.colab.kernel.accessAllowed ? 'block' : 'none';\n",
              "\n",
              "      async function convertToInteractive(key) {\n",
              "        const element = document.querySelector('#df-3f3b3719-fc9b-4ce5-b58c-2788395563dc');\n",
              "        const dataTable =\n",
              "          await google.colab.kernel.invokeFunction('convertToInteractive',\n",
              "                                                    [key], {});\n",
              "        if (!dataTable) return;\n",
              "\n",
              "        const docLinkHtml = 'Like what you see? Visit the ' +\n",
              "          '<a target=\"_blank\" href=https://colab.research.google.com/notebooks/data_table.ipynb>data table notebook</a>'\n",
              "          + ' to learn more about interactive tables.';\n",
              "        element.innerHTML = '';\n",
              "        dataTable['output_type'] = 'display_data';\n",
              "        await google.colab.output.renderOutput(dataTable, element);\n",
              "        const docLink = document.createElement('div');\n",
              "        docLink.innerHTML = docLinkHtml;\n",
              "        element.appendChild(docLink);\n",
              "      }\n",
              "    </script>\n",
              "  </div>\n",
              "\n",
              "\n",
              "<div id=\"df-6bbe73cc-aa08-45e0-83b7-afebf483bf96\">\n",
              "  <button class=\"colab-df-quickchart\" onclick=\"quickchart('df-6bbe73cc-aa08-45e0-83b7-afebf483bf96')\"\n",
              "            title=\"Suggest charts\"\n",
              "            style=\"display:none;\">\n",
              "\n",
              "<svg xmlns=\"http://www.w3.org/2000/svg\" height=\"24px\"viewBox=\"0 0 24 24\"\n",
              "     width=\"24px\">\n",
              "    <g>\n",
              "        <path d=\"M19 3H5c-1.1 0-2 .9-2 2v14c0 1.1.9 2 2 2h14c1.1 0 2-.9 2-2V5c0-1.1-.9-2-2-2zM9 17H7v-7h2v7zm4 0h-2V7h2v10zm4 0h-2v-4h2v4z\"/>\n",
              "    </g>\n",
              "</svg>\n",
              "  </button>\n",
              "\n",
              "<style>\n",
              "  .colab-df-quickchart {\n",
              "      --bg-color: #E8F0FE;\n",
              "      --fill-color: #1967D2;\n",
              "      --hover-bg-color: #E2EBFA;\n",
              "      --hover-fill-color: #174EA6;\n",
              "      --disabled-fill-color: #AAA;\n",
              "      --disabled-bg-color: #DDD;\n",
              "  }\n",
              "\n",
              "  [theme=dark] .colab-df-quickchart {\n",
              "      --bg-color: #3B4455;\n",
              "      --fill-color: #D2E3FC;\n",
              "      --hover-bg-color: #434B5C;\n",
              "      --hover-fill-color: #FFFFFF;\n",
              "      --disabled-bg-color: #3B4455;\n",
              "      --disabled-fill-color: #666;\n",
              "  }\n",
              "\n",
              "  .colab-df-quickchart {\n",
              "    background-color: var(--bg-color);\n",
              "    border: none;\n",
              "    border-radius: 50%;\n",
              "    cursor: pointer;\n",
              "    display: none;\n",
              "    fill: var(--fill-color);\n",
              "    height: 32px;\n",
              "    padding: 0;\n",
              "    width: 32px;\n",
              "  }\n",
              "\n",
              "  .colab-df-quickchart:hover {\n",
              "    background-color: var(--hover-bg-color);\n",
              "    box-shadow: 0 1px 2px rgba(60, 64, 67, 0.3), 0 1px 3px 1px rgba(60, 64, 67, 0.15);\n",
              "    fill: var(--button-hover-fill-color);\n",
              "  }\n",
              "\n",
              "  .colab-df-quickchart-complete:disabled,\n",
              "  .colab-df-quickchart-complete:disabled:hover {\n",
              "    background-color: var(--disabled-bg-color);\n",
              "    fill: var(--disabled-fill-color);\n",
              "    box-shadow: none;\n",
              "  }\n",
              "\n",
              "  .colab-df-spinner {\n",
              "    border: 2px solid var(--fill-color);\n",
              "    border-color: transparent;\n",
              "    border-bottom-color: var(--fill-color);\n",
              "    animation:\n",
              "      spin 1s steps(1) infinite;\n",
              "  }\n",
              "\n",
              "  @keyframes spin {\n",
              "    0% {\n",
              "      border-color: transparent;\n",
              "      border-bottom-color: var(--fill-color);\n",
              "      border-left-color: var(--fill-color);\n",
              "    }\n",
              "    20% {\n",
              "      border-color: transparent;\n",
              "      border-left-color: var(--fill-color);\n",
              "      border-top-color: var(--fill-color);\n",
              "    }\n",
              "    30% {\n",
              "      border-color: transparent;\n",
              "      border-left-color: var(--fill-color);\n",
              "      border-top-color: var(--fill-color);\n",
              "      border-right-color: var(--fill-color);\n",
              "    }\n",
              "    40% {\n",
              "      border-color: transparent;\n",
              "      border-right-color: var(--fill-color);\n",
              "      border-top-color: var(--fill-color);\n",
              "    }\n",
              "    60% {\n",
              "      border-color: transparent;\n",
              "      border-right-color: var(--fill-color);\n",
              "    }\n",
              "    80% {\n",
              "      border-color: transparent;\n",
              "      border-right-color: var(--fill-color);\n",
              "      border-bottom-color: var(--fill-color);\n",
              "    }\n",
              "    90% {\n",
              "      border-color: transparent;\n",
              "      border-bottom-color: var(--fill-color);\n",
              "    }\n",
              "  }\n",
              "</style>\n",
              "\n",
              "  <script>\n",
              "    async function quickchart(key) {\n",
              "      const quickchartButtonEl =\n",
              "        document.querySelector('#' + key + ' button');\n",
              "      quickchartButtonEl.disabled = true;  // To prevent multiple clicks.\n",
              "      quickchartButtonEl.classList.add('colab-df-spinner');\n",
              "      try {\n",
              "        const charts = await google.colab.kernel.invokeFunction(\n",
              "            'suggestCharts', [key], {});\n",
              "      } catch (error) {\n",
              "        console.error('Error during call to suggestCharts:', error);\n",
              "      }\n",
              "      quickchartButtonEl.classList.remove('colab-df-spinner');\n",
              "      quickchartButtonEl.classList.add('colab-df-quickchart-complete');\n",
              "    }\n",
              "    (() => {\n",
              "      let quickchartButtonEl =\n",
              "        document.querySelector('#df-6bbe73cc-aa08-45e0-83b7-afebf483bf96 button');\n",
              "      quickchartButtonEl.style.display =\n",
              "        google.colab.kernel.accessAllowed ? 'block' : 'none';\n",
              "    })();\n",
              "  </script>\n",
              "</div>\n",
              "\n",
              "    </div>\n",
              "  </div>\n"
            ]
          },
          "metadata": {},
          "execution_count": 16
        }
      ]
    },
    {
      "cell_type": "code",
      "source": [
        "# Visualiza os 5 últimos registros\n",
        "df_treino.tail()"
      ],
      "metadata": {
        "colab": {
          "base_uri": "https://localhost:8080/",
          "height": 226
        },
        "id": "IaRTOMI3zr-b",
        "outputId": "65a7d871-1b90-4491-f32a-eafbf2a0fb37"
      },
      "execution_count": 17,
      "outputs": [
        {
          "output_type": "execute_result",
          "data": {
            "text/plain": [
              "    receita_total_ops  custo_func  depreciacao  outras_despesas  \\\n",
              "58            1254.51       77.38       153.64          1564.59   \n",
              "59            1220.58       59.75       154.74          1339.39   \n",
              "60            1378.24       70.64       152.10           909.83   \n",
              "61            1383.82       86.93       152.50           304.13   \n",
              "62            1388.12       92.33       153.50           284.64   \n",
              "\n",
              "    outras_receitas   juros  lucro_ou_prejuizo_liquido_do_periodo  \n",
              "58           597.48  653.34                               -384.50  \n",
              "59           514.67  632.22                               -298.18  \n",
              "60           428.06  650.46                                 11.40  \n",
              "61          1458.58  744.37                                191.85  \n",
              "62          1528.18  784.27                                194.15  "
            ],
            "text/html": [
              "\n",
              "  <div id=\"df-10c446b6-44e9-4f30-8301-7f4ddab307e8\" class=\"colab-df-container\">\n",
              "    <div>\n",
              "<style scoped>\n",
              "    .dataframe tbody tr th:only-of-type {\n",
              "        vertical-align: middle;\n",
              "    }\n",
              "\n",
              "    .dataframe tbody tr th {\n",
              "        vertical-align: top;\n",
              "    }\n",
              "\n",
              "    .dataframe thead th {\n",
              "        text-align: right;\n",
              "    }\n",
              "</style>\n",
              "<table border=\"1\" class=\"dataframe\">\n",
              "  <thead>\n",
              "    <tr style=\"text-align: right;\">\n",
              "      <th></th>\n",
              "      <th>receita_total_ops</th>\n",
              "      <th>custo_func</th>\n",
              "      <th>depreciacao</th>\n",
              "      <th>outras_despesas</th>\n",
              "      <th>outras_receitas</th>\n",
              "      <th>juros</th>\n",
              "      <th>lucro_ou_prejuizo_liquido_do_periodo</th>\n",
              "    </tr>\n",
              "  </thead>\n",
              "  <tbody>\n",
              "    <tr>\n",
              "      <th>58</th>\n",
              "      <td>1254.51</td>\n",
              "      <td>77.38</td>\n",
              "      <td>153.64</td>\n",
              "      <td>1564.59</td>\n",
              "      <td>597.48</td>\n",
              "      <td>653.34</td>\n",
              "      <td>-384.50</td>\n",
              "    </tr>\n",
              "    <tr>\n",
              "      <th>59</th>\n",
              "      <td>1220.58</td>\n",
              "      <td>59.75</td>\n",
              "      <td>154.74</td>\n",
              "      <td>1339.39</td>\n",
              "      <td>514.67</td>\n",
              "      <td>632.22</td>\n",
              "      <td>-298.18</td>\n",
              "    </tr>\n",
              "    <tr>\n",
              "      <th>60</th>\n",
              "      <td>1378.24</td>\n",
              "      <td>70.64</td>\n",
              "      <td>152.10</td>\n",
              "      <td>909.83</td>\n",
              "      <td>428.06</td>\n",
              "      <td>650.46</td>\n",
              "      <td>11.40</td>\n",
              "    </tr>\n",
              "    <tr>\n",
              "      <th>61</th>\n",
              "      <td>1383.82</td>\n",
              "      <td>86.93</td>\n",
              "      <td>152.50</td>\n",
              "      <td>304.13</td>\n",
              "      <td>1458.58</td>\n",
              "      <td>744.37</td>\n",
              "      <td>191.85</td>\n",
              "    </tr>\n",
              "    <tr>\n",
              "      <th>62</th>\n",
              "      <td>1388.12</td>\n",
              "      <td>92.33</td>\n",
              "      <td>153.50</td>\n",
              "      <td>284.64</td>\n",
              "      <td>1528.18</td>\n",
              "      <td>784.27</td>\n",
              "      <td>194.15</td>\n",
              "    </tr>\n",
              "  </tbody>\n",
              "</table>\n",
              "</div>\n",
              "    <div class=\"colab-df-buttons\">\n",
              "\n",
              "  <div class=\"colab-df-container\">\n",
              "    <button class=\"colab-df-convert\" onclick=\"convertToInteractive('df-10c446b6-44e9-4f30-8301-7f4ddab307e8')\"\n",
              "            title=\"Convert this dataframe to an interactive table.\"\n",
              "            style=\"display:none;\">\n",
              "\n",
              "  <svg xmlns=\"http://www.w3.org/2000/svg\" height=\"24px\" viewBox=\"0 -960 960 960\">\n",
              "    <path d=\"M120-120v-720h720v720H120Zm60-500h600v-160H180v160Zm220 220h160v-160H400v160Zm0 220h160v-160H400v160ZM180-400h160v-160H180v160Zm440 0h160v-160H620v160ZM180-180h160v-160H180v160Zm440 0h160v-160H620v160Z\"/>\n",
              "  </svg>\n",
              "    </button>\n",
              "\n",
              "  <style>\n",
              "    .colab-df-container {\n",
              "      display:flex;\n",
              "      gap: 12px;\n",
              "    }\n",
              "\n",
              "    .colab-df-convert {\n",
              "      background-color: #E8F0FE;\n",
              "      border: none;\n",
              "      border-radius: 50%;\n",
              "      cursor: pointer;\n",
              "      display: none;\n",
              "      fill: #1967D2;\n",
              "      height: 32px;\n",
              "      padding: 0 0 0 0;\n",
              "      width: 32px;\n",
              "    }\n",
              "\n",
              "    .colab-df-convert:hover {\n",
              "      background-color: #E2EBFA;\n",
              "      box-shadow: 0px 1px 2px rgba(60, 64, 67, 0.3), 0px 1px 3px 1px rgba(60, 64, 67, 0.15);\n",
              "      fill: #174EA6;\n",
              "    }\n",
              "\n",
              "    .colab-df-buttons div {\n",
              "      margin-bottom: 4px;\n",
              "    }\n",
              "\n",
              "    [theme=dark] .colab-df-convert {\n",
              "      background-color: #3B4455;\n",
              "      fill: #D2E3FC;\n",
              "    }\n",
              "\n",
              "    [theme=dark] .colab-df-convert:hover {\n",
              "      background-color: #434B5C;\n",
              "      box-shadow: 0px 1px 3px 1px rgba(0, 0, 0, 0.15);\n",
              "      filter: drop-shadow(0px 1px 2px rgba(0, 0, 0, 0.3));\n",
              "      fill: #FFFFFF;\n",
              "    }\n",
              "  </style>\n",
              "\n",
              "    <script>\n",
              "      const buttonEl =\n",
              "        document.querySelector('#df-10c446b6-44e9-4f30-8301-7f4ddab307e8 button.colab-df-convert');\n",
              "      buttonEl.style.display =\n",
              "        google.colab.kernel.accessAllowed ? 'block' : 'none';\n",
              "\n",
              "      async function convertToInteractive(key) {\n",
              "        const element = document.querySelector('#df-10c446b6-44e9-4f30-8301-7f4ddab307e8');\n",
              "        const dataTable =\n",
              "          await google.colab.kernel.invokeFunction('convertToInteractive',\n",
              "                                                    [key], {});\n",
              "        if (!dataTable) return;\n",
              "\n",
              "        const docLinkHtml = 'Like what you see? Visit the ' +\n",
              "          '<a target=\"_blank\" href=https://colab.research.google.com/notebooks/data_table.ipynb>data table notebook</a>'\n",
              "          + ' to learn more about interactive tables.';\n",
              "        element.innerHTML = '';\n",
              "        dataTable['output_type'] = 'display_data';\n",
              "        await google.colab.output.renderOutput(dataTable, element);\n",
              "        const docLink = document.createElement('div');\n",
              "        docLink.innerHTML = docLinkHtml;\n",
              "        element.appendChild(docLink);\n",
              "      }\n",
              "    </script>\n",
              "  </div>\n",
              "\n",
              "\n",
              "<div id=\"df-0d1e0ef6-5daf-4fe1-a351-5c18d4cb246f\">\n",
              "  <button class=\"colab-df-quickchart\" onclick=\"quickchart('df-0d1e0ef6-5daf-4fe1-a351-5c18d4cb246f')\"\n",
              "            title=\"Suggest charts\"\n",
              "            style=\"display:none;\">\n",
              "\n",
              "<svg xmlns=\"http://www.w3.org/2000/svg\" height=\"24px\"viewBox=\"0 0 24 24\"\n",
              "     width=\"24px\">\n",
              "    <g>\n",
              "        <path d=\"M19 3H5c-1.1 0-2 .9-2 2v14c0 1.1.9 2 2 2h14c1.1 0 2-.9 2-2V5c0-1.1-.9-2-2-2zM9 17H7v-7h2v7zm4 0h-2V7h2v10zm4 0h-2v-4h2v4z\"/>\n",
              "    </g>\n",
              "</svg>\n",
              "  </button>\n",
              "\n",
              "<style>\n",
              "  .colab-df-quickchart {\n",
              "      --bg-color: #E8F0FE;\n",
              "      --fill-color: #1967D2;\n",
              "      --hover-bg-color: #E2EBFA;\n",
              "      --hover-fill-color: #174EA6;\n",
              "      --disabled-fill-color: #AAA;\n",
              "      --disabled-bg-color: #DDD;\n",
              "  }\n",
              "\n",
              "  [theme=dark] .colab-df-quickchart {\n",
              "      --bg-color: #3B4455;\n",
              "      --fill-color: #D2E3FC;\n",
              "      --hover-bg-color: #434B5C;\n",
              "      --hover-fill-color: #FFFFFF;\n",
              "      --disabled-bg-color: #3B4455;\n",
              "      --disabled-fill-color: #666;\n",
              "  }\n",
              "\n",
              "  .colab-df-quickchart {\n",
              "    background-color: var(--bg-color);\n",
              "    border: none;\n",
              "    border-radius: 50%;\n",
              "    cursor: pointer;\n",
              "    display: none;\n",
              "    fill: var(--fill-color);\n",
              "    height: 32px;\n",
              "    padding: 0;\n",
              "    width: 32px;\n",
              "  }\n",
              "\n",
              "  .colab-df-quickchart:hover {\n",
              "    background-color: var(--hover-bg-color);\n",
              "    box-shadow: 0 1px 2px rgba(60, 64, 67, 0.3), 0 1px 3px 1px rgba(60, 64, 67, 0.15);\n",
              "    fill: var(--button-hover-fill-color);\n",
              "  }\n",
              "\n",
              "  .colab-df-quickchart-complete:disabled,\n",
              "  .colab-df-quickchart-complete:disabled:hover {\n",
              "    background-color: var(--disabled-bg-color);\n",
              "    fill: var(--disabled-fill-color);\n",
              "    box-shadow: none;\n",
              "  }\n",
              "\n",
              "  .colab-df-spinner {\n",
              "    border: 2px solid var(--fill-color);\n",
              "    border-color: transparent;\n",
              "    border-bottom-color: var(--fill-color);\n",
              "    animation:\n",
              "      spin 1s steps(1) infinite;\n",
              "  }\n",
              "\n",
              "  @keyframes spin {\n",
              "    0% {\n",
              "      border-color: transparent;\n",
              "      border-bottom-color: var(--fill-color);\n",
              "      border-left-color: var(--fill-color);\n",
              "    }\n",
              "    20% {\n",
              "      border-color: transparent;\n",
              "      border-left-color: var(--fill-color);\n",
              "      border-top-color: var(--fill-color);\n",
              "    }\n",
              "    30% {\n",
              "      border-color: transparent;\n",
              "      border-left-color: var(--fill-color);\n",
              "      border-top-color: var(--fill-color);\n",
              "      border-right-color: var(--fill-color);\n",
              "    }\n",
              "    40% {\n",
              "      border-color: transparent;\n",
              "      border-right-color: var(--fill-color);\n",
              "      border-top-color: var(--fill-color);\n",
              "    }\n",
              "    60% {\n",
              "      border-color: transparent;\n",
              "      border-right-color: var(--fill-color);\n",
              "    }\n",
              "    80% {\n",
              "      border-color: transparent;\n",
              "      border-right-color: var(--fill-color);\n",
              "      border-bottom-color: var(--fill-color);\n",
              "    }\n",
              "    90% {\n",
              "      border-color: transparent;\n",
              "      border-bottom-color: var(--fill-color);\n",
              "    }\n",
              "  }\n",
              "</style>\n",
              "\n",
              "  <script>\n",
              "    async function quickchart(key) {\n",
              "      const quickchartButtonEl =\n",
              "        document.querySelector('#' + key + ' button');\n",
              "      quickchartButtonEl.disabled = true;  // To prevent multiple clicks.\n",
              "      quickchartButtonEl.classList.add('colab-df-spinner');\n",
              "      try {\n",
              "        const charts = await google.colab.kernel.invokeFunction(\n",
              "            'suggestCharts', [key], {});\n",
              "      } catch (error) {\n",
              "        console.error('Error during call to suggestCharts:', error);\n",
              "      }\n",
              "      quickchartButtonEl.classList.remove('colab-df-spinner');\n",
              "      quickchartButtonEl.classList.add('colab-df-quickchart-complete');\n",
              "    }\n",
              "    (() => {\n",
              "      let quickchartButtonEl =\n",
              "        document.querySelector('#df-0d1e0ef6-5daf-4fe1-a351-5c18d4cb246f button');\n",
              "      quickchartButtonEl.style.display =\n",
              "        google.colab.kernel.accessAllowed ? 'block' : 'none';\n",
              "    })();\n",
              "  </script>\n",
              "</div>\n",
              "\n",
              "    </div>\n",
              "  </div>\n"
            ]
          },
          "metadata": {},
          "execution_count": 17
        }
      ]
    },
    {
      "cell_type": "markdown",
      "source": [
        "#PRE PROCESSAMENTO DA SERIE TEMPORAL MULTIVARIADA\n",
        "\n",
        "---"
      ],
      "metadata": {
        "id": "O3y0OC1lztxo"
      }
    },
    {
      "cell_type": "code",
      "source": [
        "# Cria o padronizador\n",
        "scaler = StandardScaler()"
      ],
      "metadata": {
        "id": "ihf5rynqz4Hi"
      },
      "execution_count": 18,
      "outputs": []
    },
    {
      "cell_type": "code",
      "source": [
        "# Treina o padronizador\n",
        "scaler = scaler.fit(df_treino)"
      ],
      "metadata": {
        "id": "g0momhdZz6Ep"
      },
      "execution_count": 19,
      "outputs": []
    },
    {
      "cell_type": "code",
      "source": [
        "# Aplica o padronizador aos dados\n",
        "df_treino_scaled = scaler.transform(df_treino)"
      ],
      "metadata": {
        "id": "upwKZm87z7s_"
      },
      "execution_count": 20,
      "outputs": []
    },
    {
      "cell_type": "code",
      "source": [
        "# Cria listas vazias para X e Y\n",
        "x_treino = []\n",
        "y_treino = []"
      ],
      "metadata": {
        "id": "D9STWk0bz98k"
      },
      "execution_count": 21,
      "outputs": []
    },
    {
      "cell_type": "code",
      "source": [
        "# Número de passos no tempo que queremos olhar para o futuro a fim de fazer previsões\n",
        "# Estamos trabalhando com uma série trimestral, logo: 1 passo = 1 trimestre\n",
        "n_futuro = 1"
      ],
      "metadata": {
        "id": "TDD2JR850BG1"
      },
      "execution_count": 22,
      "outputs": []
    },
    {
      "cell_type": "code",
      "source": [
        "# Número de passos anteriores que queremos usar para prever o futuro\n",
        "n_past = 15"
      ],
      "metadata": {
        "id": "WuEH1Ysg0DfT"
      },
      "execution_count": 23,
      "outputs": []
    },
    {
      "cell_type": "code",
      "source": [
        "# Loop pelos dados padronizados para gerar as listas de dados para X e Y\n",
        "for i in range(n_past, len(df_treino_scaled) - n_futuro + 1):\n",
        "\n",
        "    # Carrega x\n",
        "    x_treino.append(df_treino_scaled[i - n_past : i, :])\n",
        "\n",
        "    # Carrega y\n",
        "    y_treino.append(df_treino_scaled[i + n_futuro - 1 : i + n_futuro, 0])"
      ],
      "metadata": {
        "id": "SrWeL88A0FPi"
      },
      "execution_count": 24,
      "outputs": []
    },
    {
      "cell_type": "code",
      "source": [
        "# Converte as listas para array numpy\n",
        "x_treino, y_treino = np.array(x_treino), np.array(y_treino)"
      ],
      "metadata": {
        "id": "_7HE7wD90HXV"
      },
      "execution_count": 25,
      "outputs": []
    },
    {
      "cell_type": "code",
      "source": [
        "# Tamanho do array\n",
        "len(x_treino)"
      ],
      "metadata": {
        "colab": {
          "base_uri": "https://localhost:8080/"
        },
        "id": "3jg5-xCV0QIl",
        "outputId": "d7935dd7-ca15-432c-a328-1f772f3e5505"
      },
      "execution_count": 26,
      "outputs": [
        {
          "output_type": "execute_result",
          "data": {
            "text/plain": [
              "48"
            ]
          },
          "metadata": {},
          "execution_count": 26
        }
      ]
    },
    {
      "cell_type": "code",
      "source": [
        "# Tamanho do array\n",
        "len(y_treino)"
      ],
      "metadata": {
        "colab": {
          "base_uri": "https://localhost:8080/"
        },
        "id": "RstC6tel0Rzs",
        "outputId": "da101400-74b2-4128-9a06-298b5565f7c1"
      },
      "execution_count": 27,
      "outputs": [
        {
          "output_type": "execute_result",
          "data": {
            "text/plain": [
              "48"
            ]
          },
          "metadata": {},
          "execution_count": 27
        }
      ]
    },
    {
      "cell_type": "code",
      "source": [
        "# Shape de x\n",
        "x_treino.shape"
      ],
      "metadata": {
        "colab": {
          "base_uri": "https://localhost:8080/"
        },
        "id": "zuYDEtiw0WWT",
        "outputId": "66e209d9-cc97-42ee-a500-3baa313a1d3c"
      },
      "execution_count": 28,
      "outputs": [
        {
          "output_type": "execute_result",
          "data": {
            "text/plain": [
              "(48, 15, 7)"
            ]
          },
          "metadata": {},
          "execution_count": 28
        }
      ]
    },
    {
      "cell_type": "code",
      "source": [
        "# Shape de y\n",
        "y_treino.shape"
      ],
      "metadata": {
        "colab": {
          "base_uri": "https://localhost:8080/"
        },
        "id": "Jv3CEG7O0ZSg",
        "outputId": "95e95416-24b4-44ad-b0f5-c28396884a0c"
      },
      "execution_count": 29,
      "outputs": [
        {
          "output_type": "execute_result",
          "data": {
            "text/plain": [
              "(48, 1)"
            ]
          },
          "metadata": {},
          "execution_count": 29
        }
      ]
    },
    {
      "cell_type": "markdown",
      "source": [
        "#CONSTRUÇÃO DO MODELO DE IA\n",
        "\n",
        "---\n",
        "\n"
      ],
      "metadata": {
        "id": "OWNV3L660edm"
      }
    },
    {
      "cell_type": "code",
      "source": [
        "# Cria a sequência de camadas da rede neural artificial\n",
        "modelo_dsa = Sequential()"
      ],
      "metadata": {
        "id": "MXdrydP30bEn"
      },
      "execution_count": 30,
      "outputs": []
    },
    {
      "cell_type": "code",
      "source": [
        "# Adiciona a camada LSTM com 128 neurônios, ativação sigmóide e somente uma sequência LSTM\n",
        "modelo_dsa.add(LSTM(128,\n",
        "                    activation = \"sigmoid\",\n",
        "                    input_shape = (x_treino.shape[1], x_treino.shape[2]),\n",
        "                    return_sequences = False))"
      ],
      "metadata": {
        "id": "0Dsdkw5o1Xqs"
      },
      "execution_count": 31,
      "outputs": []
    },
    {
      "cell_type": "code",
      "source": [
        "# Adiciona a camada densa de saída\n",
        "modelo_dsa.add(Dense(y_treino.shape[1]))"
      ],
      "metadata": {
        "id": "ucYSbdlX1ZSE"
      },
      "execution_count": 32,
      "outputs": []
    },
    {
      "cell_type": "code",
      "source": [
        "# Compila o modelo com otimizador ADAM e função de erro mean_squared_error\n",
        "modelo_dsa.compile(optimizer = 'adam', loss = 'mean_squared_error')"
      ],
      "metadata": {
        "id": "Mj2P-LtT17ho"
      },
      "execution_count": 33,
      "outputs": []
    },
    {
      "cell_type": "code",
      "source": [
        "# Sumário do modelo\n",
        "modelo_dsa.summary()"
      ],
      "metadata": {
        "colab": {
          "base_uri": "https://localhost:8080/"
        },
        "id": "LZNRnYVo19mi",
        "outputId": "d3c5fa8e-a524-433c-a70d-c6c14424dab1"
      },
      "execution_count": 34,
      "outputs": [
        {
          "output_type": "stream",
          "name": "stdout",
          "text": [
            "Model: \"sequential\"\n",
            "_________________________________________________________________\n",
            " Layer (type)                Output Shape              Param #   \n",
            "=================================================================\n",
            " lstm (LSTM)                 (None, 128)               69632     \n",
            "                                                                 \n",
            " dense (Dense)               (None, 1)                 129       \n",
            "                                                                 \n",
            "=================================================================\n",
            "Total params: 69761 (272.50 KB)\n",
            "Trainable params: 69761 (272.50 KB)\n",
            "Non-trainable params: 0 (0.00 Byte)\n",
            "_________________________________________________________________\n"
          ]
        }
      ]
    },
    {
      "cell_type": "markdown",
      "source": [
        "#TREINAMENTO DO MODELO\n",
        "\n",
        "---"
      ],
      "metadata": {
        "id": "C9wCGU8a2AtE"
      }
    },
    {
      "cell_type": "code",
      "source": [
        "# Definimos os hiperparâmetros\n",
        "batch = 16\n",
        "num_epochs = 10\n",
        "split = 0.1"
      ],
      "metadata": {
        "id": "zI8gaOrs2HDP"
      },
      "execution_count": 35,
      "outputs": []
    },
    {
      "cell_type": "code",
      "source": [
        "# Treinamento do modelo\n",
        "history = modelo_dsa.fit(x_treino,\n",
        "                         y_treino,\n",
        "                         epochs = num_epochs,\n",
        "                         batch_size = batch,\n",
        "                         validation_split = split,\n",
        "                         verbose = 2)"
      ],
      "metadata": {
        "colab": {
          "base_uri": "https://localhost:8080/"
        },
        "id": "9wO7pAV42dOd",
        "outputId": "3824aebd-d983-404a-f778-5887befb98a7"
      },
      "execution_count": 36,
      "outputs": [
        {
          "output_type": "stream",
          "name": "stdout",
          "text": [
            "Epoch 1/10\n",
            "3/3 - 2s - loss: 0.9094 - val_loss: 0.1848 - 2s/epoch - 758ms/step\n",
            "Epoch 2/10\n",
            "3/3 - 0s - loss: 0.4656 - val_loss: 0.0307 - 126ms/epoch - 42ms/step\n",
            "Epoch 3/10\n",
            "3/3 - 0s - loss: 0.5797 - val_loss: 0.0284 - 119ms/epoch - 40ms/step\n",
            "Epoch 4/10\n",
            "3/3 - 0s - loss: 0.5258 - val_loss: 0.0541 - 108ms/epoch - 36ms/step\n",
            "Epoch 5/10\n",
            "3/3 - 0s - loss: 0.4280 - val_loss: 0.1454 - 141ms/epoch - 47ms/step\n",
            "Epoch 6/10\n",
            "3/3 - 0s - loss: 0.4524 - val_loss: 0.2226 - 116ms/epoch - 39ms/step\n",
            "Epoch 7/10\n",
            "3/3 - 0s - loss: 0.4520 - val_loss: 0.1516 - 100ms/epoch - 33ms/step\n",
            "Epoch 8/10\n",
            "3/3 - 0s - loss: 0.4097 - val_loss: 0.0851 - 112ms/epoch - 37ms/step\n",
            "Epoch 9/10\n",
            "3/3 - 0s - loss: 0.3903 - val_loss: 0.0459 - 119ms/epoch - 40ms/step\n",
            "Epoch 10/10\n",
            "3/3 - 0s - loss: 0.3812 - val_loss: 0.0446 - 113ms/epoch - 38ms/step\n"
          ]
        }
      ]
    },
    {
      "cell_type": "markdown",
      "source": [
        "#AVALIAÇÃO DO MODELO\n",
        "\n",
        "---"
      ],
      "metadata": {
        "id": "B80tEvCm2gBY"
      }
    },
    {
      "cell_type": "code",
      "source": [
        "# Extrai as previsões com os dados de treino\n",
        "previsoes_treino = modelo_dsa.predict(x_treino)"
      ],
      "metadata": {
        "colab": {
          "base_uri": "https://localhost:8080/"
        },
        "id": "3X9mvtvX2m03",
        "outputId": "ed1bd6d6-f941-4629-c68d-7d620b13b95b"
      },
      "execution_count": 37,
      "outputs": [
        {
          "output_type": "stream",
          "name": "stdout",
          "text": [
            "2/2 [==============================] - 1s 17ms/step\n"
          ]
        }
      ]
    },
    {
      "cell_type": "code",
      "source": [
        "# Visualiza as previsões\n",
        "previsoes_treino"
      ],
      "metadata": {
        "colab": {
          "base_uri": "https://localhost:8080/"
        },
        "id": "3jA3QnPm2pNb",
        "outputId": "60ac159d-ff40-45ae-82ea-0bc2c6b202a5"
      },
      "execution_count": 38,
      "outputs": [
        {
          "output_type": "execute_result",
          "data": {
            "text/plain": [
              "array([[-0.07451367],\n",
              "       [-0.03665575],\n",
              "       [-0.00273805],\n",
              "       [ 0.00203976],\n",
              "       [ 0.06280634],\n",
              "       [ 0.08093034],\n",
              "       [ 0.13065849],\n",
              "       [ 0.16714613],\n",
              "       [ 0.32639357],\n",
              "       [ 0.30768865],\n",
              "       [ 0.28841722],\n",
              "       [ 0.25843948],\n",
              "       [ 0.27815104],\n",
              "       [ 0.35844943],\n",
              "       [ 0.3761601 ],\n",
              "       [ 0.3596149 ],\n",
              "       [ 0.4080366 ],\n",
              "       [ 0.563145  ],\n",
              "       [ 0.4894382 ],\n",
              "       [ 0.45350933],\n",
              "       [ 0.4864234 ],\n",
              "       [ 0.56419706],\n",
              "       [ 0.576607  ],\n",
              "       [ 0.63972443],\n",
              "       [ 0.6740118 ],\n",
              "       [ 0.6621269 ],\n",
              "       [ 0.6527338 ],\n",
              "       [ 0.69724345],\n",
              "       [ 0.549797  ],\n",
              "       [ 0.6245536 ],\n",
              "       [ 0.7360643 ],\n",
              "       [ 0.7899567 ],\n",
              "       [ 0.69816273],\n",
              "       [ 0.6411226 ],\n",
              "       [ 0.68647516],\n",
              "       [ 0.6797912 ],\n",
              "       [ 0.6842926 ],\n",
              "       [ 0.7984703 ],\n",
              "       [ 0.8200652 ],\n",
              "       [ 0.7539364 ],\n",
              "       [ 0.69989747],\n",
              "       [ 0.7698078 ],\n",
              "       [ 0.7894224 ],\n",
              "       [ 0.6360873 ],\n",
              "       [ 0.6167035 ],\n",
              "       [ 0.6112709 ],\n",
              "       [ 0.70327854],\n",
              "       [ 0.9812164 ]], dtype=float32)"
            ]
          },
          "metadata": {},
          "execution_count": 38
        }
      ]
    },
    {
      "cell_type": "markdown",
      "source": [
        "#FORECAST MANUAL\n",
        "\n",
        "___"
      ],
      "metadata": {
        "id": "CjXM9_ih2r3C"
      }
    },
    {
      "cell_type": "code",
      "source": [
        "# Número de passos para prever (1 passo = 1 trimestre)\n",
        "num_passos_prever = 1"
      ],
      "metadata": {
        "id": "sHRiijmI3DQG"
      },
      "execution_count": 39,
      "outputs": []
    },
    {
      "cell_type": "code",
      "source": [
        "# Obtém a última sequência de dados\n",
        "last_sequence = df_treino_scaled[-n_past:]"
      ],
      "metadata": {
        "id": "F6zgw14U3ILd"
      },
      "execution_count": 40,
      "outputs": []
    },
    {
      "cell_type": "code",
      "source": [
        "last_sequence.shape"
      ],
      "metadata": {
        "colab": {
          "base_uri": "https://localhost:8080/"
        },
        "id": "PjpZQ2WP3KQU",
        "outputId": "b9b262c3-f8fd-4298-c774-97d58996581b"
      },
      "execution_count": 41,
      "outputs": [
        {
          "output_type": "execute_result",
          "data": {
            "text/plain": [
              "(15, 7)"
            ]
          },
          "metadata": {},
          "execution_count": 41
        }
      ]
    },
    {
      "cell_type": "code",
      "source": [
        "# Array de 15 elementos com 7 colunas em cada elemento\n",
        "last_sequence"
      ],
      "metadata": {
        "colab": {
          "base_uri": "https://localhost:8080/"
        },
        "id": "xmyZoXl83Naa",
        "outputId": "ba1a379f-6d0b-420e-a51d-cd46a4229186"
      },
      "execution_count": 42,
      "outputs": [
        {
          "output_type": "execute_result",
          "data": {
            "text/plain": [
              "array([[ 0.51806968,  0.61570094,  0.73706718,  0.30613841,  0.69866005,\n",
              "         0.75337373,  0.23080801],\n",
              "       [ 0.5234785 ,  0.67366976,  1.17935038,  3.2147001 ,  2.59402345,\n",
              "         0.41440622,  0.37028038],\n",
              "       [-0.39136821,  0.850404  ,  1.13621236, -0.2813359 ,  0.75576234,\n",
              "         0.91471108, -0.35038305],\n",
              "       [ 0.27998704,  0.93617902,  1.16963247, -1.49222164,  0.81242036,\n",
              "         1.24220056,  1.02930079],\n",
              "       [ 0.80721727,  0.97011199,  1.17484696, -0.58946294,  0.85418085,\n",
              "         1.45843475,  0.78256015],\n",
              "       [ 0.54057889,  0.7151434 ,  1.11203611, -0.03663262,  0.4589667 ,\n",
              "         1.65975179, -0.22729936],\n",
              "       [ 0.58434547,  0.92722448,  1.18053549,  1.04809726,  0.57995365,\n",
              "         1.11091244, -0.68146131],\n",
              "       [ 0.29902421,  1.15674334,  1.16844736, -0.13785804,  0.98603736,\n",
              "         1.53022622, -0.20821296],\n",
              "       [ 0.27183838,  0.85323175,  1.12175401, -0.0549771 ,  1.34494062,\n",
              "         1.65446415,  0.3132235 ],\n",
              "       [ 0.22287555,  0.79432034,  1.01793834,  1.63262442,  0.71974762,\n",
              "         1.70080619, -3.34846565],\n",
              "       [ 0.68753823,  1.74585747,  1.12080593,  3.68967165,  0.81185763,\n",
              "         1.62669332, -2.6133694 ],\n",
              "       [ 0.60739791,  0.91497091,  1.14687836,  3.0124297 ,  0.56659621,\n",
              "         1.53590075, -2.32228491],\n",
              "       [ 0.97977994,  1.42820713,  1.08430453,  1.72061776,  0.3100802 ,\n",
              "         1.61431252, -1.2783329 ],\n",
              "       [ 0.99295952,  2.19594065,  1.09378541, -0.10089843,  3.3622091 ,\n",
              "         2.01802132, -0.66982737],\n",
              "       [ 1.00311582,  2.45043795,  1.11748762, -0.15951054,  3.56834597,\n",
              "         2.18954705, -0.66207142]])"
            ]
          },
          "metadata": {},
          "execution_count": 42
        }
      ]
    },
    {
      "cell_type": "code",
      "source": [
        "# Ajusta o shape para obter os dados de 1 indicador\n",
        "last_sequence = np.reshape(last_sequence, (1, n_past, len(cols)))"
      ],
      "metadata": {
        "id": "bGQFv8Xu3QP0"
      },
      "execution_count": 43,
      "outputs": []
    },
    {
      "cell_type": "code",
      "source": [
        "last_sequence.shape"
      ],
      "metadata": {
        "colab": {
          "base_uri": "https://localhost:8080/"
        },
        "id": "7-tGSOHV3Vr8",
        "outputId": "6677acb4-2fca-48e3-8c70-9a1bf2d2ea3f"
      },
      "execution_count": 44,
      "outputs": [
        {
          "output_type": "execute_result",
          "data": {
            "text/plain": [
              "(1, 15, 7)"
            ]
          },
          "metadata": {},
          "execution_count": 44
        }
      ]
    },
    {
      "cell_type": "code",
      "source": [
        "last_sequence"
      ],
      "metadata": {
        "colab": {
          "base_uri": "https://localhost:8080/"
        },
        "id": "3VigmLyz3X1_",
        "outputId": "0c68044d-aaf8-42cd-87d6-ba3d1a669346"
      },
      "execution_count": 45,
      "outputs": [
        {
          "output_type": "execute_result",
          "data": {
            "text/plain": [
              "array([[[ 0.51806968,  0.61570094,  0.73706718,  0.30613841,\n",
              "          0.69866005,  0.75337373,  0.23080801],\n",
              "        [ 0.5234785 ,  0.67366976,  1.17935038,  3.2147001 ,\n",
              "          2.59402345,  0.41440622,  0.37028038],\n",
              "        [-0.39136821,  0.850404  ,  1.13621236, -0.2813359 ,\n",
              "          0.75576234,  0.91471108, -0.35038305],\n",
              "        [ 0.27998704,  0.93617902,  1.16963247, -1.49222164,\n",
              "          0.81242036,  1.24220056,  1.02930079],\n",
              "        [ 0.80721727,  0.97011199,  1.17484696, -0.58946294,\n",
              "          0.85418085,  1.45843475,  0.78256015],\n",
              "        [ 0.54057889,  0.7151434 ,  1.11203611, -0.03663262,\n",
              "          0.4589667 ,  1.65975179, -0.22729936],\n",
              "        [ 0.58434547,  0.92722448,  1.18053549,  1.04809726,\n",
              "          0.57995365,  1.11091244, -0.68146131],\n",
              "        [ 0.29902421,  1.15674334,  1.16844736, -0.13785804,\n",
              "          0.98603736,  1.53022622, -0.20821296],\n",
              "        [ 0.27183838,  0.85323175,  1.12175401, -0.0549771 ,\n",
              "          1.34494062,  1.65446415,  0.3132235 ],\n",
              "        [ 0.22287555,  0.79432034,  1.01793834,  1.63262442,\n",
              "          0.71974762,  1.70080619, -3.34846565],\n",
              "        [ 0.68753823,  1.74585747,  1.12080593,  3.68967165,\n",
              "          0.81185763,  1.62669332, -2.6133694 ],\n",
              "        [ 0.60739791,  0.91497091,  1.14687836,  3.0124297 ,\n",
              "          0.56659621,  1.53590075, -2.32228491],\n",
              "        [ 0.97977994,  1.42820713,  1.08430453,  1.72061776,\n",
              "          0.3100802 ,  1.61431252, -1.2783329 ],\n",
              "        [ 0.99295952,  2.19594065,  1.09378541, -0.10089843,\n",
              "          3.3622091 ,  2.01802132, -0.66982737],\n",
              "        [ 1.00311582,  2.45043795,  1.11748762, -0.15951054,\n",
              "          3.56834597,  2.18954705, -0.66207142]]])"
            ]
          },
          "metadata": {},
          "execution_count": 45
        }
      ]
    },
    {
      "cell_type": "code",
      "source": [
        "# Faz a previsão de 1 indicador em um passo no tempo\n",
        "previsao = modelo_dsa.predict(last_sequence)"
      ],
      "metadata": {
        "colab": {
          "base_uri": "https://localhost:8080/"
        },
        "id": "L2xgSqPW3Z0U",
        "outputId": "3fa04b0a-d31d-4d1a-9056-95178c5ad4d0"
      },
      "execution_count": 46,
      "outputs": [
        {
          "output_type": "stream",
          "name": "stdout",
          "text": [
            "1/1 [==============================] - 0s 44ms/step\n"
          ]
        }
      ]
    },
    {
      "cell_type": "code",
      "source": [
        "# Visualiza a previsão de 1 indicador\n",
        "previsao"
      ],
      "metadata": {
        "colab": {
          "base_uri": "https://localhost:8080/"
        },
        "id": "b_p37IHj3dVK",
        "outputId": "97697bb8-ef36-480c-89c4-6713f503e366"
      },
      "execution_count": 47,
      "outputs": [
        {
          "output_type": "execute_result",
          "data": {
            "text/plain": [
              "array([[1.0497683]], dtype=float32)"
            ]
          },
          "metadata": {},
          "execution_count": 47
        }
      ]
    },
    {
      "cell_type": "code",
      "source": [
        "# Agora extrai as previsões para todos os indicadores (por isso shape 1, número de colunas)\n",
        "previsoes_todos_indicadores = np.repeat(previsao, df_treino.shape[1], axis = -1)"
      ],
      "metadata": {
        "id": "aOJBh1Ml3gvL"
      },
      "execution_count": 48,
      "outputs": []
    },
    {
      "cell_type": "code",
      "source": [
        "# Previsão de todos os indicadores em 1 passo no tempo (1 trimestre)\n",
        "previsoes_todos_indicadores"
      ],
      "metadata": {
        "colab": {
          "base_uri": "https://localhost:8080/"
        },
        "id": "lhhjPj-73856",
        "outputId": "7d359a57-5f79-4ba4-dd16-9a87fb965363"
      },
      "execution_count": 49,
      "outputs": [
        {
          "output_type": "execute_result",
          "data": {
            "text/plain": [
              "array([[1.0497683, 1.0497683, 1.0497683, 1.0497683, 1.0497683, 1.0497683,\n",
              "        1.0497683]], dtype=float32)"
            ]
          },
          "metadata": {},
          "execution_count": 49
        }
      ]
    },
    {
      "cell_type": "markdown",
      "source": [
        "#INVERTER A TRANSFORMAÇÃO FEITA NA PADRONIZAÇÃO DOS DADOS\n",
        "\n",
        "___"
      ],
      "metadata": {
        "id": "_wr5VR0C4Knf"
      }
    },
    {
      "cell_type": "code",
      "source": [
        "# Inverte a transformação feita na padronização dos dados\n",
        "y_pred_futuro = scaler.inverse_transform(previsoes_todos_indicadores)[:,:]"
      ],
      "metadata": {
        "id": "mAJtot1f3_Bh"
      },
      "execution_count": 50,
      "outputs": []
    },
    {
      "cell_type": "code",
      "source": [
        "y_pred_futuro\n"
      ],
      "metadata": {
        "colab": {
          "base_uri": "https://localhost:8080/"
        },
        "id": "Bz7ci6Fc4EsZ",
        "outputId": "a2c50822-6c4b-49e4-9956-6d7f63e018c1"
      },
      "execution_count": 51,
      "outputs": [
        {
          "output_type": "execute_result",
          "data": {
            "text/plain": [
              "array([[1407.8718  ,   62.610172,  150.64291 ,  686.7557  ,  677.8081  ,\n",
              "         519.1368  ,  701.78955 ]], dtype=float32)"
            ]
          },
          "metadata": {},
          "execution_count": 51
        }
      ]
    },
    {
      "cell_type": "code",
      "source": [
        "print(\"Valores Previstos dos Indicadores Para o Próximo Passo no Tempo:\\n\", y_pred_futuro[0])"
      ],
      "metadata": {
        "colab": {
          "base_uri": "https://localhost:8080/"
        },
        "id": "QkQ4u8uC4HJF",
        "outputId": "7c7805f7-c485-41a2-b494-868bc290540f"
      },
      "execution_count": 52,
      "outputs": [
        {
          "output_type": "stream",
          "name": "stdout",
          "text": [
            "Valores Previstos dos Indicadores Para o Próximo Passo no Tempo:\n",
            " [1407.8718     62.610172  150.64291   686.7557    677.8081    519.1368\n",
            "  701.78955 ]\n"
          ]
        }
      ]
    },
    {
      "cell_type": "markdown",
      "source": [
        "#AUTOMATIZANDO O FORECAST PARA JANELA DE 1 ANO DE PREVISÃO\n",
        "\n",
        "---"
      ],
      "metadata": {
        "id": "bvHOgslA4WJS"
      }
    },
    {
      "cell_type": "code",
      "source": [
        "# Função com todas as etapas feitas anteriormente para automatizar o processo de forecast\n",
        "def automatiza_forecast(df_para_treinar_modelo):\n",
        "\n",
        "    scaler = StandardScaler()\n",
        "\n",
        "    scaler = scaler.fit(df_para_treinar_modelo)\n",
        "\n",
        "    df_para_treinar_modelo_scaled = scaler.transform(df_para_treinar_modelo)\n",
        "\n",
        "    x_treino = []\n",
        "\n",
        "    y_treino = []\n",
        "\n",
        "    n_futuro = 1\n",
        "\n",
        "    n_past = 15\n",
        "\n",
        "    for i in range(n_past, len(df_para_treinar_modelo_scaled) - n_futuro + 1):\n",
        "        x_treino.append(df_para_treinar_modelo_scaled[i - n_past:i, :])\n",
        "        y_treino.append(df_para_treinar_modelo_scaled[i + n_futuro - 1:i + n_futuro, 0])\n",
        "\n",
        "    x_treino, y_treino = np.array(x_treino), np.array(y_treino)\n",
        "\n",
        "    modelo_dsa = Sequential()\n",
        "\n",
        "    modelo_dsa.add(LSTM(128,\n",
        "                        activation = \"sigmoid\",\n",
        "                        input_shape = (x_treino.shape[1], x_treino.shape[2]),\n",
        "                        return_sequences = False))\n",
        "\n",
        "    modelo_dsa.add(Dense(y_treino.shape[1]))\n",
        "\n",
        "    modelo_dsa.compile(optimizer = 'adam', loss = 'mean_squared_error')\n",
        "\n",
        "    history = modelo_dsa.fit(x_treino, y_treino, epochs = 10, batch_size = 16, validation_split = 0.1, verbose = 0)\n",
        "\n",
        "    n_past = 15\n",
        "\n",
        "    last_sequence = df_para_treinar_modelo_scaled[-n_past:]\n",
        "\n",
        "    last_sequence = np.reshape(last_sequence, (1, n_past, len(cols)))\n",
        "\n",
        "    previsao = modelo_dsa.predict(last_sequence)\n",
        "\n",
        "    previsao_indicadores = np.repeat(previsao, df_para_treinar_modelo.shape[1], axis = -1)\n",
        "\n",
        "    y_pred_futuro = scaler.inverse_transform(previsao_indicadores)[:,0]\n",
        "\n",
        "    return y_pred_futuro[0]"
      ],
      "metadata": {
        "id": "TBv6TthI4i0l"
      },
      "execution_count": 53,
      "outputs": []
    },
    {
      "cell_type": "code",
      "source": [
        "# Carrega e organiza os dados\n",
        "df = pd.read_csv('dataset.csv')\n",
        "df = df.sort_values(\"meses\")\n",
        "df = df.reset_index(drop = True)\n",
        "cols = list(df)[1:8]\n",
        "previsoes_1_ano = {}"
      ],
      "metadata": {
        "id": "4T4RNCRY4mdt"
      },
      "execution_count": 55,
      "outputs": []
    },
    {
      "cell_type": "code",
      "source": [
        "# Iterando através de cada coluna e aplicando a função de automação\n",
        "for column in cols:\n",
        "\n",
        "    # Seleciona a coluna atual como coluna de destino\n",
        "    target_column = column\n",
        "\n",
        "    # Novo dataframe com coluna de destino como primeira coluna\n",
        "    df_treino = df[[target_column] + [col for col in cols if col != target_column]].astype(float)\n",
        "\n",
        "    # Aplica a função e extrai a previsão\n",
        "    pred = automatiza_forecast(df_treino)\n",
        "\n",
        "    # Target\n",
        "    previsoes_1_ano[target_column] = round(pred, 2)"
      ],
      "metadata": {
        "colab": {
          "base_uri": "https://localhost:8080/"
        },
        "id": "WQ6bmmhf4qV8",
        "outputId": "5c6d63b7-e085-44f2-883e-1ac393648cc5"
      },
      "execution_count": 56,
      "outputs": [
        {
          "output_type": "stream",
          "name": "stdout",
          "text": [
            "1/1 [==============================] - 0s 197ms/step\n",
            "1/1 [==============================] - 0s 173ms/step\n",
            "1/1 [==============================] - 0s 186ms/step\n"
          ]
        },
        {
          "output_type": "stream",
          "name": "stderr",
          "text": [
            "WARNING:tensorflow:5 out of the last 7 calls to <function Model.make_predict_function.<locals>.predict_function at 0x7e11ccc23c70> triggered tf.function retracing. Tracing is expensive and the excessive number of tracings could be due to (1) creating @tf.function repeatedly in a loop, (2) passing tensors with different shapes, (3) passing Python objects instead of tensors. For (1), please define your @tf.function outside of the loop. For (2), @tf.function has reduce_retracing=True option that can avoid unnecessary retracing. For (3), please refer to https://www.tensorflow.org/guide/function#controlling_retracing and https://www.tensorflow.org/api_docs/python/tf/function for  more details.\n"
          ]
        },
        {
          "output_type": "stream",
          "name": "stdout",
          "text": [
            "1/1 [==============================] - 0s 180ms/step\n"
          ]
        },
        {
          "output_type": "stream",
          "name": "stderr",
          "text": [
            "WARNING:tensorflow:6 out of the last 8 calls to <function Model.make_predict_function.<locals>.predict_function at 0x7e11cc114550> triggered tf.function retracing. Tracing is expensive and the excessive number of tracings could be due to (1) creating @tf.function repeatedly in a loop, (2) passing tensors with different shapes, (3) passing Python objects instead of tensors. For (1), please define your @tf.function outside of the loop. For (2), @tf.function has reduce_retracing=True option that can avoid unnecessary retracing. For (3), please refer to https://www.tensorflow.org/guide/function#controlling_retracing and https://www.tensorflow.org/api_docs/python/tf/function for  more details.\n"
          ]
        },
        {
          "output_type": "stream",
          "name": "stdout",
          "text": [
            "1/1 [==============================] - 0s 191ms/step\n",
            "1/1 [==============================] - 0s 287ms/step\n",
            "1/1 [==============================] - 0s 185ms/step\n"
          ]
        }
      ]
    },
    {
      "cell_type": "code",
      "source": [
        "# Vamos concatenar as previsões com o dataset original\n",
        "df_previsoes_1_ano = pd.DataFrame([previsoes_1_ano])\n",
        "df_previsoes_1_ano[\"meses\"] = '2023-09'\n",
        "df_combined = pd.concat([df, df_previsoes_1_ano], ignore_index = True)\n",
        "df_combined = df_combined.reset_index(drop = True)"
      ],
      "metadata": {
        "id": "k_pM-nCl410j"
      },
      "execution_count": 57,
      "outputs": []
    },
    {
      "cell_type": "code",
      "source": [
        "# Salva o arquivo em disco\n",
        "df_combined.to_csv(\"previsao_1_ano.csv\", index = False)"
      ],
      "metadata": {
        "id": "aFQY80CF47uC"
      },
      "execution_count": 59,
      "outputs": []
    },
    {
      "cell_type": "markdown",
      "source": [
        "VISUALIZANDO O FORECAST DE CADA INDICADOR\n",
        "\n",
        "---"
      ],
      "metadata": {
        "id": "LJMdfcm_4-cT"
      }
    },
    {
      "cell_type": "code",
      "source": [
        "# Carrega o dataset com as previsões\n",
        "df = pd.read_csv(\"previsao_1_ano.csv\")"
      ],
      "metadata": {
        "id": "55tUjydI5PRM"
      },
      "execution_count": 60,
      "outputs": []
    },
    {
      "cell_type": "code",
      "source": [
        "df.tail()\n"
      ],
      "metadata": {
        "colab": {
          "base_uri": "https://localhost:8080/",
          "height": 313
        },
        "id": "XD4J-KcU5Xo4",
        "outputId": "a95b6f29-1ccf-4908-fc6f-c92ca958dd3f"
      },
      "execution_count": 61,
      "outputs": [
        {
          "output_type": "execute_result",
          "data": {
            "text/plain": [
              "      meses  receita_total_ops  custo_func  depreciacao  outras_despesas  \\\n",
              "59  2022-09         1220.58000   59.750000   154.740000      1339.390000   \n",
              "60  2022-12         1378.24000   70.640000   152.100000       909.830000   \n",
              "61  2023-03         1383.82000   86.930000   152.500000       304.130000   \n",
              "62  2023-06         1388.12000   92.330000   153.500000       284.640000   \n",
              "63  2023-09         1322.02002   67.919998   164.080002       435.089996   \n",
              "\n",
              "    outras_receitas       juros  lucro_ou_prejuizo_liquido_do_periodo  \n",
              "59       514.670000  632.220000                           -298.180000  \n",
              "60       428.060000  650.460000                             11.400000  \n",
              "61      1458.580000  744.370000                            191.850000  \n",
              "62      1528.180000  784.270000                            194.150000  \n",
              "63       728.710022  637.849976                            384.640015  "
            ],
            "text/html": [
              "\n",
              "  <div id=\"df-123fa4ab-33a3-466e-8191-e0e6336c50f1\" class=\"colab-df-container\">\n",
              "    <div>\n",
              "<style scoped>\n",
              "    .dataframe tbody tr th:only-of-type {\n",
              "        vertical-align: middle;\n",
              "    }\n",
              "\n",
              "    .dataframe tbody tr th {\n",
              "        vertical-align: top;\n",
              "    }\n",
              "\n",
              "    .dataframe thead th {\n",
              "        text-align: right;\n",
              "    }\n",
              "</style>\n",
              "<table border=\"1\" class=\"dataframe\">\n",
              "  <thead>\n",
              "    <tr style=\"text-align: right;\">\n",
              "      <th></th>\n",
              "      <th>meses</th>\n",
              "      <th>receita_total_ops</th>\n",
              "      <th>custo_func</th>\n",
              "      <th>depreciacao</th>\n",
              "      <th>outras_despesas</th>\n",
              "      <th>outras_receitas</th>\n",
              "      <th>juros</th>\n",
              "      <th>lucro_ou_prejuizo_liquido_do_periodo</th>\n",
              "    </tr>\n",
              "  </thead>\n",
              "  <tbody>\n",
              "    <tr>\n",
              "      <th>59</th>\n",
              "      <td>2022-09</td>\n",
              "      <td>1220.58000</td>\n",
              "      <td>59.750000</td>\n",
              "      <td>154.740000</td>\n",
              "      <td>1339.390000</td>\n",
              "      <td>514.670000</td>\n",
              "      <td>632.220000</td>\n",
              "      <td>-298.180000</td>\n",
              "    </tr>\n",
              "    <tr>\n",
              "      <th>60</th>\n",
              "      <td>2022-12</td>\n",
              "      <td>1378.24000</td>\n",
              "      <td>70.640000</td>\n",
              "      <td>152.100000</td>\n",
              "      <td>909.830000</td>\n",
              "      <td>428.060000</td>\n",
              "      <td>650.460000</td>\n",
              "      <td>11.400000</td>\n",
              "    </tr>\n",
              "    <tr>\n",
              "      <th>61</th>\n",
              "      <td>2023-03</td>\n",
              "      <td>1383.82000</td>\n",
              "      <td>86.930000</td>\n",
              "      <td>152.500000</td>\n",
              "      <td>304.130000</td>\n",
              "      <td>1458.580000</td>\n",
              "      <td>744.370000</td>\n",
              "      <td>191.850000</td>\n",
              "    </tr>\n",
              "    <tr>\n",
              "      <th>62</th>\n",
              "      <td>2023-06</td>\n",
              "      <td>1388.12000</td>\n",
              "      <td>92.330000</td>\n",
              "      <td>153.500000</td>\n",
              "      <td>284.640000</td>\n",
              "      <td>1528.180000</td>\n",
              "      <td>784.270000</td>\n",
              "      <td>194.150000</td>\n",
              "    </tr>\n",
              "    <tr>\n",
              "      <th>63</th>\n",
              "      <td>2023-09</td>\n",
              "      <td>1322.02002</td>\n",
              "      <td>67.919998</td>\n",
              "      <td>164.080002</td>\n",
              "      <td>435.089996</td>\n",
              "      <td>728.710022</td>\n",
              "      <td>637.849976</td>\n",
              "      <td>384.640015</td>\n",
              "    </tr>\n",
              "  </tbody>\n",
              "</table>\n",
              "</div>\n",
              "    <div class=\"colab-df-buttons\">\n",
              "\n",
              "  <div class=\"colab-df-container\">\n",
              "    <button class=\"colab-df-convert\" onclick=\"convertToInteractive('df-123fa4ab-33a3-466e-8191-e0e6336c50f1')\"\n",
              "            title=\"Convert this dataframe to an interactive table.\"\n",
              "            style=\"display:none;\">\n",
              "\n",
              "  <svg xmlns=\"http://www.w3.org/2000/svg\" height=\"24px\" viewBox=\"0 -960 960 960\">\n",
              "    <path d=\"M120-120v-720h720v720H120Zm60-500h600v-160H180v160Zm220 220h160v-160H400v160Zm0 220h160v-160H400v160ZM180-400h160v-160H180v160Zm440 0h160v-160H620v160ZM180-180h160v-160H180v160Zm440 0h160v-160H620v160Z\"/>\n",
              "  </svg>\n",
              "    </button>\n",
              "\n",
              "  <style>\n",
              "    .colab-df-container {\n",
              "      display:flex;\n",
              "      gap: 12px;\n",
              "    }\n",
              "\n",
              "    .colab-df-convert {\n",
              "      background-color: #E8F0FE;\n",
              "      border: none;\n",
              "      border-radius: 50%;\n",
              "      cursor: pointer;\n",
              "      display: none;\n",
              "      fill: #1967D2;\n",
              "      height: 32px;\n",
              "      padding: 0 0 0 0;\n",
              "      width: 32px;\n",
              "    }\n",
              "\n",
              "    .colab-df-convert:hover {\n",
              "      background-color: #E2EBFA;\n",
              "      box-shadow: 0px 1px 2px rgba(60, 64, 67, 0.3), 0px 1px 3px 1px rgba(60, 64, 67, 0.15);\n",
              "      fill: #174EA6;\n",
              "    }\n",
              "\n",
              "    .colab-df-buttons div {\n",
              "      margin-bottom: 4px;\n",
              "    }\n",
              "\n",
              "    [theme=dark] .colab-df-convert {\n",
              "      background-color: #3B4455;\n",
              "      fill: #D2E3FC;\n",
              "    }\n",
              "\n",
              "    [theme=dark] .colab-df-convert:hover {\n",
              "      background-color: #434B5C;\n",
              "      box-shadow: 0px 1px 3px 1px rgba(0, 0, 0, 0.15);\n",
              "      filter: drop-shadow(0px 1px 2px rgba(0, 0, 0, 0.3));\n",
              "      fill: #FFFFFF;\n",
              "    }\n",
              "  </style>\n",
              "\n",
              "    <script>\n",
              "      const buttonEl =\n",
              "        document.querySelector('#df-123fa4ab-33a3-466e-8191-e0e6336c50f1 button.colab-df-convert');\n",
              "      buttonEl.style.display =\n",
              "        google.colab.kernel.accessAllowed ? 'block' : 'none';\n",
              "\n",
              "      async function convertToInteractive(key) {\n",
              "        const element = document.querySelector('#df-123fa4ab-33a3-466e-8191-e0e6336c50f1');\n",
              "        const dataTable =\n",
              "          await google.colab.kernel.invokeFunction('convertToInteractive',\n",
              "                                                    [key], {});\n",
              "        if (!dataTable) return;\n",
              "\n",
              "        const docLinkHtml = 'Like what you see? Visit the ' +\n",
              "          '<a target=\"_blank\" href=https://colab.research.google.com/notebooks/data_table.ipynb>data table notebook</a>'\n",
              "          + ' to learn more about interactive tables.';\n",
              "        element.innerHTML = '';\n",
              "        dataTable['output_type'] = 'display_data';\n",
              "        await google.colab.output.renderOutput(dataTable, element);\n",
              "        const docLink = document.createElement('div');\n",
              "        docLink.innerHTML = docLinkHtml;\n",
              "        element.appendChild(docLink);\n",
              "      }\n",
              "    </script>\n",
              "  </div>\n",
              "\n",
              "\n",
              "<div id=\"df-a31fd2a2-ce12-4e4c-af3c-5475cb2ead34\">\n",
              "  <button class=\"colab-df-quickchart\" onclick=\"quickchart('df-a31fd2a2-ce12-4e4c-af3c-5475cb2ead34')\"\n",
              "            title=\"Suggest charts\"\n",
              "            style=\"display:none;\">\n",
              "\n",
              "<svg xmlns=\"http://www.w3.org/2000/svg\" height=\"24px\"viewBox=\"0 0 24 24\"\n",
              "     width=\"24px\">\n",
              "    <g>\n",
              "        <path d=\"M19 3H5c-1.1 0-2 .9-2 2v14c0 1.1.9 2 2 2h14c1.1 0 2-.9 2-2V5c0-1.1-.9-2-2-2zM9 17H7v-7h2v7zm4 0h-2V7h2v10zm4 0h-2v-4h2v4z\"/>\n",
              "    </g>\n",
              "</svg>\n",
              "  </button>\n",
              "\n",
              "<style>\n",
              "  .colab-df-quickchart {\n",
              "      --bg-color: #E8F0FE;\n",
              "      --fill-color: #1967D2;\n",
              "      --hover-bg-color: #E2EBFA;\n",
              "      --hover-fill-color: #174EA6;\n",
              "      --disabled-fill-color: #AAA;\n",
              "      --disabled-bg-color: #DDD;\n",
              "  }\n",
              "\n",
              "  [theme=dark] .colab-df-quickchart {\n",
              "      --bg-color: #3B4455;\n",
              "      --fill-color: #D2E3FC;\n",
              "      --hover-bg-color: #434B5C;\n",
              "      --hover-fill-color: #FFFFFF;\n",
              "      --disabled-bg-color: #3B4455;\n",
              "      --disabled-fill-color: #666;\n",
              "  }\n",
              "\n",
              "  .colab-df-quickchart {\n",
              "    background-color: var(--bg-color);\n",
              "    border: none;\n",
              "    border-radius: 50%;\n",
              "    cursor: pointer;\n",
              "    display: none;\n",
              "    fill: var(--fill-color);\n",
              "    height: 32px;\n",
              "    padding: 0;\n",
              "    width: 32px;\n",
              "  }\n",
              "\n",
              "  .colab-df-quickchart:hover {\n",
              "    background-color: var(--hover-bg-color);\n",
              "    box-shadow: 0 1px 2px rgba(60, 64, 67, 0.3), 0 1px 3px 1px rgba(60, 64, 67, 0.15);\n",
              "    fill: var(--button-hover-fill-color);\n",
              "  }\n",
              "\n",
              "  .colab-df-quickchart-complete:disabled,\n",
              "  .colab-df-quickchart-complete:disabled:hover {\n",
              "    background-color: var(--disabled-bg-color);\n",
              "    fill: var(--disabled-fill-color);\n",
              "    box-shadow: none;\n",
              "  }\n",
              "\n",
              "  .colab-df-spinner {\n",
              "    border: 2px solid var(--fill-color);\n",
              "    border-color: transparent;\n",
              "    border-bottom-color: var(--fill-color);\n",
              "    animation:\n",
              "      spin 1s steps(1) infinite;\n",
              "  }\n",
              "\n",
              "  @keyframes spin {\n",
              "    0% {\n",
              "      border-color: transparent;\n",
              "      border-bottom-color: var(--fill-color);\n",
              "      border-left-color: var(--fill-color);\n",
              "    }\n",
              "    20% {\n",
              "      border-color: transparent;\n",
              "      border-left-color: var(--fill-color);\n",
              "      border-top-color: var(--fill-color);\n",
              "    }\n",
              "    30% {\n",
              "      border-color: transparent;\n",
              "      border-left-color: var(--fill-color);\n",
              "      border-top-color: var(--fill-color);\n",
              "      border-right-color: var(--fill-color);\n",
              "    }\n",
              "    40% {\n",
              "      border-color: transparent;\n",
              "      border-right-color: var(--fill-color);\n",
              "      border-top-color: var(--fill-color);\n",
              "    }\n",
              "    60% {\n",
              "      border-color: transparent;\n",
              "      border-right-color: var(--fill-color);\n",
              "    }\n",
              "    80% {\n",
              "      border-color: transparent;\n",
              "      border-right-color: var(--fill-color);\n",
              "      border-bottom-color: var(--fill-color);\n",
              "    }\n",
              "    90% {\n",
              "      border-color: transparent;\n",
              "      border-bottom-color: var(--fill-color);\n",
              "    }\n",
              "  }\n",
              "</style>\n",
              "\n",
              "  <script>\n",
              "    async function quickchart(key) {\n",
              "      const quickchartButtonEl =\n",
              "        document.querySelector('#' + key + ' button');\n",
              "      quickchartButtonEl.disabled = true;  // To prevent multiple clicks.\n",
              "      quickchartButtonEl.classList.add('colab-df-spinner');\n",
              "      try {\n",
              "        const charts = await google.colab.kernel.invokeFunction(\n",
              "            'suggestCharts', [key], {});\n",
              "      } catch (error) {\n",
              "        console.error('Error during call to suggestCharts:', error);\n",
              "      }\n",
              "      quickchartButtonEl.classList.remove('colab-df-spinner');\n",
              "      quickchartButtonEl.classList.add('colab-df-quickchart-complete');\n",
              "    }\n",
              "    (() => {\n",
              "      let quickchartButtonEl =\n",
              "        document.querySelector('#df-a31fd2a2-ce12-4e4c-af3c-5475cb2ead34 button');\n",
              "      quickchartButtonEl.style.display =\n",
              "        google.colab.kernel.accessAllowed ? 'block' : 'none';\n",
              "    })();\n",
              "  </script>\n",
              "</div>\n",
              "\n",
              "    </div>\n",
              "  </div>\n"
            ]
          },
          "metadata": {},
          "execution_count": 61
        }
      ]
    },
    {
      "cell_type": "code",
      "source": [
        "# Define a função que aceita um DataFrame pandas como argumento.\n",
        "def plot_forecast(df):\n",
        "\n",
        "    # Remove a primeira coluna do DataFrame.\n",
        "    df = df.iloc[:, 1:]\n",
        "\n",
        "    # Define o número de colunas na grid de gráficos.\n",
        "    num_cols = 3\n",
        "\n",
        "    # Calcula o número de linhas necessárias na grid.\n",
        "    num_rows = (len(df.columns) - 1) // num_cols + 1\n",
        "\n",
        "    # Define o tamanho total da figura.\n",
        "    figsize = (num_cols * 6, num_rows * 4)\n",
        "\n",
        "    # Cria a figura e os eixos para os subgráficos.\n",
        "    fig, axes = plt.subplots(num_rows, num_cols, figsize = figsize)\n",
        "\n",
        "    # Achata o array 2D de eixos para um array 1D para facilitar a iteração.\n",
        "    axes = axes.flatten()\n",
        "\n",
        "    # Itera através das colunas do DataFrame.\n",
        "    for i, col in enumerate(df.columns):\n",
        "\n",
        "        # Pega o i-ésimo eixo para o i-ésimo gráfico.\n",
        "        ax = axes[i]\n",
        "\n",
        "        # Usa o índice do DataFrame como os valores do eixo X.\n",
        "        x_values = df.index\n",
        "\n",
        "        # Usa os valores da coluna atual como os valores do eixo Y.\n",
        "        y_values = df[col]\n",
        "\n",
        "        # Plota os valores de X e Y.\n",
        "        ax.plot(x_values, y_values)\n",
        "\n",
        "        # Define o título do gráfico para o nome da coluna atual.\n",
        "        ax.set_title(col)\n",
        "\n",
        "        # Define o rótulo do eixo X.\n",
        "        ax.set_xlabel('Trimestres')\n",
        "\n",
        "        # Define o rótulo do eixo Y.\n",
        "        ax.set_ylabel('Valor')\n",
        "\n",
        "        # Ativa a grade no gráfico.\n",
        "        ax.grid(True)\n",
        "\n",
        "        # Gira os rótulos do eixo X em 45 graus.\n",
        "        ax.tick_params(axis = 'x', rotation = 45)\n",
        "\n",
        "        # Remove os rótulos do eixo X.\n",
        "        ax.set_xticklabels([])\n",
        "\n",
        "    # Verifica se há mais eixos do que colunas.\n",
        "    if len(df.columns) < len(axes):\n",
        "\n",
        "        # Itera pelos eixos excedentes.\n",
        "        for j in range(len(df.columns), len(axes)):\n",
        "\n",
        "            # Remove os eixos excedentes.\n",
        "            fig.delaxes(axes[j])\n",
        "\n",
        "    # Ajusta o layout para que os gráficos não se sobreponham.\n",
        "    fig.tight_layout()\n",
        "\n",
        "    # Exibe a figura completa.\n",
        "    plt.show()"
      ],
      "metadata": {
        "id": "2RrjYtQM5ZQc"
      },
      "execution_count": 62,
      "outputs": []
    },
    {
      "cell_type": "code",
      "source": [
        "# Executa a função\n",
        "plot_forecast(df)"
      ],
      "metadata": {
        "colab": {
          "base_uri": "https://localhost:8080/",
          "height": 435
        },
        "id": "zR3337zo5jCd",
        "outputId": "cf3d7e1b-4271-4a9d-fc56-3cc67064fd1d"
      },
      "execution_count": 63,
      "outputs": [
        {
          "output_type": "display_data",
          "data": {
            "text/plain": [
              "<Figure size 1800x1200 with 7 Axes>"
            ],
            "image/png": "[encoded data removed]"
          },
          "metadata": {}
        }
      ]
    },
    {
      "cell_type": "code",
      "source": [],
      "metadata": {
        "id": "tePETJxx5mQw"
      },
      "execution_count": null,
      "outputs": []
    }
  ]
}