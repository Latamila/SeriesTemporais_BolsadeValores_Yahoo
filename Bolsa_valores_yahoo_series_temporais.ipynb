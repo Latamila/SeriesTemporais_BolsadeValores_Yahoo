{
  "nbformat": 4,
  "nbformat_minor": 0,
  "metadata": {
    "colab": {
      "provenance": [],
      "authorship_tag": "ABX9TyOqeYBVSp5L2nVGF/OOadVX",
      "include_colab_link": true
    },
    "kernelspec": {
      "name": "python3",
      "display_name": "Python 3"
    },
    "language_info": {
      "name": "python"
    }
  },
  "cells": [
    {
      "cell_type": "markdown",
      "metadata": {
        "id": "view-in-github",
        "colab_type": "text"
      },
      "source": [
        "<a href=\"https://colab.research.google.com/github/Latamila/SeriesTemporais_BolsadeValores_Yahoo/blob/main/Bolsa_valores_yahoo_series_temporais.ipynb\" target=\"_parent\"><img src=\"https://colab.research.google.com/assets/colab-badge.svg\" alt=\"Open In Colab\"/></a>"
      ]
    },
    {
      "cell_type": "markdown",
      "source": [
        "##Simple Moving Average (SMA)\n",
        "\n",
        " é um cálculo usado para analisar dados de séries temporais ao longo de um período de tempo especificado. É chamada de \"média móvel\" porque à medida que novos pontos de dados se tornam disponíveis, os cálculos mais antigos são descartados e novos são adicionados, então a \"média\" literalmente \"move\" ao longo do tempo.A SMA é calculada somando-se um número de pontos de dados e então dividindo-se pelo número de pontos de dados nesse conjunto. Por exemplo, uma SMA de 10 dias para o preço de uma ação seria calculada somando-se os preços de fechamento dos últimos 10 dias e dividindo-se por 10.Uma das principais utilidades da SMA é que ela suaviza as flutuações de curto prazo, ajudando  o  analista  a  identificar  tendências  de  longo  prazo.  No  entanto,  ela  tem  uma desvantagem significativa: ao suavizar os dados, ela também pode introduzir um atraso, o que significa que as mudanças de tendência na SMA serão observadas depois de já terem ocorrido nos dados originais.As  SMA  são  frequentemente  usadas  em  análises  financeiras  e  técnicas  para  indicar tendências  de  preços  de  ações,  forex  ou  outros  ativos  financeiros.  Elas  também  podem  ser usadas em outras disciplinas para suavizar qualquer tipo de dados de séries temporais."
      ],
      "metadata": {
        "id": "hTzTcqUDLWWh"
      }
    },
    {
      "cell_type": "markdown",
      "source": [
        "#O Que é Moving Standard Deviation -MSD?\n",
        "\n",
        "> O  Moving  Standard  Deviation  (MSD),  ou  Desvio  Padrão  Móvel,  é  uma  medida  de volatilidade que muda ao longo do tempo. Assim como a média móvel simples (SMA), é calculado ao longo de uma janela de tempo especificada, mas, em vez de calcular a média dos pontos de dados, calcula-se o desvio padrão.O desvio padrão é uma medida de dispersão que mostra o quanto os valores em um conjunto de dados variam em relação à média. Quando aplicado a séries temporais financeiras, o MSD pode fornecer uma medida da volatilidade de um ativo.Para calcular o MSD, você primeiramente calcula a média móvel dos pontos de dados. Em seguida, para cada ponto na janela, você subtrai a média móvel e eleva o resultado ao quadrado. Depois, você soma todos esses valores quadrados, calcula a média deles e, finalmente, tira a raizquadrada do resultado.Essencialmente, o MSD fornece uma medida da volatilidade que se move junto com o tempo, da mesma forma que uma média móvel acompanha a tendência central dos dados. É frequentemente usado em análises financeiras e técnicas para medir a volatilidade dos preços das ações ao longo do tempo."
      ],
      "metadata": {
        "id": "GMTAt7grMMml"
      }
    },
    {
      "cell_type": "markdown",
      "source": [
        "#O Que é Volume Weighted Average Price?\n",
        "\n",
        "\n",
        "O  Volume  Weighted  Average  Price  (VWAP)  é  uma  métrica  de  negociação  que  é frequentemente usada por traders e analistas. VWAP é a média do preço de um ativo (como uma ação) ponderada pelo volume de negociações desse ativo.VWAP é calculado somando o valor de todas as negociações durante um período de tempo  (geralmente  um  dia  de  negociação)  e  depois  dividindo  pelo  volume  total  negociado durante esse período.Aqui está a fórmula para calcular o VWAP:VWAP = (Total Value of All Trades) / (Total Volume of All Trades)O VWAP é uma ferramenta valiosa para traders e investidores por várias razões:Fornecimento de um \"preço médio\" para um ativo que leva em consideração tanto o preço  quanto  o  volume.  Isso  é  particularmente  útil  para  grandes  traders  ou  investidores institucionais que precisam executar grandes ordens sem perturbar significativamente o preço de mercado do ativo. Oferecimento de uma referência de preço que pode ser usada para avaliar a eficácia de negociações individuais. Se um trader comprar abaixo do VWAP ou vender acima dele, essa pode ser considerada uma negociação \"boa\" (ou pelo menos melhor do que a média).Agindo como um nível potencial de suporte ou resistência no gráfico de um ativo. Muitos traders acreditam que o preço de um ativo pode ser atraído para o seu VWAP ou encontrar \"suporte\" ou \"resistência\" nele. Note que, embora o VWAP possa ser uma ferramenta útil para alguns traders, ele não fornece uma \"garantia\" de desempenho futuro e deve ser usado em conjunto com outras formas de análise e gestão de riscos."
      ],
      "metadata": {
        "id": "WbIKyL77M9dZ"
      }
    },
    {
      "cell_type": "markdown",
      "source": [
        "#O Que é Relative Strength Index -RSI?\n",
        "\n",
        "\n",
        "O  Índice  de  Força  Relativa  (RSI,  na  sigla  em  inglês  de  Relative  Strength  Index)  é  um indicador  técnico  usado  na  análise  de  mercados  financeiros.  Foi  desenvolvido  por  J.  Welles Wilder e introduzido em seu livro de 1978, \"New Concepts in Technical Trading Systems\".\n",
        "\n",
        "\n",
        "O  RSI  é  um  oscilador  que  varia  entre  0  e  100  e  é  comumente  usado  para  medir  a velocidade e a mudança dos movimentos de preços de um ativo. Ele é usado principalmente para identificar condições de sobrecompra ou sobrevenda na negociação de um ativo.\n",
        "\n",
        "A fórmula básica para calcular o RSI é:\n",
        "\n",
        "**RSI = 100 -(100 / (1 + RS))**\n",
        "\n",
        "Onde RS (Relative Strength) é a média de 'n' dias de fechamentos mais altos, dividida pela média de 'n' dias de fechamentos mais baixos. O valor 'n' é geralmente 14, mas pode ser ajustado para sensibilidade.\n",
        "\n",
        "**Valores de RSI acima de 70 são geralmente interpretados como indicando uma condição de sobrecompra**,\n",
        "\n",
        "sugerindo que um ativo pode estar sendo negociado a um preço acima de seu valor intrínseco e que pode haver uma reversão de tendência ou uma correção de preço.\n",
        "\n",
        "**Por outro lado, um RSI abaixo de 30 é geralmente interpretado como indicando uma condição de sobrevenda**,\n",
        "\n",
        " sugerindo que um ativo pode estar sendo negociado a um preço abaixo de seu valor intrínseco e que pode haver uma reversão de tendência ou um aumento de preço.\n",
        "\n",
        " É importante notar que, como todos os indicadores técnicos, o RSI não é infalível e pode dar sinais falsos. Portanto, é melhor usá-lo em conjunto com outras ferramentas e indicadores de análise técnica."
      ],
      "metadata": {
        "id": "FR-hY2esN3h7"
      }
    },
    {
      "cell_type": "code",
      "source": [
        "from platform import python_version\n",
        "print('Versão da Linguagem Python Usada Neste Jupyter Notebook:', python_version())"
      ],
      "metadata": {
        "colab": {
          "base_uri": "https://localhost:8080/"
        },
        "id": "omLpr2DDMDr6",
        "outputId": "f136cd76-cf4f-483a-e375-12f7d24aee50"
      },
      "execution_count": 1,
      "outputs": [
        {
          "output_type": "stream",
          "name": "stdout",
          "text": [
            "Versão da Linguagem Python Usada Neste Jupyter Notebook: 3.10.12\n"
          ]
        }
      ]
    },
    {
      "cell_type": "code",
      "source": [
        "!pip install -q -U watermark"
      ],
      "metadata": {
        "colab": {
          "base_uri": "https://localhost:8080/"
        },
        "id": "MeSlLCTpPo1N",
        "outputId": "fe7616b4-1707-4abf-8898-8f33882c1386"
      },
      "execution_count": 2,
      "outputs": [
        {
          "output_type": "stream",
          "name": "stdout",
          "text": [
            "\u001b[2K     \u001b[90m━━━━━━━━━━━━━━━━━━━━━━━━━━━━━━━━━━━━━━━━\u001b[0m \u001b[32m1.6/1.6 MB\u001b[0m \u001b[31m7.4 MB/s\u001b[0m eta \u001b[36m0:00:00\u001b[0m\n",
            "\u001b[?25h"
          ]
        }
      ]
    },
    {
      "cell_type": "code",
      "source": [
        "%env TF_CPP_MIN_LOG_LEVEL=3"
      ],
      "metadata": {
        "colab": {
          "base_uri": "https://localhost:8080/"
        },
        "id": "MoNn15ptPrBy",
        "outputId": "79ac54b1-548d-4826-ac0f-57e1235d476e"
      },
      "execution_count": 3,
      "outputs": [
        {
          "output_type": "stream",
          "name": "stdout",
          "text": [
            "env: TF_CPP_MIN_LOG_LEVEL=3\n"
          ]
        }
      ]
    },
    {
      "cell_type": "code",
      "source": [
        "!pip install -q tensorflow==2.12.0"
      ],
      "metadata": {
        "colab": {
          "base_uri": "https://localhost:8080/"
        },
        "id": "rEvdg9rXPwqL",
        "outputId": "b84403f2-0372-4a33-c440-58c260b03dc5"
      },
      "execution_count": 4,
      "outputs": [
        {
          "output_type": "stream",
          "name": "stdout",
          "text": [
            "\u001b[2K     \u001b[90m━━━━━━━━━━━━━━━━━━━━━━━━━━━━━━━━━━━━━━━━\u001b[0m \u001b[32m585.9/585.9 MB\u001b[0m \u001b[31m2.7 MB/s\u001b[0m eta \u001b[36m0:00:00\u001b[0m\n",
            "\u001b[2K     \u001b[90m━━━━━━━━━━━━━━━━━━━━━━━━━━━━━━━━━━━━━━━━\u001b[0m \u001b[32m1.7/1.7 MB\u001b[0m \u001b[31m62.0 MB/s\u001b[0m eta \u001b[36m0:00:00\u001b[0m\n",
            "\u001b[2K     \u001b[90m━━━━━━━━━━━━━━━━━━━━━━━━━━━━━━━━━━━━━━━━\u001b[0m \u001b[32m5.6/5.6 MB\u001b[0m \u001b[31m81.4 MB/s\u001b[0m eta \u001b[36m0:00:00\u001b[0m\n",
            "\u001b[2K     \u001b[90m━━━━━━━━━━━━━━━━━━━━━━━━━━━━━━━━━━━━━━━━\u001b[0m \u001b[32m440.7/440.7 kB\u001b[0m \u001b[31m31.3 MB/s\u001b[0m eta \u001b[36m0:00:00\u001b[0m\n",
            "\u001b[?25h"
          ]
        }
      ]
    },
    {
      "cell_type": "code",
      "source": [
        "# https://pypi.org/project/yfinance/\n",
        "!pip install -q yfinance==0.2.22"
      ],
      "metadata": {
        "colab": {
          "base_uri": "https://localhost:8080/"
        },
        "id": "6yYmXU4XPxaq",
        "outputId": "52bff444-93f3-477e-dc71-3370068401ae"
      },
      "execution_count": 5,
      "outputs": [
        {
          "output_type": "stream",
          "name": "stdout",
          "text": [
            "\u001b[?25l     \u001b[90m━━━━━━━━━━━━━━━━━━━━━━━━━━━━━━━━━━━━━━━━\u001b[0m \u001b[32m0.0/63.2 kB\u001b[0m \u001b[31m?\u001b[0m eta \u001b[36m-:--:--\u001b[0m\r\u001b[2K     \u001b[91m━━━━━━━━━━━━━━━━━━━━━━━━━━━━━━━━\u001b[0m\u001b[90m╺\u001b[0m\u001b[90m━━━━━━━\u001b[0m \u001b[32m51.2/63.2 kB\u001b[0m \u001b[31m1.3 MB/s\u001b[0m eta \u001b[36m0:00:01\u001b[0m\r\u001b[2K     \u001b[90m━━━━━━━━━━━━━━━━━━━━━━━━━━━━━━━━━━━━━━━━\u001b[0m \u001b[32m63.2/63.2 kB\u001b[0m \u001b[31m1.2 MB/s\u001b[0m eta \u001b[36m0:00:00\u001b[0m\n",
            "\u001b[?25h"
          ]
        }
      ]
    },
    {
      "cell_type": "code",
      "source": [
        "# https://pypi.org/project/ta/\n",
        "!pip install -q ta==0.10.2"
      ],
      "metadata": {
        "colab": {
          "base_uri": "https://localhost:8080/"
        },
        "id": "Ozjx3IwhP0_H",
        "outputId": "9d26a4ee-d7f7-4784-ee5f-9658b106f55a"
      },
      "execution_count": 6,
      "outputs": [
        {
          "output_type": "stream",
          "name": "stdout",
          "text": [
            "  Preparing metadata (setup.py) ... \u001b[?25l\u001b[?25hdone\n",
            "  Building wheel for ta (setup.py) ... \u001b[?25l\u001b[?25hdone\n"
          ]
        }
      ]
    },
    {
      "cell_type": "code",
      "source": [
        "# Imports\n",
        "import ta\n",
        "import sklearn\n",
        "import pandas as pd\n",
        "import numpy as np\n",
        "import tensorflow\n",
        "from tensorflow import keras\n",
        "from keras import layers\n",
        "from sklearn import metrics\n",
        "from sklearn.preprocessing import StandardScaler\n",
        "import yfinance as yf\n",
        "import matplotlib.pyplot as plt\n",
        "from matplotlib import cycler\n",
        "import warnings\n",
        "warnings.filterwarnings(\"ignore\")"
      ],
      "metadata": {
        "id": "4Jeu3CRyP51J"
      },
      "execution_count": 7,
      "outputs": []
    },
    {
      "cell_type": "markdown",
      "source": [
        "### Função Para Extração dos Dados em Tempo Real\n",
        "\n",
        "https://finance.yahoo.com/"
      ],
      "metadata": {
        "id": "h0K7HYrKQj9v"
      }
    },
    {
      "cell_type": "code",
      "source": [
        "# Função\n",
        "def extrai_dados(ticker):\n",
        "\n",
        "    # Busca todos os dados a partir de 01/01/1990\n",
        "    dados = yf.download(ticker, start = \"1990-01-01\")#api da yahoo finance\n",
        "\n",
        "    # Colunas do dataframe\n",
        "    dados.columns = [\"open\", \"high\", \"low\", \"close\", \"adj close\", \"volume\"]\n",
        "\n",
        "    # Data como índice\n",
        "    dados.index.name = \"date\"\n",
        "\n",
        "    return dados"
      ],
      "metadata": {
        "id": "VNkheYXTQamI"
      },
      "execution_count": 8,
      "outputs": []
    },
    {
      "cell_type": "markdown",
      "source": [
        "## Função Para Engenharia de Atributos de Dados Financeiros"
      ],
      "metadata": {
        "id": "q_A-rnX3Qqxo"
      }
    },
    {
      "cell_type": "markdown",
      "source": [
        "O código abaixo define uma função de engenharia de atributos para um dataframe que representa dados de um ativo financeiro (ações) com colunas para 'open' (preço de abertura), 'high' (máximo do dia), 'low' (mínimo do dia), 'close' (preço de fechamento) e 'volume'.\n",
        "\n",
        "A engenharia de atributos é uma técnica usada para criar novas variáveis com base em variáveis existentes, a fim de melhorar o desempenho dos modelos de Machine Learning. Aqui está uma descrição detalhada do que o código faz:\n",
        "\n",
        "Primeiro, cria uma cópia do dataframe para não modificar o dataframe original.\n",
        "\n",
        "Em seguida, cria uma nova coluna 'retorno', que representa a mudança percentual do preço de fechamento em relação ao dia anterior.\n",
        "\n",
        "As colunas 'open', 'high', 'low', 'close' e 'volume' são então deslocadas para baixo (shifted) em uma unidade, criando as colunas 'op', 'hi', 'lo', 'clo' e 'vol'. Isso significa que a linha 'i' dessas novas colunas contém os valores da linha 'i-1' das colunas originais.\n",
        "\n",
        "A função também cria médias móveis simples (Simple Moving Average - SMA) para o preço de fechamento com janelas de 15 e 60 dias, deslocadas por uma unidade.\n",
        "\n",
        "A volatilidade, representada como o desvio padrão das mudanças percentuais do preço de fechamento, é calculada para as janelas de 15 e 60 dias, também deslocadas por uma unidade. Esse índice é conhecido como Moving Standard Deviation (MSD).\n",
        "\n",
        "Em seguida, a função cria o Volume Weighted Average Price (VWAP) com uma janela de 5 dias. O VWAP é uma medida de preço médio ponderado pelo volume.\n",
        "\n",
        "A função também adiciona o indicador RSI (Relative Strength Index) com uma janela de 5 dias. O RSI é um indicador de momento que mede a velocidade e a mudança de movimentos de preço.\n",
        "\n",
        "Finalmente, a função remove todas as linhas que contêm valores NA (que foram criados ao deslocar as colunas e calcular médias móveis e RSI com janelas).\n",
        "\n",
        "Em resumo, essa função cria várias novas características técnicas comumente usadas na análise de ativos financeiros, todas deslocadas por uma unidade, para evitar o uso de informações futuras (ou seja, vazamento de dados) no modelo de Machine Learning."
      ],
      "metadata": {
        "id": "D2UfoiMaQum_"
      }
    },
    {
      "cell_type": "code",
      "source": [
        "# Função para engenharia de atributos\n",
        "def func_engenharia_atributos(df):#recebe um dataframe como argumento\n",
        "\n",
        "    # Cópia do dataframe\n",
        "    df_copy = df.copy()\n",
        "\n",
        "    # Cria a variável com o retorno (mudança percentual do fechamento - close)\n",
        "    # Essa será nossa variável alvo\n",
        "    #o valor 1 é porque queremos de 1 dia no percentual de mudança(pct_change)\n",
        "    df_copy[\"retorno\"] = df_copy[\"close\"].pct_change(1)\n",
        "\n",
        "    # Shift das colunas de preço do ativo financeiro\n",
        "    df_copy[\"op\"] = df_copy[\"open\"].shift(1)#shift= mover os dados no tempo\n",
        "    df_copy[\"hi\"] = df_copy[\"high\"].shift(1)#movendo uma data para tras\n",
        "    df_copy[\"lo\"] = df_copy[\"low\"].shift(1)#criando novas variaveis\n",
        "    df_copy[\"clo\"] = df_copy[\"close\"].shift(1)#que serao variaveis para\n",
        "    #o modelo.\n",
        "\n",
        "    # Shift da coluna Volume\n",
        "    df_copy[\"vol\"] = df_copy[\"volume\"].shift(1)#obedece o mesmo shift de tempo\n",
        "\n",
        "    # Simple Moving Average (SMA)\n",
        "    df_copy[\"SMA 15\"] = df_copy[[\"close\"]].rolling(15).mean().shift(1)\n",
        "    df_copy[\"SMA 60\"] = df_copy[[\"close\"]].rolling(60).mean().shift(1)\n",
        "    #rolling= janela deslizante\n",
        "    #criando novas variaveis\n",
        "    #o SMA é feito aplicando a função media, rolling e shift\n",
        "    #pra que haja o deslizamento pelos dias, extraindo a media com o\n",
        "    #padrao de mover os dados de 1 em 1 unidade com shift.\n",
        "\n",
        "\n",
        "\n",
        "    # Moving Standard Deviation (MSD) - Volatilidade\n",
        "    df_copy[\"MSD 15\"] = df_copy[\"retorno\"].rolling(15).std().shift(1)\n",
        "    df_copy[\"MSD 60\"] = df_copy[\"retorno\"].rolling(60).std().shift(1)\n",
        "    #o MSD tem o mesmo padrão de execução porem se usa o desvio padrao ou std.\n",
        "\n",
        "    # Volume Weighted Average Price (VWAP)\n",
        "    vwap = ta.volume.VolumeWeightedAveragePrice(high = df['high'],\n",
        "                                                low = df['low'],\n",
        "                                                close = df['close'],\n",
        "                                                volume = df['volume'],\n",
        "                                                window = 5)\n",
        "    #o numero 5 de window é porque a bolsa de valores funciona 5 dias.\n",
        "\n",
        "    df_copy[\"VWAP\"] = vwap.vwap.shift(1)\n",
        "\n",
        "    # Relative Strength Index (RSI)\n",
        "    RSI = ta.momentum.RSIIndicator(df_copy[\"close\"], window = 5, fillna = False)\n",
        "\n",
        "    df_copy[\"RSI\"] = RSI.rsi().shift(1)\n",
        "\n",
        "    return df_copy.dropna()"
      ],
      "metadata": {
        "id": "qWBA4ROJQgq6"
      },
      "execution_count": 10,
      "outputs": []
    },
    {
      "cell_type": "markdown",
      "source": [
        "#EXTRAÇÃO E PROCESSAMENTO DOS DADOS"
      ],
      "metadata": {
        "id": "gUwNLb3_ojud"
      }
    },
    {
      "cell_type": "code",
      "source": [
        "# Extração dos dados\n",
        "df = extrai_dados(\"MSFT\")"
      ],
      "metadata": {
        "colab": {
          "base_uri": "https://localhost:8080/"
        },
        "id": "gsKlf15vSXe8",
        "outputId": "c5edf671-9706-437f-8ca7-138fd346bb31"
      },
      "execution_count": 13,
      "outputs": [
        {
          "output_type": "stream",
          "name": "stdout",
          "text": [
            "\r[*********************100%***********************]  1 of 1 completed\n"
          ]
        }
      ]
    },
    {
      "cell_type": "code",
      "source": [
        "# Engenharia de atributos\n",
        "df = func_engenharia_atributos(df)"
      ],
      "metadata": {
        "id": "00_5S6m8osX-"
      },
      "execution_count": 14,
      "outputs": []
    },
    {
      "cell_type": "code",
      "source": [
        "df"
      ],
      "metadata": {
        "colab": {
          "base_uri": "https://localhost:8080/",
          "height": 648
        },
        "id": "C5P4d91Xo3kz",
        "outputId": "c3190ba3-beaf-4abf-8b0d-b4888fc36623"
      },
      "execution_count": 16,
      "outputs": [
        {
          "output_type": "execute_result",
          "data": {
            "text/plain": [
              "                  open        high         low       close   adj close  \\\n",
              "date                                                                     \n",
              "1990-03-29    0.766493    0.782986    0.763889    0.767361    0.475736   \n",
              "1990-03-30    0.763889    0.770833    0.758681    0.769097    0.476812   \n",
              "1990-04-02    0.762153    0.780382    0.758681    0.774306    0.480042   \n",
              "1990-04-03    0.782986    0.807292    0.781250    0.805556    0.499416   \n",
              "1990-04-04    0.805556    0.824653    0.802083    0.812500    0.503721   \n",
              "...                ...         ...         ...         ...         ...   \n",
              "2024-01-02  373.859985  375.899994  366.769989  370.869995  370.869995   \n",
              "2024-01-03  369.010010  373.260010  368.510010  370.600006  370.600006   \n",
              "2024-01-04  370.670013  373.100006  367.170013  367.940002  367.940002   \n",
              "2024-01-05  368.970001  372.059998  366.500000  367.750000  367.750000   \n",
              "2024-01-08  369.299988  370.970001  369.029999  370.070007  370.070007   \n",
              "\n",
              "              volume   retorno          op          hi          lo  \\\n",
              "date                                                                 \n",
              "1990-03-29  64785600 -0.004504    0.779514    0.779514    0.753472   \n",
              "1990-03-30  36691200  0.002262    0.766493    0.782986    0.763889   \n",
              "1990-04-02  74059200  0.006773    0.763889    0.770833    0.758681   \n",
              "1990-04-03  84643200  0.040359    0.762153    0.780382    0.758681   \n",
              "1990-04-04  79646400  0.008620    0.782986    0.807292    0.781250   \n",
              "...              ...       ...         ...         ...         ...   \n",
              "2024-01-02  25258600 -0.013749  376.000000  377.160004  373.480011   \n",
              "2024-01-03  23083500 -0.000728  373.859985  375.899994  366.769989   \n",
              "2024-01-04  20901500 -0.007178  369.010010  373.260010  368.510010   \n",
              "2024-01-05  20987000 -0.000516  370.670013  373.100006  367.170013   \n",
              "2024-01-08   3204970  0.006309  368.970001  372.059998  366.500000   \n",
              "\n",
              "                   clo         vol      SMA 15      SMA 60    MSD 15  \\\n",
              "date                                                                   \n",
              "1990-03-29    0.770833  99532800.0    0.768229    0.681944  0.019495   \n",
              "1990-03-30    0.767361  64785600.0    0.770197    0.684404  0.017916   \n",
              "1990-04-02    0.769097  36691200.0    0.772164    0.686588  0.017916   \n",
              "1990-04-03    0.774306  74059200.0    0.773669    0.689120  0.017560   \n",
              "1990-04-04    0.805556  84643200.0    0.778183    0.692014  0.019132   \n",
              "...                ...         ...         ...         ...       ...   \n",
              "2024-01-02  376.040009  18723000.0  373.042668  357.824169  0.008626   \n",
              "2024-01-03  370.869995  25258600.0  372.818667  358.682670  0.009107   \n",
              "2024-01-04  370.600006  23083500.0  372.772001  359.405003  0.008884   \n",
              "2024-01-05  367.940002  20901500.0  372.342668  360.040336  0.008738   \n",
              "2024-01-08  367.750000  20987000.0  371.901335  360.696336  0.008735   \n",
              "\n",
              "              MSD 60        VWAP        RSI  \n",
              "date                                         \n",
              "1990-03-29  0.020194    0.772823  48.231148  \n",
              "1990-03-30  0.020222    0.771632  44.647708  \n",
              "1990-04-02  0.019941    0.771327  47.103935  \n",
              "1990-04-03  0.019607    0.770822  54.651644  \n",
              "1990-04-04  0.020116    0.776124  78.092875  \n",
              "...              ...         ...        ...  \n",
              "2024-01-02  0.012340  374.814569  66.269702  \n",
              "2024-01-03  0.012523  373.876595  35.208612  \n",
              "2024-01-04  0.012186  372.984478  34.163347  \n",
              "2024-01-05  0.012221  372.107689  25.016826  \n",
              "2024-01-08  0.012198  371.044996  24.432769  \n",
              "\n",
              "[8509 rows x 18 columns]"
            ],
            "text/html": [
              "\n",
              "  <div id=\"df-deb188ea-cbfc-4951-8340-b8efa487a730\" class=\"colab-df-container\">\n",
              "    <div>\n",
              "<style scoped>\n",
              "    .dataframe tbody tr th:only-of-type {\n",
              "        vertical-align: middle;\n",
              "    }\n",
              "\n",
              "    .dataframe tbody tr th {\n",
              "        vertical-align: top;\n",
              "    }\n",
              "\n",
              "    .dataframe thead th {\n",
              "        text-align: right;\n",
              "    }\n",
              "</style>\n",
              "<table border=\"1\" class=\"dataframe\">\n",
              "  <thead>\n",
              "    <tr style=\"text-align: right;\">\n",
              "      <th></th>\n",
              "      <th>open</th>\n",
              "      <th>high</th>\n",
              "      <th>low</th>\n",
              "      <th>close</th>\n",
              "      <th>adj close</th>\n",
              "      <th>volume</th>\n",
              "      <th>retorno</th>\n",
              "      <th>op</th>\n",
              "      <th>hi</th>\n",
              "      <th>lo</th>\n",
              "      <th>clo</th>\n",
              "      <th>vol</th>\n",
              "      <th>SMA 15</th>\n",
              "      <th>SMA 60</th>\n",
              "      <th>MSD 15</th>\n",
              "      <th>MSD 60</th>\n",
              "      <th>VWAP</th>\n",
              "      <th>RSI</th>\n",
              "    </tr>\n",
              "    <tr>\n",
              "      <th>date</th>\n",
              "      <th></th>\n",
              "      <th></th>\n",
              "      <th></th>\n",
              "      <th></th>\n",
              "      <th></th>\n",
              "      <th></th>\n",
              "      <th></th>\n",
              "      <th></th>\n",
              "      <th></th>\n",
              "      <th></th>\n",
              "      <th></th>\n",
              "      <th></th>\n",
              "      <th></th>\n",
              "      <th></th>\n",
              "      <th></th>\n",
              "      <th></th>\n",
              "      <th></th>\n",
              "      <th></th>\n",
              "    </tr>\n",
              "  </thead>\n",
              "  <tbody>\n",
              "    <tr>\n",
              "      <th>1990-03-29</th>\n",
              "      <td>0.766493</td>\n",
              "      <td>0.782986</td>\n",
              "      <td>0.763889</td>\n",
              "      <td>0.767361</td>\n",
              "      <td>0.475736</td>\n",
              "      <td>64785600</td>\n",
              "      <td>-0.004504</td>\n",
              "      <td>0.779514</td>\n",
              "      <td>0.779514</td>\n",
              "      <td>0.753472</td>\n",
              "      <td>0.770833</td>\n",
              "      <td>99532800.0</td>\n",
              "      <td>0.768229</td>\n",
              "      <td>0.681944</td>\n",
              "      <td>0.019495</td>\n",
              "      <td>0.020194</td>\n",
              "      <td>0.772823</td>\n",
              "      <td>48.231148</td>\n",
              "    </tr>\n",
              "    <tr>\n",
              "      <th>1990-03-30</th>\n",
              "      <td>0.763889</td>\n",
              "      <td>0.770833</td>\n",
              "      <td>0.758681</td>\n",
              "      <td>0.769097</td>\n",
              "      <td>0.476812</td>\n",
              "      <td>36691200</td>\n",
              "      <td>0.002262</td>\n",
              "      <td>0.766493</td>\n",
              "      <td>0.782986</td>\n",
              "      <td>0.763889</td>\n",
              "      <td>0.767361</td>\n",
              "      <td>64785600.0</td>\n",
              "      <td>0.770197</td>\n",
              "      <td>0.684404</td>\n",
              "      <td>0.017916</td>\n",
              "      <td>0.020222</td>\n",
              "      <td>0.771632</td>\n",
              "      <td>44.647708</td>\n",
              "    </tr>\n",
              "    <tr>\n",
              "      <th>1990-04-02</th>\n",
              "      <td>0.762153</td>\n",
              "      <td>0.780382</td>\n",
              "      <td>0.758681</td>\n",
              "      <td>0.774306</td>\n",
              "      <td>0.480042</td>\n",
              "      <td>74059200</td>\n",
              "      <td>0.006773</td>\n",
              "      <td>0.763889</td>\n",
              "      <td>0.770833</td>\n",
              "      <td>0.758681</td>\n",
              "      <td>0.769097</td>\n",
              "      <td>36691200.0</td>\n",
              "      <td>0.772164</td>\n",
              "      <td>0.686588</td>\n",
              "      <td>0.017916</td>\n",
              "      <td>0.019941</td>\n",
              "      <td>0.771327</td>\n",
              "      <td>47.103935</td>\n",
              "    </tr>\n",
              "    <tr>\n",
              "      <th>1990-04-03</th>\n",
              "      <td>0.782986</td>\n",
              "      <td>0.807292</td>\n",
              "      <td>0.781250</td>\n",
              "      <td>0.805556</td>\n",
              "      <td>0.499416</td>\n",
              "      <td>84643200</td>\n",
              "      <td>0.040359</td>\n",
              "      <td>0.762153</td>\n",
              "      <td>0.780382</td>\n",
              "      <td>0.758681</td>\n",
              "      <td>0.774306</td>\n",
              "      <td>74059200.0</td>\n",
              "      <td>0.773669</td>\n",
              "      <td>0.689120</td>\n",
              "      <td>0.017560</td>\n",
              "      <td>0.019607</td>\n",
              "      <td>0.770822</td>\n",
              "      <td>54.651644</td>\n",
              "    </tr>\n",
              "    <tr>\n",
              "      <th>1990-04-04</th>\n",
              "      <td>0.805556</td>\n",
              "      <td>0.824653</td>\n",
              "      <td>0.802083</td>\n",
              "      <td>0.812500</td>\n",
              "      <td>0.503721</td>\n",
              "      <td>79646400</td>\n",
              "      <td>0.008620</td>\n",
              "      <td>0.782986</td>\n",
              "      <td>0.807292</td>\n",
              "      <td>0.781250</td>\n",
              "      <td>0.805556</td>\n",
              "      <td>84643200.0</td>\n",
              "      <td>0.778183</td>\n",
              "      <td>0.692014</td>\n",
              "      <td>0.019132</td>\n",
              "      <td>0.020116</td>\n",
              "      <td>0.776124</td>\n",
              "      <td>78.092875</td>\n",
              "    </tr>\n",
              "    <tr>\n",
              "      <th>...</th>\n",
              "      <td>...</td>\n",
              "      <td>...</td>\n",
              "      <td>...</td>\n",
              "      <td>...</td>\n",
              "      <td>...</td>\n",
              "      <td>...</td>\n",
              "      <td>...</td>\n",
              "      <td>...</td>\n",
              "      <td>...</td>\n",
              "      <td>...</td>\n",
              "      <td>...</td>\n",
              "      <td>...</td>\n",
              "      <td>...</td>\n",
              "      <td>...</td>\n",
              "      <td>...</td>\n",
              "      <td>...</td>\n",
              "      <td>...</td>\n",
              "      <td>...</td>\n",
              "    </tr>\n",
              "    <tr>\n",
              "      <th>2024-01-02</th>\n",
              "      <td>373.859985</td>\n",
              "      <td>375.899994</td>\n",
              "      <td>366.769989</td>\n",
              "      <td>370.869995</td>\n",
              "      <td>370.869995</td>\n",
              "      <td>25258600</td>\n",
              "      <td>-0.013749</td>\n",
              "      <td>376.000000</td>\n",
              "      <td>377.160004</td>\n",
              "      <td>373.480011</td>\n",
              "      <td>376.040009</td>\n",
              "      <td>18723000.0</td>\n",
              "      <td>373.042668</td>\n",
              "      <td>357.824169</td>\n",
              "      <td>0.008626</td>\n",
              "      <td>0.012340</td>\n",
              "      <td>374.814569</td>\n",
              "      <td>66.269702</td>\n",
              "    </tr>\n",
              "    <tr>\n",
              "      <th>2024-01-03</th>\n",
              "      <td>369.010010</td>\n",
              "      <td>373.260010</td>\n",
              "      <td>368.510010</td>\n",
              "      <td>370.600006</td>\n",
              "      <td>370.600006</td>\n",
              "      <td>23083500</td>\n",
              "      <td>-0.000728</td>\n",
              "      <td>373.859985</td>\n",
              "      <td>375.899994</td>\n",
              "      <td>366.769989</td>\n",
              "      <td>370.869995</td>\n",
              "      <td>25258600.0</td>\n",
              "      <td>372.818667</td>\n",
              "      <td>358.682670</td>\n",
              "      <td>0.009107</td>\n",
              "      <td>0.012523</td>\n",
              "      <td>373.876595</td>\n",
              "      <td>35.208612</td>\n",
              "    </tr>\n",
              "    <tr>\n",
              "      <th>2024-01-04</th>\n",
              "      <td>370.670013</td>\n",
              "      <td>373.100006</td>\n",
              "      <td>367.170013</td>\n",
              "      <td>367.940002</td>\n",
              "      <td>367.940002</td>\n",
              "      <td>20901500</td>\n",
              "      <td>-0.007178</td>\n",
              "      <td>369.010010</td>\n",
              "      <td>373.260010</td>\n",
              "      <td>368.510010</td>\n",
              "      <td>370.600006</td>\n",
              "      <td>23083500.0</td>\n",
              "      <td>372.772001</td>\n",
              "      <td>359.405003</td>\n",
              "      <td>0.008884</td>\n",
              "      <td>0.012186</td>\n",
              "      <td>372.984478</td>\n",
              "      <td>34.163347</td>\n",
              "    </tr>\n",
              "    <tr>\n",
              "      <th>2024-01-05</th>\n",
              "      <td>368.970001</td>\n",
              "      <td>372.059998</td>\n",
              "      <td>366.500000</td>\n",
              "      <td>367.750000</td>\n",
              "      <td>367.750000</td>\n",
              "      <td>20987000</td>\n",
              "      <td>-0.000516</td>\n",
              "      <td>370.670013</td>\n",
              "      <td>373.100006</td>\n",
              "      <td>367.170013</td>\n",
              "      <td>367.940002</td>\n",
              "      <td>20901500.0</td>\n",
              "      <td>372.342668</td>\n",
              "      <td>360.040336</td>\n",
              "      <td>0.008738</td>\n",
              "      <td>0.012221</td>\n",
              "      <td>372.107689</td>\n",
              "      <td>25.016826</td>\n",
              "    </tr>\n",
              "    <tr>\n",
              "      <th>2024-01-08</th>\n",
              "      <td>369.299988</td>\n",
              "      <td>370.970001</td>\n",
              "      <td>369.029999</td>\n",
              "      <td>370.070007</td>\n",
              "      <td>370.070007</td>\n",
              "      <td>3204970</td>\n",
              "      <td>0.006309</td>\n",
              "      <td>368.970001</td>\n",
              "      <td>372.059998</td>\n",
              "      <td>366.500000</td>\n",
              "      <td>367.750000</td>\n",
              "      <td>20987000.0</td>\n",
              "      <td>371.901335</td>\n",
              "      <td>360.696336</td>\n",
              "      <td>0.008735</td>\n",
              "      <td>0.012198</td>\n",
              "      <td>371.044996</td>\n",
              "      <td>24.432769</td>\n",
              "    </tr>\n",
              "  </tbody>\n",
              "</table>\n",
              "<p>8509 rows × 18 columns</p>\n",
              "</div>\n",
              "    <div class=\"colab-df-buttons\">\n",
              "\n",
              "  <div class=\"colab-df-container\">\n",
              "    <button class=\"colab-df-convert\" onclick=\"convertToInteractive('df-deb188ea-cbfc-4951-8340-b8efa487a730')\"\n",
              "            title=\"Convert this dataframe to an interactive table.\"\n",
              "            style=\"display:none;\">\n",
              "\n",
              "  <svg xmlns=\"http://www.w3.org/2000/svg\" height=\"24px\" viewBox=\"0 -960 960 960\">\n",
              "    <path d=\"M120-120v-720h720v720H120Zm60-500h600v-160H180v160Zm220 220h160v-160H400v160Zm0 220h160v-160H400v160ZM180-400h160v-160H180v160Zm440 0h160v-160H620v160ZM180-180h160v-160H180v160Zm440 0h160v-160H620v160Z\"/>\n",
              "  </svg>\n",
              "    </button>\n",
              "\n",
              "  <style>\n",
              "    .colab-df-container {\n",
              "      display:flex;\n",
              "      gap: 12px;\n",
              "    }\n",
              "\n",
              "    .colab-df-convert {\n",
              "      background-color: #E8F0FE;\n",
              "      border: none;\n",
              "      border-radius: 50%;\n",
              "      cursor: pointer;\n",
              "      display: none;\n",
              "      fill: #1967D2;\n",
              "      height: 32px;\n",
              "      padding: 0 0 0 0;\n",
              "      width: 32px;\n",
              "    }\n",
              "\n",
              "    .colab-df-convert:hover {\n",
              "      background-color: #E2EBFA;\n",
              "      box-shadow: 0px 1px 2px rgba(60, 64, 67, 0.3), 0px 1px 3px 1px rgba(60, 64, 67, 0.15);\n",
              "      fill: #174EA6;\n",
              "    }\n",
              "\n",
              "    .colab-df-buttons div {\n",
              "      margin-bottom: 4px;\n",
              "    }\n",
              "\n",
              "    [theme=dark] .colab-df-convert {\n",
              "      background-color: #3B4455;\n",
              "      fill: #D2E3FC;\n",
              "    }\n",
              "\n",
              "    [theme=dark] .colab-df-convert:hover {\n",
              "      background-color: #434B5C;\n",
              "      box-shadow: 0px 1px 3px 1px rgba(0, 0, 0, 0.15);\n",
              "      filter: drop-shadow(0px 1px 2px rgba(0, 0, 0, 0.3));\n",
              "      fill: #FFFFFF;\n",
              "    }\n",
              "  </style>\n",
              "\n",
              "    <script>\n",
              "      const buttonEl =\n",
              "        document.querySelector('#df-deb188ea-cbfc-4951-8340-b8efa487a730 button.colab-df-convert');\n",
              "      buttonEl.style.display =\n",
              "        google.colab.kernel.accessAllowed ? 'block' : 'none';\n",
              "\n",
              "      async function convertToInteractive(key) {\n",
              "        const element = document.querySelector('#df-deb188ea-cbfc-4951-8340-b8efa487a730');\n",
              "        const dataTable =\n",
              "          await google.colab.kernel.invokeFunction('convertToInteractive',\n",
              "                                                    [key], {});\n",
              "        if (!dataTable) return;\n",
              "\n",
              "        const docLinkHtml = 'Like what you see? Visit the ' +\n",
              "          '<a target=\"_blank\" href=https://colab.research.google.com/notebooks/data_table.ipynb>data table notebook</a>'\n",
              "          + ' to learn more about interactive tables.';\n",
              "        element.innerHTML = '';\n",
              "        dataTable['output_type'] = 'display_data';\n",
              "        await google.colab.output.renderOutput(dataTable, element);\n",
              "        const docLink = document.createElement('div');\n",
              "        docLink.innerHTML = docLinkHtml;\n",
              "        element.appendChild(docLink);\n",
              "      }\n",
              "    </script>\n",
              "  </div>\n",
              "\n",
              "\n",
              "<div id=\"df-9c3e8718-d20a-42dd-9504-103d958e730e\">\n",
              "  <button class=\"colab-df-quickchart\" onclick=\"quickchart('df-9c3e8718-d20a-42dd-9504-103d958e730e')\"\n",
              "            title=\"Suggest charts\"\n",
              "            style=\"display:none;\">\n",
              "\n",
              "<svg xmlns=\"http://www.w3.org/2000/svg\" height=\"24px\"viewBox=\"0 0 24 24\"\n",
              "     width=\"24px\">\n",
              "    <g>\n",
              "        <path d=\"M19 3H5c-1.1 0-2 .9-2 2v14c0 1.1.9 2 2 2h14c1.1 0 2-.9 2-2V5c0-1.1-.9-2-2-2zM9 17H7v-7h2v7zm4 0h-2V7h2v10zm4 0h-2v-4h2v4z\"/>\n",
              "    </g>\n",
              "</svg>\n",
              "  </button>\n",
              "\n",
              "<style>\n",
              "  .colab-df-quickchart {\n",
              "      --bg-color: #E8F0FE;\n",
              "      --fill-color: #1967D2;\n",
              "      --hover-bg-color: #E2EBFA;\n",
              "      --hover-fill-color: #174EA6;\n",
              "      --disabled-fill-color: #AAA;\n",
              "      --disabled-bg-color: #DDD;\n",
              "  }\n",
              "\n",
              "  [theme=dark] .colab-df-quickchart {\n",
              "      --bg-color: #3B4455;\n",
              "      --fill-color: #D2E3FC;\n",
              "      --hover-bg-color: #434B5C;\n",
              "      --hover-fill-color: #FFFFFF;\n",
              "      --disabled-bg-color: #3B4455;\n",
              "      --disabled-fill-color: #666;\n",
              "  }\n",
              "\n",
              "  .colab-df-quickchart {\n",
              "    background-color: var(--bg-color);\n",
              "    border: none;\n",
              "    border-radius: 50%;\n",
              "    cursor: pointer;\n",
              "    display: none;\n",
              "    fill: var(--fill-color);\n",
              "    height: 32px;\n",
              "    padding: 0;\n",
              "    width: 32px;\n",
              "  }\n",
              "\n",
              "  .colab-df-quickchart:hover {\n",
              "    background-color: var(--hover-bg-color);\n",
              "    box-shadow: 0 1px 2px rgba(60, 64, 67, 0.3), 0 1px 3px 1px rgba(60, 64, 67, 0.15);\n",
              "    fill: var(--button-hover-fill-color);\n",
              "  }\n",
              "\n",
              "  .colab-df-quickchart-complete:disabled,\n",
              "  .colab-df-quickchart-complete:disabled:hover {\n",
              "    background-color: var(--disabled-bg-color);\n",
              "    fill: var(--disabled-fill-color);\n",
              "    box-shadow: none;\n",
              "  }\n",
              "\n",
              "  .colab-df-spinner {\n",
              "    border: 2px solid var(--fill-color);\n",
              "    border-color: transparent;\n",
              "    border-bottom-color: var(--fill-color);\n",
              "    animation:\n",
              "      spin 1s steps(1) infinite;\n",
              "  }\n",
              "\n",
              "  @keyframes spin {\n",
              "    0% {\n",
              "      border-color: transparent;\n",
              "      border-bottom-color: var(--fill-color);\n",
              "      border-left-color: var(--fill-color);\n",
              "    }\n",
              "    20% {\n",
              "      border-color: transparent;\n",
              "      border-left-color: var(--fill-color);\n",
              "      border-top-color: var(--fill-color);\n",
              "    }\n",
              "    30% {\n",
              "      border-color: transparent;\n",
              "      border-left-color: var(--fill-color);\n",
              "      border-top-color: var(--fill-color);\n",
              "      border-right-color: var(--fill-color);\n",
              "    }\n",
              "    40% {\n",
              "      border-color: transparent;\n",
              "      border-right-color: var(--fill-color);\n",
              "      border-top-color: var(--fill-color);\n",
              "    }\n",
              "    60% {\n",
              "      border-color: transparent;\n",
              "      border-right-color: var(--fill-color);\n",
              "    }\n",
              "    80% {\n",
              "      border-color: transparent;\n",
              "      border-right-color: var(--fill-color);\n",
              "      border-bottom-color: var(--fill-color);\n",
              "    }\n",
              "    90% {\n",
              "      border-color: transparent;\n",
              "      border-bottom-color: var(--fill-color);\n",
              "    }\n",
              "  }\n",
              "</style>\n",
              "\n",
              "  <script>\n",
              "    async function quickchart(key) {\n",
              "      const quickchartButtonEl =\n",
              "        document.querySelector('#' + key + ' button');\n",
              "      quickchartButtonEl.disabled = true;  // To prevent multiple clicks.\n",
              "      quickchartButtonEl.classList.add('colab-df-spinner');\n",
              "      try {\n",
              "        const charts = await google.colab.kernel.invokeFunction(\n",
              "            'suggestCharts', [key], {});\n",
              "      } catch (error) {\n",
              "        console.error('Error during call to suggestCharts:', error);\n",
              "      }\n",
              "      quickchartButtonEl.classList.remove('colab-df-spinner');\n",
              "      quickchartButtonEl.classList.add('colab-df-quickchart-complete');\n",
              "    }\n",
              "    (() => {\n",
              "      let quickchartButtonEl =\n",
              "        document.querySelector('#df-9c3e8718-d20a-42dd-9504-103d958e730e button');\n",
              "      quickchartButtonEl.style.display =\n",
              "        google.colab.kernel.accessAllowed ? 'block' : 'none';\n",
              "    })();\n",
              "  </script>\n",
              "</div>\n",
              "\n",
              "  <div id=\"id_4ed824c8-7a64-499d-bdcf-d33a9d800d04\">\n",
              "    <style>\n",
              "      .colab-df-generate {\n",
              "        background-color: #E8F0FE;\n",
              "        border: none;\n",
              "        border-radius: 50%;\n",
              "        cursor: pointer;\n",
              "        display: none;\n",
              "        fill: #1967D2;\n",
              "        height: 32px;\n",
              "        padding: 0 0 0 0;\n",
              "        width: 32px;\n",
              "      }\n",
              "\n",
              "      .colab-df-generate:hover {\n",
              "        background-color: #E2EBFA;\n",
              "        box-shadow: 0px 1px 2px rgba(60, 64, 67, 0.3), 0px 1px 3px 1px rgba(60, 64, 67, 0.15);\n",
              "        fill: #174EA6;\n",
              "      }\n",
              "\n",
              "      [theme=dark] .colab-df-generate {\n",
              "        background-color: #3B4455;\n",
              "        fill: #D2E3FC;\n",
              "      }\n",
              "\n",
              "      [theme=dark] .colab-df-generate:hover {\n",
              "        background-color: #434B5C;\n",
              "        box-shadow: 0px 1px 3px 1px rgba(0, 0, 0, 0.15);\n",
              "        filter: drop-shadow(0px 1px 2px rgba(0, 0, 0, 0.3));\n",
              "        fill: #FFFFFF;\n",
              "      }\n",
              "    </style>\n",
              "    <button class=\"colab-df-generate\" onclick=\"generateWithVariable('df')\"\n",
              "            title=\"Generate code using this dataframe.\"\n",
              "            style=\"display:none;\">\n",
              "\n",
              "  <svg xmlns=\"http://www.w3.org/2000/svg\" height=\"24px\"viewBox=\"0 0 24 24\"\n",
              "       width=\"24px\">\n",
              "    <path d=\"M7,19H8.4L18.45,9,17,7.55,7,17.6ZM5,21V16.75L18.45,3.32a2,2,0,0,1,2.83,0l1.4,1.43a1.91,1.91,0,0,1,.58,1.4,1.91,1.91,0,0,1-.58,1.4L9.25,21ZM18.45,9,17,7.55Zm-12,3A5.31,5.31,0,0,0,4.9,8.1,5.31,5.31,0,0,0,1,6.5,5.31,5.31,0,0,0,4.9,4.9,5.31,5.31,0,0,0,6.5,1,5.31,5.31,0,0,0,8.1,4.9,5.31,5.31,0,0,0,12,6.5,5.46,5.46,0,0,0,6.5,12Z\"/>\n",
              "  </svg>\n",
              "    </button>\n",
              "    <script>\n",
              "      (() => {\n",
              "      const buttonEl =\n",
              "        document.querySelector('#id_4ed824c8-7a64-499d-bdcf-d33a9d800d04 button.colab-df-generate');\n",
              "      buttonEl.style.display =\n",
              "        google.colab.kernel.accessAllowed ? 'block' : 'none';\n",
              "\n",
              "      buttonEl.onclick = () => {\n",
              "        google.colab.notebook.generateWithVariable('df');\n",
              "      }\n",
              "      })();\n",
              "    </script>\n",
              "  </div>\n",
              "\n",
              "    </div>\n",
              "  </div>\n"
            ]
          },
          "metadata": {},
          "execution_count": 16
        }
      ]
    },
    {
      "cell_type": "markdown",
      "source": [
        "#Divisão dos dados em Treino, Validação e Teste"
      ],
      "metadata": {
        "id": "bSbuC9m0pPMG"
      }
    },
    {
      "cell_type": "code",
      "source": [
        "# Percentual de split de treino e validação\n",
        "#tem que considerar a ordem porque envolve data para serie temporal\n",
        "#estrategia para divisao\n",
        "split = int(0.85*len(df))\n",
        "split_val = int(0.95*len(df))"
      ],
      "metadata": {
        "id": "kdm-2Njwo5iv"
      },
      "execution_count": 18,
      "outputs": []
    },
    {
      "cell_type": "code",
      "source": [
        "df.columns"
      ],
      "metadata": {
        "colab": {
          "base_uri": "https://localhost:8080/"
        },
        "id": "zacT5ldnpWyz",
        "outputId": "d7548d16-4151-4e87-a890-8a2ed8ba1790"
      },
      "execution_count": 19,
      "outputs": [
        {
          "output_type": "execute_result",
          "data": {
            "text/plain": [
              "Index(['open', 'high', 'low', 'close', 'adj close', 'volume', 'retorno', 'op',\n",
              "       'hi', 'lo', 'clo', 'vol', 'SMA 15', 'SMA 60', 'MSD 15', 'MSD 60',\n",
              "       'VWAP', 'RSI'],\n",
              "      dtype='object')"
            ]
          },
          "metadata": {},
          "execution_count": 19
        }
      ]
    },
    {
      "cell_type": "code",
      "source": [
        "#dataset de treino\n",
        "x_treino = df[['VWAP','RSI','SMA 15','SMA 60','MSD 15','MSD 60','op','hi','lo','clo','vol']].iloc[:split,:]\n",
        "y_treino = df[['retorno']].iloc[:split,:]\n",
        "#usando todas as variaveis mas pode ser mudadas.\n",
        "#a variavel retorno é a variavel alvo\n",
        "#iloc busca os registros pela localidade de indice, entao\n",
        "#pede todas as linhas ate o split, depois as colunas\n"
      ],
      "metadata": {
        "id": "hVPNzAZIpoy-"
      },
      "execution_count": 20,
      "outputs": []
    },
    {
      "cell_type": "code",
      "source": [
        "x_valid = df[['VWAP','RSI','SMA 15','SMA 60','MSD 15','MSD 60','op','hi','lo','clo','vol']].iloc[split:split_val,:]\n",
        "y_valid = df[['retorno']].iloc[split:split_val,:]\n",
        "#iloc vai buscar a partir do split ate o split_val, depois todas as colunas\n",
        "#dataset de validação"
      ],
      "metadata": {
        "id": "y8n37Rx9qWmI"
      },
      "execution_count": 21,
      "outputs": []
    },
    {
      "cell_type": "code",
      "source": [
        "#dataset de validação\n",
        "x_teste = df[['VWAP','RSI','SMA 15','SMA 60','MSD 15','MSD 60','op','hi','lo','clo','vol']].iloc[split_val:,:]\n",
        "y_teste = df[['retorno']].iloc[split_val:,:]\n",
        "#iloc vai buscar a partir do split_val toda a ultima linha,\n",
        "#depois todas as colunas"
      ],
      "metadata": {
        "id": "ob4K4GYoqoj6"
      },
      "execution_count": 22,
      "outputs": []
    },
    {
      "cell_type": "markdown",
      "source": [
        "#Padronização dos dados"
      ],
      "metadata": {
        "id": "lBUEH16GrGxl"
      }
    },
    {
      "cell_type": "code",
      "source": [
        "# Cria o padronizador\n",
        "sc = StandardScaler()\n",
        "#cada algoritmo tem suposições sobre dados\n",
        "#com dados em determinados formatos"
      ],
      "metadata": {
        "id": "VxsptvjrrAAh"
      },
      "execution_count": 26,
      "outputs": []
    },
    {
      "cell_type": "code",
      "source": [
        "#treinar o padronizador mais os dados de treino\n",
        "# Fit e transform nos dados de treino\n",
        "x_treino_sc = sc.fit_transform(x_treino)"
      ],
      "metadata": {
        "id": "Ue4cza3crnTs"
      },
      "execution_count": 27,
      "outputs": []
    },
    {
      "cell_type": "code",
      "source": [
        "# Transform nos dados de validação\n",
        "#não usa o fit_transform nos dados de validação\n",
        "x_valid_sc = sc.transform(x_valid)"
      ],
      "metadata": {
        "id": "wxipL2n8rsOM"
      },
      "execution_count": 28,
      "outputs": []
    },
    {
      "cell_type": "code",
      "source": [
        "# Transform nos dados de teste\n",
        "x_teste_sc = sc.transform(x_teste)"
      ],
      "metadata": {
        "id": "XOGQLxpIseFo"
      },
      "execution_count": 29,
      "outputs": []
    },
    {
      "cell_type": "markdown",
      "source": [
        "##  AJUSTE NO FORMATO DOS DADOS\n",
        "\n",
        "\n",
        "Este código abaixo define uma função que é usada para transformar séries de tempo para um formato adequado para treinamento de Redes Neurais Recorrentes (RNNs), como Long Short Term Memory (LSTM) ou GRU. Os modelos RNN precisam de um formato de entrada específico porque levam em conta a sequência temporal dos dados.\n",
        "\n",
        "O código realiza as seguintes operações:\n",
        "\n",
        "Primeiro, verifica se as entradas X_s e y_s possuem a mesma extensão. Se não, imprime um aviso.\n",
        "\n",
        "Em seguida, cria a variável X_train. Essa variável é criada iterando sobre todas as variáveis em X_s e criando 'janelas' de tamanho lag(ATRASOS DE TAMANHO N) para cada uma delas. Ou seja, para cada ponto no tempo i, ele pega os lag pontos anteriores para cada variável e armazena isso numa lista. Ao final do processo, temos uma lista de listas para cada variável.\n",
        "\n",
        "X_train é então transformado em um array NumPy e as dimensões são reordenadas. A chamada ao método SWAPAXES é feita duas vezes para garantir que as dimensões estejam na ordem correta para a entrada da RNN. A ordem final é (amostras, passos de tempo, características).\n",
        "\n",
        "Depois, a função cria y_train que contém a variável alvo correspondente para cada janela em X_train. Ele faz isso iterando sobre y_s de lag até o final e armazenando cada valor em uma lista.\n",
        "\n",
        "Por fim, y_train é convertido em um array NumPy usando o método concatenate, que combina uma lista de arrays NumPy em um único array.\n",
        "\n",
        "A função retorna X_train e y_train, que estão agora em um formato adequado para serem usados para treinar uma RNN. A ideia geral aqui é que, para prever o valor de y em um certo ponto no tempo, você usará os lag pontos anteriores de X."
      ],
      "metadata": {
        "id": "zSrrW0MIsoyE"
      }
    },
    {
      "cell_type": "code",
      "source": [
        "# Função para ajustar o formato dos dados\n",
        "def ajusta_formato_dados(X_s, y_s, lag):\n",
        "#Primeiro, verifica se as entradas X_s e y_s possuem a mesma extensão.\n",
        "# Se não, imprime um aviso.\n",
        "    if len(X_s) != len(y_s):\n",
        "        print(\"Warnings\")\n",
        "\n",
        "    X_train = []\n",
        "#Em seguida, cria a variável X_train.\n",
        "#Essa variável é criada iterando sobre todas as variáveis em X_s\n",
        "#e criando 'janelas' de tamanho lag(ATRASOS DE TAMANHO N)\n",
        "#para cada uma delas. Ou seja, para cada ponto no tempo i,\n",
        "#ele pega os lag pontos anteriores para cada variável\n",
        "#e armazena isso numa lista. Ao final do processo,\n",
        "#temos uma lista de listas para cada variável.\n",
        "\n",
        "\n",
        "    for variable in range(0, X_s.shape[1]):\n",
        "\n",
        "        X = []\n",
        "\n",
        "        for i in range(lag, X_s.shape[0]):\n",
        "            X.append(X_s[i-lag:i, variable])\n",
        "\n",
        "        X_train.append(X)\n",
        "\n",
        "\n",
        "#X_train é então transformado em um array NumPy e as dimensões\n",
        "#são reordenadas. A chamada ao método SWAPAXES é feita duas vezes\n",
        "#para garantir que as dimensões estejam na ordem correta para a\n",
        "#entrada da RNN.\n",
        "#A ordem final é (amostras, passos de tempo, características).\n",
        "\n",
        "    X_train, np.array(X_train)\n",
        "\n",
        "    X_train = np.swapaxes(np.swapaxes(X_train, 0, 1), 1, 2)\n",
        "\n",
        "    y_train = []\n",
        "    #Depois, a função cria y_train que contém a variável alvo\n",
        "    #correspondente para cada janela em X_train. Ele faz isso\n",
        "    #iterando sobre y_s de lag até o final e armazenando cada\n",
        "    #valor em uma lista.\n",
        "\n",
        "\n",
        "    for i in range(lag, y_s.shape[0]):\n",
        "        y_train.append(y_s[i, :].reshape(-1,1).transpose())\n",
        "    #Por fim, y_train é convertido em um array NumPy usando o\n",
        "    #método concatenate, que combina uma lista de arrays NumPy\n",
        "    # em um único array.\n",
        "\n",
        "    #A função retorna X_train e y_train, que estão agora em um\n",
        "    #formato adequado para serem usados para treinar uma RNN.\n",
        "    #A ideia geral aqui é que, para prever o valor de y em um certo\n",
        "    #ponto no tempo, você usará os lag pontos anteriores de X.\n",
        "    y_train = np.concatenate(y_train, axis = 0)\n",
        "\n",
        "    return X_train, y_train"
      ],
      "metadata": {
        "id": "1I21Vc3Mu2-0"
      },
      "execution_count": 30,
      "outputs": []
    },
    {
      "cell_type": "code",
      "source": [
        "# Valor do Lag\n",
        "lag = 15"
      ],
      "metadata": {
        "id": "Dop4Vb0ju6QX"
      },
      "execution_count": 31,
      "outputs": []
    },
    {
      "cell_type": "code",
      "source": [
        "# Aplica a função nos dados de treino\n",
        "x_treino_final, y_treino_final = ajusta_formato_dados(x_treino_sc, y_treino.values, lag)"
      ],
      "metadata": {
        "id": "SpvbtrIOu8Az"
      },
      "execution_count": 32,
      "outputs": []
    },
    {
      "cell_type": "code",
      "source": [
        "# Aplica a função nos dados de validação\n",
        "x_valid_final, y_valid_final = ajusta_formato_dados(x_valid_sc, y_valid.values, lag)"
      ],
      "metadata": {
        "id": "uwxDXC-Qu_Ar"
      },
      "execution_count": 33,
      "outputs": []
    },
    {
      "cell_type": "code",
      "source": [
        "# Aplica a função nos dados de teste\n",
        "x_teste_final, y_teste_final = ajusta_formato_dados(x_teste_sc, y_teste.values, lag)"
      ],
      "metadata": {
        "id": "1fQiY_1GvBGJ"
      },
      "execution_count": 34,
      "outputs": []
    },
    {
      "cell_type": "markdown",
      "source": [
        "Arquitetural Temporal Fusion Transformer une uma parte com Transformer e outra com RNN (lstm e gru)."
      ],
      "metadata": {
        "id": "ji9ELDj_xr-C"
      }
    },
    {
      "cell_type": "code",
      "source": [
        "print(f\"Shape dos dados de treino: {x_treino_final.shape}\")\n",
        "print(f\"Shape dos dados de validação: {x_valid_final.shape}\")\n",
        "print(f\"Shape dos dados de teste: {x_teste_final.shape}\")"
      ],
      "metadata": {
        "colab": {
          "base_uri": "https://localhost:8080/"
        },
        "id": "lrwIet1_vGC0",
        "outputId": "41e942e2-c9bb-47dd-bcb4-e803ae76761f"
      },
      "execution_count": 35,
      "outputs": [
        {
          "output_type": "stream",
          "name": "stdout",
          "text": [
            "Shape dos dados de treino: (7217, 15, 11)\n",
            "Shape dos dados de validação: (836, 15, 11)\n",
            "Shape dos dados de teste: (411, 15, 11)\n"
          ]
        }
      ]
    },
    {
      "cell_type": "markdown",
      "source": [
        "#CONSTRUÇÃO DO MODELO TEMPORAL FUSION TRANSFORMER\n",
        "\n"
      ],
      "metadata": {
        "id": "tBqkI7i-yHdw"
      }
    },
    {
      "cell_type": "code",
      "source": [
        "# Função do transformer encoder\n",
        "def transformer_encoder(inputs, head_size, num_heads, ff_dim, dropout = 0):\n",
        "#Primeiro bloco para o transformer e depois vamos unir com\n",
        "#AS CAMADAS DE REDES NEURAIS RECORRENTES.\n",
        "#a função recebe inputs, o tamanho da cabeça de atenção, o numero\n",
        "#de cabeças de atenção, a dimensao da camada feed forward(a camada\n",
        "# que faz a previsao final) e o dropout, se eu quiser fazer alguma\n",
        "#regularização.\n",
        "\n",
        "    # Normalização\n",
        "    x = layers.LayerNormalization(epsilon = 1e-6)(inputs)\n",
        "\n",
        "    # Atenção\n",
        "    x = layers.MultiHeadAttention(key_dim = head_size, num_heads = num_heads, dropout = dropout)(x, x, x)\n",
        "\n",
        "    # Dropout\n",
        "    #evitar overfitting em modelos de deep learning\n",
        "    x = layers.Dropout(dropout)(x)\n",
        "\n",
        "    # Camadas e dados\n",
        "    res = x + inputs\n",
        "\n",
        "    # Feed Forward (concatenar as camadas. A saida de uma camada vai\n",
        "    #sendo aplicada à outra)\n",
        "    x = layers.LayerNormalization(epsilon = 1e-6)(res)\n",
        "    x = layers.Conv1D(filters = ff_dim, kernel_size = 1, activation = \"relu\")(x)\n",
        "    x = layers.Dropout(dropout)(x)\n",
        "    x = layers.Conv1D(filters = inputs.shape[-1], kernel_size = 1)(x)\n",
        "    #foi aplicado duas camadas convolucionais que pode melhor um pouco\n",
        "    #a performance especifica pra este tipo de modelo\n",
        "\n",
        "    return x + res"
      ],
      "metadata": {
        "id": "HfhO-eO1yFF9"
      },
      "execution_count": 36,
      "outputs": []
    },
    {
      "cell_type": "markdown",
      "source": [
        "A função abaixo é usada para construir o modelo final com LSTM, GRU e Transformer."
      ],
      "metadata": {
        "id": "KAa3kPdC0ToY"
      }
    },
    {
      "cell_type": "code",
      "source": [
        "# Função de criação do modelo\n",
        "def cria_modelo(input_shape,\n",
        "                head_size,\n",
        "                num_heads,\n",
        "                ff_dim,\n",
        "                num_transformer_blocks,\n",
        "                mlp_units,\n",
        "                dropout = 0,\n",
        "                mlp_dropout = 0):\n",
        "\n",
        "    inputs = keras.Input(shape = input_shape)\n",
        "    #input do keras\n",
        "\n",
        "    x = inputs#colocar os inputs em x\n",
        "\n",
        "    x = layers.LSTM(10, return_sequences = True)(x)\n",
        "    #retorna a primeira camada LSTM com 10 neuronios nos inputs x\n",
        "\n",
        "    for _ in range(num_transformer_blocks):\n",
        "      #numero de blocos de transformers que\n",
        "      #sera definido na criação do modelo\n",
        "        x = transformer_encoder(x, head_size, num_heads, ff_dim, dropout)\n",
        "\n",
        "    x = layers.GRU(100, return_sequences = False)(x)\n",
        "    #retorna a camada GRU com 100 neuronios\n",
        "\n",
        "    x = layers.Dropout(mlp_dropout)(x)\n",
        "    #aplica a camada de dropout\n",
        "    #para regularização para evitar overfitting\n",
        "\n",
        "    x = layers.Dense(mlp_units, activation = \"relu\")(x)\n",
        "    #aplica a camada Densa para gerar a previsão final\n",
        "    #com o numero de mlp_units\n",
        "\n",
        "\n",
        "    outputs = layers.Dense(1)(x)\n",
        "    #pega a previsao do modelo\n",
        "    #1 é para explicitar que para cada registro, uma previsão\n",
        "    #no caso da variavel alvo, a variavel retorno\n",
        "    return keras.Model(inputs, outputs)"
      ],
      "metadata": {
        "id": "dQhdQBRw0IMk"
      },
      "execution_count": 37,
      "outputs": []
    },
    {
      "cell_type": "code",
      "source": [
        "# Shape de entrada\n",
        "input_shape = x_treino_final.shape[1:]\n"
      ],
      "metadata": {
        "id": "V5FKNEA92bix"
      },
      "execution_count": 38,
      "outputs": []
    },
    {
      "cell_type": "code",
      "source": [
        "# Cria o modeloo\n",
        "modelo = cria_modelo(input_shape,\n",
        "                     head_size = 16,\n",
        "                     num_heads = 1,\n",
        "                     ff_dim = 4,\n",
        "                     num_transformer_blocks = 1,\n",
        "                     mlp_units = 125,\n",
        "                     dropout = 0.1,\n",
        "                     mlp_dropout = 0.25)"
      ],
      "metadata": {
        "id": "KGBuWjFW2cpJ"
      },
      "execution_count": 39,
      "outputs": []
    },
    {
      "cell_type": "code",
      "source": [
        "# Compila o modelo definindo a função de erro\n",
        "#usando o mean_square_error amplamente usado em problemas de regressao\n",
        "#otimizador será o Adam.\n",
        "modelo.compile(loss = \"mean_squared_error\", optimizer = keras.optimizers.Adam())"
      ],
      "metadata": {
        "id": "98QtQf9M2j2r"
      },
      "execution_count": 41,
      "outputs": []
    },
    {
      "cell_type": "code",
      "source": [
        "modelo.summary()"
      ],
      "metadata": {
        "colab": {
          "base_uri": "https://localhost:8080/"
        },
        "id": "l6sxpwIV2xvT",
        "outputId": "b0dbf06d-51a8-42e8-e518-7fd75dcd584c"
      },
      "execution_count": 42,
      "outputs": [
        {
          "output_type": "stream",
          "name": "stdout",
          "text": [
            "Model: \"model\"\n",
            "__________________________________________________________________________________________________\n",
            " Layer (type)                   Output Shape         Param #     Connected to                     \n",
            "==================================================================================================\n",
            " input_1 (InputLayer)           [(None, 15, 11)]     0           []                               \n",
            "                                                                                                  \n",
            " lstm (LSTM)                    (None, 15, 10)       880         ['input_1[0][0]']                \n",
            "                                                                                                  \n",
            " layer_normalization (LayerNorm  (None, 15, 10)      20          ['lstm[0][0]']                   \n",
            " alization)                                                                                       \n",
            "                                                                                                  \n",
            " multi_head_attention (MultiHea  (None, 15, 10)      698         ['layer_normalization[0][0]',    \n",
            " dAttention)                                                      'layer_normalization[0][0]',    \n",
            "                                                                  'layer_normalization[0][0]']    \n",
            "                                                                                                  \n",
            " dropout (Dropout)              (None, 15, 10)       0           ['multi_head_attention[0][0]']   \n",
            "                                                                                                  \n",
            " tf.__operators__.add (TFOpLamb  (None, 15, 10)      0           ['dropout[0][0]',                \n",
            " da)                                                              'lstm[0][0]']                   \n",
            "                                                                                                  \n",
            " layer_normalization_1 (LayerNo  (None, 15, 10)      20          ['tf.__operators__.add[0][0]']   \n",
            " rmalization)                                                                                     \n",
            "                                                                                                  \n",
            " conv1d (Conv1D)                (None, 15, 4)        44          ['layer_normalization_1[0][0]']  \n",
            "                                                                                                  \n",
            " dropout_1 (Dropout)            (None, 15, 4)        0           ['conv1d[0][0]']                 \n",
            "                                                                                                  \n",
            " conv1d_1 (Conv1D)              (None, 15, 10)       50          ['dropout_1[0][0]']              \n",
            "                                                                                                  \n",
            " tf.__operators__.add_1 (TFOpLa  (None, 15, 10)      0           ['conv1d_1[0][0]',               \n",
            " mbda)                                                            'tf.__operators__.add[0][0]']   \n",
            "                                                                                                  \n",
            " gru (GRU)                      (None, 100)          33600       ['tf.__operators__.add_1[0][0]'] \n",
            "                                                                                                  \n",
            " dropout_2 (Dropout)            (None, 100)          0           ['gru[0][0]']                    \n",
            "                                                                                                  \n",
            " dense (Dense)                  (None, 125)          12625       ['dropout_2[0][0]']              \n",
            "                                                                                                  \n",
            " dense_1 (Dense)                (None, 1)            126         ['dense[0][0]']                  \n",
            "                                                                                                  \n",
            "==================================================================================================\n",
            "Total params: 48,063\n",
            "Trainable params: 48,063\n",
            "Non-trainable params: 0\n",
            "__________________________________________________________________________________________________\n"
          ]
        }
      ]
    },
    {
      "cell_type": "code",
      "source": [
        "# Callbacks que é feito com earlystopping\n",
        "#se a performance nao melhorar em 5 epocas, ele pára o treinamento\n",
        "#retorna os melhores pesos\n",
        "\n",
        "callbacks = [keras.callbacks.EarlyStopping(patience = 5, restore_best_weights = True)]"
      ],
      "metadata": {
        "id": "zUc87pZb3JZP"
      },
      "execution_count": 43,
      "outputs": []
    },
    {
      "cell_type": "code",
      "source": [
        "%%time\n",
        "\n",
        "# Treinamento do modelo\n",
        "modelo.fit(x_treino_final,\n",
        "           y_treino_final,\n",
        "           validation_data = (x_valid_final, y_valid_final),\n",
        "           epochs = 20,\n",
        "           batch_size = 64,#evitar colocar todos os dados em execução\n",
        "           callbacks = callbacks)"
      ],
      "metadata": {
        "colab": {
          "base_uri": "https://localhost:8080/"
        },
        "id": "G7v1uJeb3m2R",
        "outputId": "562b4167-5d06-4156-e016-eaeb5f1d54a8"
      },
      "execution_count": 44,
      "outputs": [
        {
          "output_type": "stream",
          "name": "stdout",
          "text": [
            "Epoch 1/20\n",
            "113/113 [==============================] - 14s 46ms/step - loss: 0.0032 - val_loss: 5.8780e-04\n",
            "Epoch 2/20\n",
            "113/113 [==============================] - 5s 43ms/step - loss: 7.7232e-04 - val_loss: 4.1494e-04\n",
            "Epoch 3/20\n",
            "113/113 [==============================] - 4s 33ms/step - loss: 6.0586e-04 - val_loss: 6.1093e-04\n",
            "Epoch 4/20\n",
            "113/113 [==============================] - 4s 33ms/step - loss: 5.4481e-04 - val_loss: 7.2444e-04\n",
            "Epoch 5/20\n",
            "113/113 [==============================] - 5s 48ms/step - loss: 5.0125e-04 - val_loss: 6.9386e-04\n",
            "Epoch 6/20\n",
            "113/113 [==============================] - 4s 33ms/step - loss: 4.9305e-04 - val_loss: 6.8152e-04\n",
            "Epoch 7/20\n",
            "113/113 [==============================] - 4s 34ms/step - loss: 4.6716e-04 - val_loss: 6.8067e-04\n",
            "CPU times: user 49.8 s, sys: 2.03 s, total: 51.8 s\n",
            "Wall time: 39.2 s\n"
          ]
        },
        {
          "output_type": "execute_result",
          "data": {
            "text/plain": [
              "<keras.callbacks.History at 0x7b6305c79cf0>"
            ]
          },
          "metadata": {},
          "execution_count": 44
        }
      ]
    },
    {
      "cell_type": "code",
      "source": [
        "pd.DataFrame(modelo.history.history).plot()"
      ],
      "metadata": {
        "colab": {
          "base_uri": "https://localhost:8080/",
          "height": 447
        },
        "id": "BnphKkGE3zWz",
        "outputId": "80eb003b-a483-4135-f201-86468fc91421"
      },
      "execution_count": 45,
      "outputs": [
        {
          "output_type": "execute_result",
          "data": {
            "text/plain": [
              "<Axes: >"
            ]
          },
          "metadata": {},
          "execution_count": 45
        },
        {
          "output_type": "display_data",
          "data": {
            "text/plain": [
              "<Figure size 640x480 with 1 Axes>"
            ],
            "image/png": "[encoded data removed]"
          },
          "metadata": {}
        }
      ]
    },
    {
      "cell_type": "code",
      "source": [
        "pred = modelo.predict(x_teste_final)"
      ],
      "metadata": {
        "colab": {
          "base_uri": "https://localhost:8080/"
        },
        "id": "BYjL1D074KMT",
        "outputId": "c1f6f773-b739-4658-a144-37c79b027e07"
      },
      "execution_count": 46,
      "outputs": [
        {
          "output_type": "stream",
          "name": "stdout",
          "text": [
            "13/13 [==============================] - 2s 10ms/step\n"
          ]
        }
      ]
    },
    {
      "cell_type": "code",
      "source": [
        "score = np.sqrt(metrics.mean_squared_error(pred, y_teste_final))"
      ],
      "metadata": {
        "id": "nJuP9b7i4ZIj"
      },
      "execution_count": 47,
      "outputs": []
    },
    {
      "cell_type": "code",
      "source": [
        "print(\"Score (RMSE): {}\".format(score))"
      ],
      "metadata": {
        "colab": {
          "base_uri": "https://localhost:8080/"
        },
        "id": "F4As8rnR4cXM",
        "outputId": "dce1974d-8d2d-4044-ee73-a942e8b520f6"
      },
      "execution_count": 48,
      "outputs": [
        {
          "output_type": "stream",
          "name": "stdout",
          "text": [
            "Score (RMSE): 0.019853604186862096\n"
          ]
        }
      ]
    },
    {
      "cell_type": "markdown",
      "source": [
        "#QUANTO MENOR O ERRO,MELHOR."
      ],
      "metadata": {
        "id": "2rvhUdyG4gKo"
      }
    },
    {
      "cell_type": "markdown",
      "source": [
        "#PREVISOES E CALCULO DO RETORNO."
      ],
      "metadata": {
        "id": "FU-2s7CS4qP2"
      }
    },
    {
      "cell_type": "markdown",
      "source": [
        "A linha de código abaixo está realizando a seguinte operação:\n",
        "\n",
        "- Está prevendo valores usando o modelo treinado chamado modelo para a entrada x_treino_final. Essa previsão retorna um array NumPy.\n",
        "\n",
        "- Está criando um array NumPy de zeros com dimensões [lag,1]. A variável lag é geralmente um número inteiro que se refere a um período de atraso ou defasagem (por exemplo, se você está trabalhando com séries temporais e deseja considerar os 5 valores anteriores, o lag seria 5).\n",
        "\n",
        "- Depois disso, está concatenando o array de zeros com as previsões do modelo ao longo do eixo 0 (ou seja, verticalmente). A razão para fazer isso é para ajustar o formato dos dados, porque você teve um deslocamento de lag ao criar os dados de entrada para o modelo, então agora precisa preencher esses primeiros lag pontos nos dados de saída.\n",
        "\n",
        "Repetimos o mesmo com dados de validação e teste e então concatenamos."
      ],
      "metadata": {
        "id": "mOYMZq-r4xRn"
      }
    },
    {
      "cell_type": "code",
      "source": [
        "y_pred_treino = np.concatenate((np.zeros([lag,1]), modelo.predict(x_treino_final)), axis = 0)\n",
        "\n",
        "#faz a previsao com o modelo, cria um array preenchido com zeros com a dimensao\n",
        "#para n_linhas=lag e colunas=1 e retorna concatenando no eixo 0."
      ],
      "metadata": {
        "colab": {
          "base_uri": "https://localhost:8080/"
        },
        "id": "rxD6amok4fKs",
        "outputId": "3afaaa60-d5ac-49e0-b98f-97629bdd13b1"
      },
      "execution_count": 49,
      "outputs": [
        {
          "output_type": "stream",
          "name": "stdout",
          "text": [
            "226/226 [==============================] - 3s 11ms/step\n"
          ]
        }
      ]
    },
    {
      "cell_type": "code",
      "source": [
        "y_pred_valid = np.concatenate((np.zeros([lag,1]), modelo.predict(x_valid_final)), axis = 0)"
      ],
      "metadata": {
        "colab": {
          "base_uri": "https://localhost:8080/"
        },
        "id": "E5KNHY5f6iED",
        "outputId": "cdb5241a-ddbd-4fc7-af78-c2af39d0186b"
      },
      "execution_count": 50,
      "outputs": [
        {
          "output_type": "stream",
          "name": "stdout",
          "text": [
            "27/27 [==============================] - 0s 10ms/step\n"
          ]
        }
      ]
    },
    {
      "cell_type": "code",
      "source": [
        "y_pred_teste = np.concatenate((np.zeros([lag,1]), modelo.predict(x_teste_final)), axis = 0)"
      ],
      "metadata": {
        "colab": {
          "base_uri": "https://localhost:8080/"
        },
        "id": "tuqGnFXA6nH5",
        "outputId": "e13a285d-d2a1-4654-b2ee-2622e389c6a0"
      },
      "execution_count": 51,
      "outputs": [
        {
          "output_type": "stream",
          "name": "stdout",
          "text": [
            "13/13 [==============================] - 0s 9ms/step\n"
          ]
        }
      ]
    },
    {
      "cell_type": "markdown",
      "source": [
        "#concatena as três previsoes em um só df."
      ],
      "metadata": {
        "id": "rPOUZMLv6qoc"
      }
    },
    {
      "cell_type": "code",
      "source": [
        "df[\"prediction\"] = np.concatenate((y_pred_treino, y_pred_valid, y_pred_teste), axis = 0)"
      ],
      "metadata": {
        "id": "s7yZBqCr6oiw"
      },
      "execution_count": 52,
      "outputs": []
    },
    {
      "cell_type": "code",
      "source": [
        "df.tail()"
      ],
      "metadata": {
        "colab": {
          "base_uri": "https://localhost:8080/",
          "height": 344
        },
        "id": "evbhlpj964i0",
        "outputId": "9706d296-3614-481d-b816-184bcb7418f7"
      },
      "execution_count": 53,
      "outputs": [
        {
          "output_type": "execute_result",
          "data": {
            "text/plain": [
              "                  open        high         low       close   adj close  \\\n",
              "date                                                                     \n",
              "2024-01-02  373.859985  375.899994  366.769989  370.869995  370.869995   \n",
              "2024-01-03  369.010010  373.260010  368.510010  370.600006  370.600006   \n",
              "2024-01-04  370.670013  373.100006  367.170013  367.940002  367.940002   \n",
              "2024-01-05  368.970001  372.059998  366.500000  367.750000  367.750000   \n",
              "2024-01-08  369.299988  370.970001  369.029999  370.070007  370.070007   \n",
              "\n",
              "              volume   retorno          op          hi          lo  \\\n",
              "date                                                                 \n",
              "2024-01-02  25258600 -0.013749  376.000000  377.160004  373.480011   \n",
              "2024-01-03  23083500 -0.000728  373.859985  375.899994  366.769989   \n",
              "2024-01-04  20901500 -0.007178  369.010010  373.260010  368.510010   \n",
              "2024-01-05  20987000 -0.000516  370.670013  373.100006  367.170013   \n",
              "2024-01-08   3204970  0.006309  368.970001  372.059998  366.500000   \n",
              "\n",
              "                   clo         vol      SMA 15      SMA 60    MSD 15  \\\n",
              "date                                                                   \n",
              "2024-01-02  376.040009  18723000.0  373.042668  357.824169  0.008626   \n",
              "2024-01-03  370.869995  25258600.0  372.818667  358.682670  0.009107   \n",
              "2024-01-04  370.600006  23083500.0  372.772001  359.405003  0.008884   \n",
              "2024-01-05  367.940002  20901500.0  372.342668  360.040336  0.008738   \n",
              "2024-01-08  367.750000  20987000.0  371.901335  360.696336  0.008735   \n",
              "\n",
              "              MSD 60        VWAP        RSI  prediction  \n",
              "date                                                     \n",
              "2024-01-02  0.012340  374.814569  66.269702   -0.011222  \n",
              "2024-01-03  0.012523  373.876595  35.208612   -0.010957  \n",
              "2024-01-04  0.012186  372.984478  34.163347   -0.010632  \n",
              "2024-01-05  0.012221  372.107689  25.016826   -0.010765  \n",
              "2024-01-08  0.012198  371.044996  24.432769   -0.010812  "
            ],
            "text/html": [
              "\n",
              "  <div id=\"df-6063bdc4-4148-4ae1-ae3b-f6d2234b0f17\" class=\"colab-df-container\">\n",
              "    <div>\n",
              "<style scoped>\n",
              "    .dataframe tbody tr th:only-of-type {\n",
              "        vertical-align: middle;\n",
              "    }\n",
              "\n",
              "    .dataframe tbody tr th {\n",
              "        vertical-align: top;\n",
              "    }\n",
              "\n",
              "    .dataframe thead th {\n",
              "        text-align: right;\n",
              "    }\n",
              "</style>\n",
              "<table border=\"1\" class=\"dataframe\">\n",
              "  <thead>\n",
              "    <tr style=\"text-align: right;\">\n",
              "      <th></th>\n",
              "      <th>open</th>\n",
              "      <th>high</th>\n",
              "      <th>low</th>\n",
              "      <th>close</th>\n",
              "      <th>adj close</th>\n",
              "      <th>volume</th>\n",
              "      <th>retorno</th>\n",
              "      <th>op</th>\n",
              "      <th>hi</th>\n",
              "      <th>lo</th>\n",
              "      <th>clo</th>\n",
              "      <th>vol</th>\n",
              "      <th>SMA 15</th>\n",
              "      <th>SMA 60</th>\n",
              "      <th>MSD 15</th>\n",
              "      <th>MSD 60</th>\n",
              "      <th>VWAP</th>\n",
              "      <th>RSI</th>\n",
              "      <th>prediction</th>\n",
              "    </tr>\n",
              "    <tr>\n",
              "      <th>date</th>\n",
              "      <th></th>\n",
              "      <th></th>\n",
              "      <th></th>\n",
              "      <th></th>\n",
              "      <th></th>\n",
              "      <th></th>\n",
              "      <th></th>\n",
              "      <th></th>\n",
              "      <th></th>\n",
              "      <th></th>\n",
              "      <th></th>\n",
              "      <th></th>\n",
              "      <th></th>\n",
              "      <th></th>\n",
              "      <th></th>\n",
              "      <th></th>\n",
              "      <th></th>\n",
              "      <th></th>\n",
              "      <th></th>\n",
              "    </tr>\n",
              "  </thead>\n",
              "  <tbody>\n",
              "    <tr>\n",
              "      <th>2024-01-02</th>\n",
              "      <td>373.859985</td>\n",
              "      <td>375.899994</td>\n",
              "      <td>366.769989</td>\n",
              "      <td>370.869995</td>\n",
              "      <td>370.869995</td>\n",
              "      <td>25258600</td>\n",
              "      <td>-0.013749</td>\n",
              "      <td>376.000000</td>\n",
              "      <td>377.160004</td>\n",
              "      <td>373.480011</td>\n",
              "      <td>376.040009</td>\n",
              "      <td>18723000.0</td>\n",
              "      <td>373.042668</td>\n",
              "      <td>357.824169</td>\n",
              "      <td>0.008626</td>\n",
              "      <td>0.012340</td>\n",
              "      <td>374.814569</td>\n",
              "      <td>66.269702</td>\n",
              "      <td>-0.011222</td>\n",
              "    </tr>\n",
              "    <tr>\n",
              "      <th>2024-01-03</th>\n",
              "      <td>369.010010</td>\n",
              "      <td>373.260010</td>\n",
              "      <td>368.510010</td>\n",
              "      <td>370.600006</td>\n",
              "      <td>370.600006</td>\n",
              "      <td>23083500</td>\n",
              "      <td>-0.000728</td>\n",
              "      <td>373.859985</td>\n",
              "      <td>375.899994</td>\n",
              "      <td>366.769989</td>\n",
              "      <td>370.869995</td>\n",
              "      <td>25258600.0</td>\n",
              "      <td>372.818667</td>\n",
              "      <td>358.682670</td>\n",
              "      <td>0.009107</td>\n",
              "      <td>0.012523</td>\n",
              "      <td>373.876595</td>\n",
              "      <td>35.208612</td>\n",
              "      <td>-0.010957</td>\n",
              "    </tr>\n",
              "    <tr>\n",
              "      <th>2024-01-04</th>\n",
              "      <td>370.670013</td>\n",
              "      <td>373.100006</td>\n",
              "      <td>367.170013</td>\n",
              "      <td>367.940002</td>\n",
              "      <td>367.940002</td>\n",
              "      <td>20901500</td>\n",
              "      <td>-0.007178</td>\n",
              "      <td>369.010010</td>\n",
              "      <td>373.260010</td>\n",
              "      <td>368.510010</td>\n",
              "      <td>370.600006</td>\n",
              "      <td>23083500.0</td>\n",
              "      <td>372.772001</td>\n",
              "      <td>359.405003</td>\n",
              "      <td>0.008884</td>\n",
              "      <td>0.012186</td>\n",
              "      <td>372.984478</td>\n",
              "      <td>34.163347</td>\n",
              "      <td>-0.010632</td>\n",
              "    </tr>\n",
              "    <tr>\n",
              "      <th>2024-01-05</th>\n",
              "      <td>368.970001</td>\n",
              "      <td>372.059998</td>\n",
              "      <td>366.500000</td>\n",
              "      <td>367.750000</td>\n",
              "      <td>367.750000</td>\n",
              "      <td>20987000</td>\n",
              "      <td>-0.000516</td>\n",
              "      <td>370.670013</td>\n",
              "      <td>373.100006</td>\n",
              "      <td>367.170013</td>\n",
              "      <td>367.940002</td>\n",
              "      <td>20901500.0</td>\n",
              "      <td>372.342668</td>\n",
              "      <td>360.040336</td>\n",
              "      <td>0.008738</td>\n",
              "      <td>0.012221</td>\n",
              "      <td>372.107689</td>\n",
              "      <td>25.016826</td>\n",
              "      <td>-0.010765</td>\n",
              "    </tr>\n",
              "    <tr>\n",
              "      <th>2024-01-08</th>\n",
              "      <td>369.299988</td>\n",
              "      <td>370.970001</td>\n",
              "      <td>369.029999</td>\n",
              "      <td>370.070007</td>\n",
              "      <td>370.070007</td>\n",
              "      <td>3204970</td>\n",
              "      <td>0.006309</td>\n",
              "      <td>368.970001</td>\n",
              "      <td>372.059998</td>\n",
              "      <td>366.500000</td>\n",
              "      <td>367.750000</td>\n",
              "      <td>20987000.0</td>\n",
              "      <td>371.901335</td>\n",
              "      <td>360.696336</td>\n",
              "      <td>0.008735</td>\n",
              "      <td>0.012198</td>\n",
              "      <td>371.044996</td>\n",
              "      <td>24.432769</td>\n",
              "      <td>-0.010812</td>\n",
              "    </tr>\n",
              "  </tbody>\n",
              "</table>\n",
              "</div>\n",
              "    <div class=\"colab-df-buttons\">\n",
              "\n",
              "  <div class=\"colab-df-container\">\n",
              "    <button class=\"colab-df-convert\" onclick=\"convertToInteractive('df-6063bdc4-4148-4ae1-ae3b-f6d2234b0f17')\"\n",
              "            title=\"Convert this dataframe to an interactive table.\"\n",
              "            style=\"display:none;\">\n",
              "\n",
              "  <svg xmlns=\"http://www.w3.org/2000/svg\" height=\"24px\" viewBox=\"0 -960 960 960\">\n",
              "    <path d=\"M120-120v-720h720v720H120Zm60-500h600v-160H180v160Zm220 220h160v-160H400v160Zm0 220h160v-160H400v160ZM180-400h160v-160H180v160Zm440 0h160v-160H620v160ZM180-180h160v-160H180v160Zm440 0h160v-160H620v160Z\"/>\n",
              "  </svg>\n",
              "    </button>\n",
              "\n",
              "  <style>\n",
              "    .colab-df-container {\n",
              "      display:flex;\n",
              "      gap: 12px;\n",
              "    }\n",
              "\n",
              "    .colab-df-convert {\n",
              "      background-color: #E8F0FE;\n",
              "      border: none;\n",
              "      border-radius: 50%;\n",
              "      cursor: pointer;\n",
              "      display: none;\n",
              "      fill: #1967D2;\n",
              "      height: 32px;\n",
              "      padding: 0 0 0 0;\n",
              "      width: 32px;\n",
              "    }\n",
              "\n",
              "    .colab-df-convert:hover {\n",
              "      background-color: #E2EBFA;\n",
              "      box-shadow: 0px 1px 2px rgba(60, 64, 67, 0.3), 0px 1px 3px 1px rgba(60, 64, 67, 0.15);\n",
              "      fill: #174EA6;\n",
              "    }\n",
              "\n",
              "    .colab-df-buttons div {\n",
              "      margin-bottom: 4px;\n",
              "    }\n",
              "\n",
              "    [theme=dark] .colab-df-convert {\n",
              "      background-color: #3B4455;\n",
              "      fill: #D2E3FC;\n",
              "    }\n",
              "\n",
              "    [theme=dark] .colab-df-convert:hover {\n",
              "      background-color: #434B5C;\n",
              "      box-shadow: 0px 1px 3px 1px rgba(0, 0, 0, 0.15);\n",
              "      filter: drop-shadow(0px 1px 2px rgba(0, 0, 0, 0.3));\n",
              "      fill: #FFFFFF;\n",
              "    }\n",
              "  </style>\n",
              "\n",
              "    <script>\n",
              "      const buttonEl =\n",
              "        document.querySelector('#df-6063bdc4-4148-4ae1-ae3b-f6d2234b0f17 button.colab-df-convert');\n",
              "      buttonEl.style.display =\n",
              "        google.colab.kernel.accessAllowed ? 'block' : 'none';\n",
              "\n",
              "      async function convertToInteractive(key) {\n",
              "        const element = document.querySelector('#df-6063bdc4-4148-4ae1-ae3b-f6d2234b0f17');\n",
              "        const dataTable =\n",
              "          await google.colab.kernel.invokeFunction('convertToInteractive',\n",
              "                                                    [key], {});\n",
              "        if (!dataTable) return;\n",
              "\n",
              "        const docLinkHtml = 'Like what you see? Visit the ' +\n",
              "          '<a target=\"_blank\" href=https://colab.research.google.com/notebooks/data_table.ipynb>data table notebook</a>'\n",
              "          + ' to learn more about interactive tables.';\n",
              "        element.innerHTML = '';\n",
              "        dataTable['output_type'] = 'display_data';\n",
              "        await google.colab.output.renderOutput(dataTable, element);\n",
              "        const docLink = document.createElement('div');\n",
              "        docLink.innerHTML = docLinkHtml;\n",
              "        element.appendChild(docLink);\n",
              "      }\n",
              "    </script>\n",
              "  </div>\n",
              "\n",
              "\n",
              "<div id=\"df-b061b9a5-2034-4f59-8af4-26aea908cacb\">\n",
              "  <button class=\"colab-df-quickchart\" onclick=\"quickchart('df-b061b9a5-2034-4f59-8af4-26aea908cacb')\"\n",
              "            title=\"Suggest charts\"\n",
              "            style=\"display:none;\">\n",
              "\n",
              "<svg xmlns=\"http://www.w3.org/2000/svg\" height=\"24px\"viewBox=\"0 0 24 24\"\n",
              "     width=\"24px\">\n",
              "    <g>\n",
              "        <path d=\"M19 3H5c-1.1 0-2 .9-2 2v14c0 1.1.9 2 2 2h14c1.1 0 2-.9 2-2V5c0-1.1-.9-2-2-2zM9 17H7v-7h2v7zm4 0h-2V7h2v10zm4 0h-2v-4h2v4z\"/>\n",
              "    </g>\n",
              "</svg>\n",
              "  </button>\n",
              "\n",
              "<style>\n",
              "  .colab-df-quickchart {\n",
              "      --bg-color: #E8F0FE;\n",
              "      --fill-color: #1967D2;\n",
              "      --hover-bg-color: #E2EBFA;\n",
              "      --hover-fill-color: #174EA6;\n",
              "      --disabled-fill-color: #AAA;\n",
              "      --disabled-bg-color: #DDD;\n",
              "  }\n",
              "\n",
              "  [theme=dark] .colab-df-quickchart {\n",
              "      --bg-color: #3B4455;\n",
              "      --fill-color: #D2E3FC;\n",
              "      --hover-bg-color: #434B5C;\n",
              "      --hover-fill-color: #FFFFFF;\n",
              "      --disabled-bg-color: #3B4455;\n",
              "      --disabled-fill-color: #666;\n",
              "  }\n",
              "\n",
              "  .colab-df-quickchart {\n",
              "    background-color: var(--bg-color);\n",
              "    border: none;\n",
              "    border-radius: 50%;\n",
              "    cursor: pointer;\n",
              "    display: none;\n",
              "    fill: var(--fill-color);\n",
              "    height: 32px;\n",
              "    padding: 0;\n",
              "    width: 32px;\n",
              "  }\n",
              "\n",
              "  .colab-df-quickchart:hover {\n",
              "    background-color: var(--hover-bg-color);\n",
              "    box-shadow: 0 1px 2px rgba(60, 64, 67, 0.3), 0 1px 3px 1px rgba(60, 64, 67, 0.15);\n",
              "    fill: var(--button-hover-fill-color);\n",
              "  }\n",
              "\n",
              "  .colab-df-quickchart-complete:disabled,\n",
              "  .colab-df-quickchart-complete:disabled:hover {\n",
              "    background-color: var(--disabled-bg-color);\n",
              "    fill: var(--disabled-fill-color);\n",
              "    box-shadow: none;\n",
              "  }\n",
              "\n",
              "  .colab-df-spinner {\n",
              "    border: 2px solid var(--fill-color);\n",
              "    border-color: transparent;\n",
              "    border-bottom-color: var(--fill-color);\n",
              "    animation:\n",
              "      spin 1s steps(1) infinite;\n",
              "  }\n",
              "\n",
              "  @keyframes spin {\n",
              "    0% {\n",
              "      border-color: transparent;\n",
              "      border-bottom-color: var(--fill-color);\n",
              "      border-left-color: var(--fill-color);\n",
              "    }\n",
              "    20% {\n",
              "      border-color: transparent;\n",
              "      border-left-color: var(--fill-color);\n",
              "      border-top-color: var(--fill-color);\n",
              "    }\n",
              "    30% {\n",
              "      border-color: transparent;\n",
              "      border-left-color: var(--fill-color);\n",
              "      border-top-color: var(--fill-color);\n",
              "      border-right-color: var(--fill-color);\n",
              "    }\n",
              "    40% {\n",
              "      border-color: transparent;\n",
              "      border-right-color: var(--fill-color);\n",
              "      border-top-color: var(--fill-color);\n",
              "    }\n",
              "    60% {\n",
              "      border-color: transparent;\n",
              "      border-right-color: var(--fill-color);\n",
              "    }\n",
              "    80% {\n",
              "      border-color: transparent;\n",
              "      border-right-color: var(--fill-color);\n",
              "      border-bottom-color: var(--fill-color);\n",
              "    }\n",
              "    90% {\n",
              "      border-color: transparent;\n",
              "      border-bottom-color: var(--fill-color);\n",
              "    }\n",
              "  }\n",
              "</style>\n",
              "\n",
              "  <script>\n",
              "    async function quickchart(key) {\n",
              "      const quickchartButtonEl =\n",
              "        document.querySelector('#' + key + ' button');\n",
              "      quickchartButtonEl.disabled = true;  // To prevent multiple clicks.\n",
              "      quickchartButtonEl.classList.add('colab-df-spinner');\n",
              "      try {\n",
              "        const charts = await google.colab.kernel.invokeFunction(\n",
              "            'suggestCharts', [key], {});\n",
              "      } catch (error) {\n",
              "        console.error('Error during call to suggestCharts:', error);\n",
              "      }\n",
              "      quickchartButtonEl.classList.remove('colab-df-spinner');\n",
              "      quickchartButtonEl.classList.add('colab-df-quickchart-complete');\n",
              "    }\n",
              "    (() => {\n",
              "      let quickchartButtonEl =\n",
              "        document.querySelector('#df-b061b9a5-2034-4f59-8af4-26aea908cacb button');\n",
              "      quickchartButtonEl.style.display =\n",
              "        google.colab.kernel.accessAllowed ? 'block' : 'none';\n",
              "    })();\n",
              "  </script>\n",
              "</div>\n",
              "\n",
              "    </div>\n",
              "  </div>\n"
            ]
          },
          "metadata": {},
          "execution_count": 53
        }
      ]
    },
    {
      "cell_type": "markdown",
      "source": [
        "A linha de código abaixo está criando uma nova coluna chamada \"strategy\" no DataFrame df. Os valores para essa coluna são calculados tomando a coluna \"retorno\" e multiplicando-a pelo sinal da previsão do dia anterior (obtido através de df[\"prediction\"].shift(1)).\n",
        "\n",
        "A função np.sign retorna -1 se o número for negativo, 0 se o número for zero e 1 se o número for positivo.\n",
        "\n",
        "Ao usar shift(1), você está pegando os valores de \"prediction\" do dia anterior, porque shift(1) desloca os valores para baixo em uma linha.\n",
        "\n",
        "#Em outras palavras, a estratégia aqui é que se a previsão do dia anterior era positiva, então você assume uma posição longa (compra) e seu retorno é simplesmente o retorno do ativo. Se a previsão do dia anterior era negativa, então você assume uma posição curta (vende), e o seu retorno é o negativo do retorno do ativo (porque quando você vende um ativo a descoberto, você ganha dinheiro quando o preço cai).\n",
        "\n",
        "É uma estratégia de negociação baseada nas previsões do dia anterior. Essa estratégia presume que você pode perfeitamente cronometrar suas negociações no final do dia com base nas previsões do dia anterior.\n",
        "\n",
        "Nota: A execução dessa estratégia seria um pouco mais complicada e incluiria custos de transação."
      ],
      "metadata": {
        "id": "3kpokJA57Ud7"
      }
    },
    {
      "cell_type": "code",
      "source": [
        "# Calcula a estratégia\n",
        "#sign= -1(retorno negativo), 0(se for zero) e 1 (se for positivo)\n",
        "#shift(1) leva em consideração o dia anterior.\n",
        "df[\"strategy\"] = df[\"retorno\"] * np.sign(df[\"prediction\"].shift(1))\n",
        "#A linha de código abaixo está criando uma nova coluna chamada \"strategy\"\n",
        "# no DataFrame df. Os valores para essa coluna são calculados tomando a\n",
        "#coluna \"retorno\" e multiplicando-a pelo sinal da previsão do dia anterior\n",
        "#(obtido através de df[\"prediction\"].shift(1))."
      ],
      "metadata": {
        "id": "nGd1RrhA677t"
      },
      "execution_count": 54,
      "outputs": []
    },
    {
      "cell_type": "code",
      "source": [
        "df.tail()"
      ],
      "metadata": {
        "colab": {
          "base_uri": "https://localhost:8080/",
          "height": 344
        },
        "id": "Rgp9ZUYn-GpV",
        "outputId": "6174e9e7-eb33-4184-fe66-3dbf8ee213b3"
      },
      "execution_count": 55,
      "outputs": [
        {
          "output_type": "execute_result",
          "data": {
            "text/plain": [
              "                  open        high         low       close   adj close  \\\n",
              "date                                                                     \n",
              "2024-01-02  373.859985  375.899994  366.769989  370.869995  370.869995   \n",
              "2024-01-03  369.010010  373.260010  368.510010  370.600006  370.600006   \n",
              "2024-01-04  370.670013  373.100006  367.170013  367.940002  367.940002   \n",
              "2024-01-05  368.970001  372.059998  366.500000  367.750000  367.750000   \n",
              "2024-01-08  369.299988  370.970001  369.029999  370.070007  370.070007   \n",
              "\n",
              "              volume   retorno          op          hi          lo  \\\n",
              "date                                                                 \n",
              "2024-01-02  25258600 -0.013749  376.000000  377.160004  373.480011   \n",
              "2024-01-03  23083500 -0.000728  373.859985  375.899994  366.769989   \n",
              "2024-01-04  20901500 -0.007178  369.010010  373.260010  368.510010   \n",
              "2024-01-05  20987000 -0.000516  370.670013  373.100006  367.170013   \n",
              "2024-01-08   3204970  0.006309  368.970001  372.059998  366.500000   \n",
              "\n",
              "                   clo         vol      SMA 15      SMA 60    MSD 15  \\\n",
              "date                                                                   \n",
              "2024-01-02  376.040009  18723000.0  373.042668  357.824169  0.008626   \n",
              "2024-01-03  370.869995  25258600.0  372.818667  358.682670  0.009107   \n",
              "2024-01-04  370.600006  23083500.0  372.772001  359.405003  0.008884   \n",
              "2024-01-05  367.940002  20901500.0  372.342668  360.040336  0.008738   \n",
              "2024-01-08  367.750000  20987000.0  371.901335  360.696336  0.008735   \n",
              "\n",
              "              MSD 60        VWAP        RSI  prediction  strategy  \n",
              "date                                                               \n",
              "2024-01-02  0.012340  374.814569  66.269702   -0.011222  0.013749  \n",
              "2024-01-03  0.012523  373.876595  35.208612   -0.010957  0.000728  \n",
              "2024-01-04  0.012186  372.984478  34.163347   -0.010632  0.007178  \n",
              "2024-01-05  0.012221  372.107689  25.016826   -0.010765  0.000516  \n",
              "2024-01-08  0.012198  371.044996  24.432769   -0.010812 -0.006309  "
            ],
            "text/html": [
              "\n",
              "  <div id=\"df-0feb7c66-39c8-46ed-ac07-b268a54bd152\" class=\"colab-df-container\">\n",
              "    <div>\n",
              "<style scoped>\n",
              "    .dataframe tbody tr th:only-of-type {\n",
              "        vertical-align: middle;\n",
              "    }\n",
              "\n",
              "    .dataframe tbody tr th {\n",
              "        vertical-align: top;\n",
              "    }\n",
              "\n",
              "    .dataframe thead th {\n",
              "        text-align: right;\n",
              "    }\n",
              "</style>\n",
              "<table border=\"1\" class=\"dataframe\">\n",
              "  <thead>\n",
              "    <tr style=\"text-align: right;\">\n",
              "      <th></th>\n",
              "      <th>open</th>\n",
              "      <th>high</th>\n",
              "      <th>low</th>\n",
              "      <th>close</th>\n",
              "      <th>adj close</th>\n",
              "      <th>volume</th>\n",
              "      <th>retorno</th>\n",
              "      <th>op</th>\n",
              "      <th>hi</th>\n",
              "      <th>lo</th>\n",
              "      <th>clo</th>\n",
              "      <th>vol</th>\n",
              "      <th>SMA 15</th>\n",
              "      <th>SMA 60</th>\n",
              "      <th>MSD 15</th>\n",
              "      <th>MSD 60</th>\n",
              "      <th>VWAP</th>\n",
              "      <th>RSI</th>\n",
              "      <th>prediction</th>\n",
              "      <th>strategy</th>\n",
              "    </tr>\n",
              "    <tr>\n",
              "      <th>date</th>\n",
              "      <th></th>\n",
              "      <th></th>\n",
              "      <th></th>\n",
              "      <th></th>\n",
              "      <th></th>\n",
              "      <th></th>\n",
              "      <th></th>\n",
              "      <th></th>\n",
              "      <th></th>\n",
              "      <th></th>\n",
              "      <th></th>\n",
              "      <th></th>\n",
              "      <th></th>\n",
              "      <th></th>\n",
              "      <th></th>\n",
              "      <th></th>\n",
              "      <th></th>\n",
              "      <th></th>\n",
              "      <th></th>\n",
              "      <th></th>\n",
              "    </tr>\n",
              "  </thead>\n",
              "  <tbody>\n",
              "    <tr>\n",
              "      <th>2024-01-02</th>\n",
              "      <td>373.859985</td>\n",
              "      <td>375.899994</td>\n",
              "      <td>366.769989</td>\n",
              "      <td>370.869995</td>\n",
              "      <td>370.869995</td>\n",
              "      <td>25258600</td>\n",
              "      <td>-0.013749</td>\n",
              "      <td>376.000000</td>\n",
              "      <td>377.160004</td>\n",
              "      <td>373.480011</td>\n",
              "      <td>376.040009</td>\n",
              "      <td>18723000.0</td>\n",
              "      <td>373.042668</td>\n",
              "      <td>357.824169</td>\n",
              "      <td>0.008626</td>\n",
              "      <td>0.012340</td>\n",
              "      <td>374.814569</td>\n",
              "      <td>66.269702</td>\n",
              "      <td>-0.011222</td>\n",
              "      <td>0.013749</td>\n",
              "    </tr>\n",
              "    <tr>\n",
              "      <th>2024-01-03</th>\n",
              "      <td>369.010010</td>\n",
              "      <td>373.260010</td>\n",
              "      <td>368.510010</td>\n",
              "      <td>370.600006</td>\n",
              "      <td>370.600006</td>\n",
              "      <td>23083500</td>\n",
              "      <td>-0.000728</td>\n",
              "      <td>373.859985</td>\n",
              "      <td>375.899994</td>\n",
              "      <td>366.769989</td>\n",
              "      <td>370.869995</td>\n",
              "      <td>25258600.0</td>\n",
              "      <td>372.818667</td>\n",
              "      <td>358.682670</td>\n",
              "      <td>0.009107</td>\n",
              "      <td>0.012523</td>\n",
              "      <td>373.876595</td>\n",
              "      <td>35.208612</td>\n",
              "      <td>-0.010957</td>\n",
              "      <td>0.000728</td>\n",
              "    </tr>\n",
              "    <tr>\n",
              "      <th>2024-01-04</th>\n",
              "      <td>370.670013</td>\n",
              "      <td>373.100006</td>\n",
              "      <td>367.170013</td>\n",
              "      <td>367.940002</td>\n",
              "      <td>367.940002</td>\n",
              "      <td>20901500</td>\n",
              "      <td>-0.007178</td>\n",
              "      <td>369.010010</td>\n",
              "      <td>373.260010</td>\n",
              "      <td>368.510010</td>\n",
              "      <td>370.600006</td>\n",
              "      <td>23083500.0</td>\n",
              "      <td>372.772001</td>\n",
              "      <td>359.405003</td>\n",
              "      <td>0.008884</td>\n",
              "      <td>0.012186</td>\n",
              "      <td>372.984478</td>\n",
              "      <td>34.163347</td>\n",
              "      <td>-0.010632</td>\n",
              "      <td>0.007178</td>\n",
              "    </tr>\n",
              "    <tr>\n",
              "      <th>2024-01-05</th>\n",
              "      <td>368.970001</td>\n",
              "      <td>372.059998</td>\n",
              "      <td>366.500000</td>\n",
              "      <td>367.750000</td>\n",
              "      <td>367.750000</td>\n",
              "      <td>20987000</td>\n",
              "      <td>-0.000516</td>\n",
              "      <td>370.670013</td>\n",
              "      <td>373.100006</td>\n",
              "      <td>367.170013</td>\n",
              "      <td>367.940002</td>\n",
              "      <td>20901500.0</td>\n",
              "      <td>372.342668</td>\n",
              "      <td>360.040336</td>\n",
              "      <td>0.008738</td>\n",
              "      <td>0.012221</td>\n",
              "      <td>372.107689</td>\n",
              "      <td>25.016826</td>\n",
              "      <td>-0.010765</td>\n",
              "      <td>0.000516</td>\n",
              "    </tr>\n",
              "    <tr>\n",
              "      <th>2024-01-08</th>\n",
              "      <td>369.299988</td>\n",
              "      <td>370.970001</td>\n",
              "      <td>369.029999</td>\n",
              "      <td>370.070007</td>\n",
              "      <td>370.070007</td>\n",
              "      <td>3204970</td>\n",
              "      <td>0.006309</td>\n",
              "      <td>368.970001</td>\n",
              "      <td>372.059998</td>\n",
              "      <td>366.500000</td>\n",
              "      <td>367.750000</td>\n",
              "      <td>20987000.0</td>\n",
              "      <td>371.901335</td>\n",
              "      <td>360.696336</td>\n",
              "      <td>0.008735</td>\n",
              "      <td>0.012198</td>\n",
              "      <td>371.044996</td>\n",
              "      <td>24.432769</td>\n",
              "      <td>-0.010812</td>\n",
              "      <td>-0.006309</td>\n",
              "    </tr>\n",
              "  </tbody>\n",
              "</table>\n",
              "</div>\n",
              "    <div class=\"colab-df-buttons\">\n",
              "\n",
              "  <div class=\"colab-df-container\">\n",
              "    <button class=\"colab-df-convert\" onclick=\"convertToInteractive('df-0feb7c66-39c8-46ed-ac07-b268a54bd152')\"\n",
              "            title=\"Convert this dataframe to an interactive table.\"\n",
              "            style=\"display:none;\">\n",
              "\n",
              "  <svg xmlns=\"http://www.w3.org/2000/svg\" height=\"24px\" viewBox=\"0 -960 960 960\">\n",
              "    <path d=\"M120-120v-720h720v720H120Zm60-500h600v-160H180v160Zm220 220h160v-160H400v160Zm0 220h160v-160H400v160ZM180-400h160v-160H180v160Zm440 0h160v-160H620v160ZM180-180h160v-160H180v160Zm440 0h160v-160H620v160Z\"/>\n",
              "  </svg>\n",
              "    </button>\n",
              "\n",
              "  <style>\n",
              "    .colab-df-container {\n",
              "      display:flex;\n",
              "      gap: 12px;\n",
              "    }\n",
              "\n",
              "    .colab-df-convert {\n",
              "      background-color: #E8F0FE;\n",
              "      border: none;\n",
              "      border-radius: 50%;\n",
              "      cursor: pointer;\n",
              "      display: none;\n",
              "      fill: #1967D2;\n",
              "      height: 32px;\n",
              "      padding: 0 0 0 0;\n",
              "      width: 32px;\n",
              "    }\n",
              "\n",
              "    .colab-df-convert:hover {\n",
              "      background-color: #E2EBFA;\n",
              "      box-shadow: 0px 1px 2px rgba(60, 64, 67, 0.3), 0px 1px 3px 1px rgba(60, 64, 67, 0.15);\n",
              "      fill: #174EA6;\n",
              "    }\n",
              "\n",
              "    .colab-df-buttons div {\n",
              "      margin-bottom: 4px;\n",
              "    }\n",
              "\n",
              "    [theme=dark] .colab-df-convert {\n",
              "      background-color: #3B4455;\n",
              "      fill: #D2E3FC;\n",
              "    }\n",
              "\n",
              "    [theme=dark] .colab-df-convert:hover {\n",
              "      background-color: #434B5C;\n",
              "      box-shadow: 0px 1px 3px 1px rgba(0, 0, 0, 0.15);\n",
              "      filter: drop-shadow(0px 1px 2px rgba(0, 0, 0, 0.3));\n",
              "      fill: #FFFFFF;\n",
              "    }\n",
              "  </style>\n",
              "\n",
              "    <script>\n",
              "      const buttonEl =\n",
              "        document.querySelector('#df-0feb7c66-39c8-46ed-ac07-b268a54bd152 button.colab-df-convert');\n",
              "      buttonEl.style.display =\n",
              "        google.colab.kernel.accessAllowed ? 'block' : 'none';\n",
              "\n",
              "      async function convertToInteractive(key) {\n",
              "        const element = document.querySelector('#df-0feb7c66-39c8-46ed-ac07-b268a54bd152');\n",
              "        const dataTable =\n",
              "          await google.colab.kernel.invokeFunction('convertToInteractive',\n",
              "                                                    [key], {});\n",
              "        if (!dataTable) return;\n",
              "\n",
              "        const docLinkHtml = 'Like what you see? Visit the ' +\n",
              "          '<a target=\"_blank\" href=https://colab.research.google.com/notebooks/data_table.ipynb>data table notebook</a>'\n",
              "          + ' to learn more about interactive tables.';\n",
              "        element.innerHTML = '';\n",
              "        dataTable['output_type'] = 'display_data';\n",
              "        await google.colab.output.renderOutput(dataTable, element);\n",
              "        const docLink = document.createElement('div');\n",
              "        docLink.innerHTML = docLinkHtml;\n",
              "        element.appendChild(docLink);\n",
              "      }\n",
              "    </script>\n",
              "  </div>\n",
              "\n",
              "\n",
              "<div id=\"df-2bbae626-48e4-4903-9688-9e4b23361707\">\n",
              "  <button class=\"colab-df-quickchart\" onclick=\"quickchart('df-2bbae626-48e4-4903-9688-9e4b23361707')\"\n",
              "            title=\"Suggest charts\"\n",
              "            style=\"display:none;\">\n",
              "\n",
              "<svg xmlns=\"http://www.w3.org/2000/svg\" height=\"24px\"viewBox=\"0 0 24 24\"\n",
              "     width=\"24px\">\n",
              "    <g>\n",
              "        <path d=\"M19 3H5c-1.1 0-2 .9-2 2v14c0 1.1.9 2 2 2h14c1.1 0 2-.9 2-2V5c0-1.1-.9-2-2-2zM9 17H7v-7h2v7zm4 0h-2V7h2v10zm4 0h-2v-4h2v4z\"/>\n",
              "    </g>\n",
              "</svg>\n",
              "  </button>\n",
              "\n",
              "<style>\n",
              "  .colab-df-quickchart {\n",
              "      --bg-color: #E8F0FE;\n",
              "      --fill-color: #1967D2;\n",
              "      --hover-bg-color: #E2EBFA;\n",
              "      --hover-fill-color: #174EA6;\n",
              "      --disabled-fill-color: #AAA;\n",
              "      --disabled-bg-color: #DDD;\n",
              "  }\n",
              "\n",
              "  [theme=dark] .colab-df-quickchart {\n",
              "      --bg-color: #3B4455;\n",
              "      --fill-color: #D2E3FC;\n",
              "      --hover-bg-color: #434B5C;\n",
              "      --hover-fill-color: #FFFFFF;\n",
              "      --disabled-bg-color: #3B4455;\n",
              "      --disabled-fill-color: #666;\n",
              "  }\n",
              "\n",
              "  .colab-df-quickchart {\n",
              "    background-color: var(--bg-color);\n",
              "    border: none;\n",
              "    border-radius: 50%;\n",
              "    cursor: pointer;\n",
              "    display: none;\n",
              "    fill: var(--fill-color);\n",
              "    height: 32px;\n",
              "    padding: 0;\n",
              "    width: 32px;\n",
              "  }\n",
              "\n",
              "  .colab-df-quickchart:hover {\n",
              "    background-color: var(--hover-bg-color);\n",
              "    box-shadow: 0 1px 2px rgba(60, 64, 67, 0.3), 0 1px 3px 1px rgba(60, 64, 67, 0.15);\n",
              "    fill: var(--button-hover-fill-color);\n",
              "  }\n",
              "\n",
              "  .colab-df-quickchart-complete:disabled,\n",
              "  .colab-df-quickchart-complete:disabled:hover {\n",
              "    background-color: var(--disabled-bg-color);\n",
              "    fill: var(--disabled-fill-color);\n",
              "    box-shadow: none;\n",
              "  }\n",
              "\n",
              "  .colab-df-spinner {\n",
              "    border: 2px solid var(--fill-color);\n",
              "    border-color: transparent;\n",
              "    border-bottom-color: var(--fill-color);\n",
              "    animation:\n",
              "      spin 1s steps(1) infinite;\n",
              "  }\n",
              "\n",
              "  @keyframes spin {\n",
              "    0% {\n",
              "      border-color: transparent;\n",
              "      border-bottom-color: var(--fill-color);\n",
              "      border-left-color: var(--fill-color);\n",
              "    }\n",
              "    20% {\n",
              "      border-color: transparent;\n",
              "      border-left-color: var(--fill-color);\n",
              "      border-top-color: var(--fill-color);\n",
              "    }\n",
              "    30% {\n",
              "      border-color: transparent;\n",
              "      border-left-color: var(--fill-color);\n",
              "      border-top-color: var(--fill-color);\n",
              "      border-right-color: var(--fill-color);\n",
              "    }\n",
              "    40% {\n",
              "      border-color: transparent;\n",
              "      border-right-color: var(--fill-color);\n",
              "      border-top-color: var(--fill-color);\n",
              "    }\n",
              "    60% {\n",
              "      border-color: transparent;\n",
              "      border-right-color: var(--fill-color);\n",
              "    }\n",
              "    80% {\n",
              "      border-color: transparent;\n",
              "      border-right-color: var(--fill-color);\n",
              "      border-bottom-color: var(--fill-color);\n",
              "    }\n",
              "    90% {\n",
              "      border-color: transparent;\n",
              "      border-bottom-color: var(--fill-color);\n",
              "    }\n",
              "  }\n",
              "</style>\n",
              "\n",
              "  <script>\n",
              "    async function quickchart(key) {\n",
              "      const quickchartButtonEl =\n",
              "        document.querySelector('#' + key + ' button');\n",
              "      quickchartButtonEl.disabled = true;  // To prevent multiple clicks.\n",
              "      quickchartButtonEl.classList.add('colab-df-spinner');\n",
              "      try {\n",
              "        const charts = await google.colab.kernel.invokeFunction(\n",
              "            'suggestCharts', [key], {});\n",
              "      } catch (error) {\n",
              "        console.error('Error during call to suggestCharts:', error);\n",
              "      }\n",
              "      quickchartButtonEl.classList.remove('colab-df-spinner');\n",
              "      quickchartButtonEl.classList.add('colab-df-quickchart-complete');\n",
              "    }\n",
              "    (() => {\n",
              "      let quickchartButtonEl =\n",
              "        document.querySelector('#df-2bbae626-48e4-4903-9688-9e4b23361707 button');\n",
              "      quickchartButtonEl.style.display =\n",
              "        google.colab.kernel.accessAllowed ? 'block' : 'none';\n",
              "    })();\n",
              "  </script>\n",
              "</div>\n",
              "\n",
              "    </div>\n",
              "  </div>\n"
            ]
          },
          "metadata": {},
          "execution_count": 55
        }
      ]
    },
    {
      "cell_type": "code",
      "source": [
        "# Plot do acumulado\n",
        "df[\"strategy\"].iloc[:].cumsum().plot()#pega toda coluna strategy\n",
        "#aplica a função soma acumulada para ver ao longo do tempo\n",
        "plt.show()"
      ],
      "metadata": {
        "colab": {
          "base_uri": "https://localhost:8080/",
          "height": 422
        },
        "id": "rq1vSHAi-IXA",
        "outputId": "d7ae7575-c8a9-4727-cbf2-120dca00ec74"
      },
      "execution_count": 56,
      "outputs": [
        {
          "output_type": "display_data",
          "data": {
            "text/plain": [
              "<Figure size 640x480 with 1 Axes>"
            ],
            "image/png": "[encoded data removed]"
          },
          "metadata": {}
        }
      ]
    },
    {
      "cell_type": "markdown",
      "source": [
        "Investir nas ações da Microsoft, aparentemente, pode gerar retorno positivo ao longo do tempo."
      ],
      "metadata": {
        "id": "XXYhsuof_ICT"
      }
    },
    {
      "cell_type": "markdown",
      "source": [
        "#FIM"
      ],
      "metadata": {
        "id": "gVqKRVmh_qrc"
      }
    },
    {
      "cell_type": "code",
      "source": [],
      "metadata": {
        "id": "ED3vwcU_-amK"
      },
      "execution_count": null,
      "outputs": []
    }
  ]
}